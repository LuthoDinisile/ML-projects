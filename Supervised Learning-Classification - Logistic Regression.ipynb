{
  "cells": [
    {
      "cell_type": "markdown",
      "metadata": {
        "id": "nQi4VaCuLlOj"
      },
      "source": []
    },
    {
      "cell_type": "markdown",
      "metadata": {
        "id": "xUW0xUcsLmgk"
      },
      "source": [
        "#PDAN8412 ASSIGNMENT 2 : LOGISTIC REGRESSION"
      ]
    },
    {
      "cell_type": "markdown",
      "metadata": {
        "id": "ttF-R6H6L4_y"
      },
      "source": [
        "**Dataset source:**<br>\n",
        "Kaggle Datasets<br>\n",
        "Author: Yakhyojon<br>\n",
        "Link:  https://www.kaggle.com/code/yakhyojon/airline-customer-satisfaction-logistic-regression"
      ]
    },
    {
      "cell_type": "markdown",
      "metadata": {
        "id": "XliO6cNaOI0e"
      },
      "source": [
        "**Logistic Regression**\n",
        "\n",
        "Kanade(2022) defines Logistic regression as a  supervised classification Machine Learning algorithm that uses probability to predict an outcome.Logistic regression is often used when the target variable is categorical(Swaminathan 2022),and,although also can be used for multi-class classification,is popularly used for binary classification.Logistic regression is built at the back of Linear regression, but it is used for a different type of prediction and modeling.While in Linear regression, the dependent variable is continuous, which means it can take any real-numbered value,in logistic regression, the dependent variable is categorical and (mostly)binary.<br>\n",
        "\n",
        "Logistic regression uses the sigmoid function to model the relationship between the independent variables and estimates the probability of the dependent variable taking a particular value. Linear regression's equation tries to find a best fitting line on the dataset, where the input values are combined linearly to predict an output value using weights or coefficient values.Logistic Regression's equation is similar,however,The sigmoid function converts any real value to a range between 0 and 1.\n",
        "\n",
        "To measure how well the model is perfoming,Logistic regression uses cross entropy as a loss function,where the difference between the actual and predicted output is calculated.To reduce these differences,an optimisation algorithm called Gradient descent is used with a specified learning rate to adjust the weight and bias in the sigmoid function,and improve the model's ability to predict probability.\n",
        "\n",
        "Kanade,V.2022.What Is Logistic Regression? Equation, Assumptions, Types, and Best Practices; Spiceworks, 18 April 2022.[Online].Available at: https://www.spiceworks.com/tech/artificial-intelligence/articles/what-is-logistic-regression/\n",
        "\n",
        "Swaminathan, S.2018. Logistic Regression — Detailed Overview,Towards Data Science, 15 March 2018.[Online].Available at:https://towardsdatascience.com/logistic-regression-detailed-overview-46c4da4303bc"
      ]
    },
    {
      "cell_type": "markdown",
      "metadata": {
        "id": "eGl4bDLoT9Rj"
      },
      "source": [
        "**The Dataset**<br>\n",
        "The dataset is from Invistico Airlines and consists of over 120 000 customer surveys with customer information and airline service ratings.The data was used to survey customer satisfaction.\n",
        "As mentioned above, Logistic regression is best used for binary classification problems,the dataset I am using is a binary classification dataset with Airline customer satisfaction/disatisfaction feedback. The different attributes in the survery are used as features,and Logistric regression has the ability to combine different features to make an independent variable,to predict the target variable.This data has 21 different features and allows for the model to combine them for the x variable,and the LR model is able to show which features are suitable to be able to predict a customers satisfaction rating."
      ]
    },
    {
      "cell_type": "markdown",
      "metadata": {
        "id": "QfjGCq4J_6Wg"
      },
      "source": [
        "**The Analysis**\n",
        "The purpose of this analysis to use the features in the 21 columns available on the dataset to be able to predict if customer satisfaction, based on their personal data,booking information and ratings on the service.This would be helpful study to improve services through studying the relationship between the users information/rating and the satisfaction output.The analysis will be done in the followinf steps:\n",
        "\n",
        "1.\tEDA(Pandas and Pyspark):\n",
        "•\tUnderstanding the dataset structure (rows,columns,datatypes)<br>\n",
        "•\tChecking for missing data<br>\n",
        "•\tVisualising the data to gain insights into feature distributions and relationships.<br>\n",
        "\n",
        "2.\tData Preprocessing (Preparing the Feature Variables):\n",
        "•\tIdentifying the Feature columns(independent variables) removing null values<br>\n",
        "•\tEncoding categorical variables <br>\n",
        "•\tScaling numerical features<br>\n",
        "•\tIdentifying the target column<br>\n",
        "•\tSplit the dataset into training and testing sets <br>\n",
        "\n",
        "3.\tFeature Selection:\n",
        "•\tAs mentioned above, there are 21 different features in the dataset. feature selection techniques might be used to identify which features are most relevant for predicting customer satisfaction.\n",
        "•\tYou can use methods like feature importance, correlation analysis, or recursive feature elimination to select the most informative features.\n",
        "4.\tModel The Building:\n",
        "•\tSetting up the parameters for my model,including the Learning rate, weights and bias, number of iterations<br>\n",
        "•\tDefining the sigmoid function, gradient descent and loss function<br>\n",
        "•\tBuild a logistic regression model from scratch to predict customer satisfaction based on the selected features.<br>\n",
        "•\tTrain the model using the training data and assess its performance using the testing data.<br>\n",
        "\n",
        "5. Model Optimisation:\n",
        "•\tFine-tuning the model by adjusting hyperparameters of my model including: the number of iterations,learning rate and adjusting the weights & bias<br>\n",
        "•\tPerform cross-validation to ensure the model's robustness and generalisation to unseen<br>\n",
        "\n",
        "6.\tModel Evaluation:\n",
        "•\tEvaluating the model's performance using metrics such as accuracy, precision, recall scores.<br>\n",
        "•\tExamining the confusion matrix to understand how well the model classifies satisfied and dissatisfied customers.<br>\n",
        "\n",
        "\n"
      ]
    },
    {
      "cell_type": "code",
      "execution_count": null,
      "metadata": {
        "colab": {
          "base_uri": "https://localhost:8080/"
        },
        "id": "nz0QF0ZPsaoR",
        "outputId": "22256467-de7a-4f25-8a85-f1a99896ac90"
      },
      "outputs": [
        {
          "name": "stdout",
          "output_type": "stream",
          "text": [
            "Collecting spark\n",
            "  Downloading spark-0.2.1.tar.gz (41 kB)\n",
            "\u001b[2K     \u001b[90m━━━━━━━━━━━━━━━━━━━━━━━━━━━━━━━━━━━━━━━━\u001b[0m \u001b[32m41.0/41.0 kB\u001b[0m \u001b[31m1.2 MB/s\u001b[0m eta \u001b[36m0:00:00\u001b[0m\n",
            "\u001b[?25h  Preparing metadata (setup.py) ... \u001b[?25l\u001b[?25hdone\n",
            "Building wheels for collected packages: spark\n",
            "  Building wheel for spark (setup.py) ... \u001b[?25l\u001b[?25hdone\n",
            "  Created wheel for spark: filename=spark-0.2.1-py3-none-any.whl size=58748 sha256=63131a64b38175763724eb3c14340ecc984531f78d4f31405126621328aa257b\n",
            "  Stored in directory: /root/.cache/pip/wheels/63/88/77/b4131110ea4094540f7b47c6d62a649807d7e94800da5eab0b\n",
            "Successfully built spark\n",
            "Installing collected packages: spark\n",
            "Successfully installed spark-0.2.1\n"
          ]
        }
      ],
      "source": [
        "pip install spark"
      ]
    },
    {
      "cell_type": "code",
      "execution_count": null,
      "metadata": {
        "colab": {
          "base_uri": "https://localhost:8080/"
        },
        "id": "pZCqmykmtPBv",
        "outputId": "e04dfc7f-5550-4071-eee3-60ff3932b01a"
      },
      "outputs": [
        {
          "name": "stdout",
          "output_type": "stream",
          "text": [
            "Collecting pyspark\n",
            "  Downloading pyspark-3.5.0.tar.gz (316.9 MB)\n",
            "\u001b[2K     \u001b[90m━━━━━━━━━━━━━━━━━━━━━━━━━━━━━━━━━━━━━━━━\u001b[0m \u001b[32m316.9/316.9 MB\u001b[0m \u001b[31m2.2 MB/s\u001b[0m eta \u001b[36m0:00:00\u001b[0m\n",
            "\u001b[?25h  Preparing metadata (setup.py) ... \u001b[?25l\u001b[?25hdone\n",
            "Requirement already satisfied: py4j==0.10.9.7 in /usr/local/lib/python3.10/dist-packages (from pyspark) (0.10.9.7)\n",
            "Building wheels for collected packages: pyspark\n",
            "  Building wheel for pyspark (setup.py) ... \u001b[?25l\u001b[?25hdone\n",
            "  Created wheel for pyspark: filename=pyspark-3.5.0-py2.py3-none-any.whl size=317425344 sha256=7007227c3d8351cb5488528a35d54053fff2be5ac7d0a10205889a27f20521ea\n",
            "  Stored in directory: /root/.cache/pip/wheels/41/4e/10/c2cf2467f71c678cfc8a6b9ac9241e5e44a01940da8fbb17fc\n",
            "Successfully built pyspark\n",
            "Installing collected packages: pyspark\n",
            "Successfully installed pyspark-3.5.0\n"
          ]
        }
      ],
      "source": [
        "pip install pyspark"
      ]
    },
    {
      "cell_type": "code",
      "execution_count": null,
      "metadata": {
        "id": "D8DaUB-DthFM"
      },
      "outputs": [],
      "source": [
        "import numpy as np\n",
        "import pandas as pd\n",
        "import seaborn as sns\n",
        "import matplotlib.pyplot as plt\n",
        "%matplotlib inline\n",
        "from sklearn.model_selection import train_test_split\n",
        "import tensorflow as tf\n",
        "import sklearn\n",
        "from sklearn.preprocessing import StandardScaler"
      ]
    },
    {
      "cell_type": "markdown",
      "metadata": {
        "id": "RBjUvcq0nYiT"
      },
      "source": [
        "###1.LOAD DATA\n",
        "In this step, the data is loaded as a CSV, and Exploratory Data Analysis is done with Pandas and PySpark."
      ]
    },
    {
      "cell_type": "code",
      "execution_count": null,
      "metadata": {
        "id": "eqZgIav2t2fS"
      },
      "outputs": [],
      "source": [
        "pandas_df = pd.read_csv('Invistico_Airline.csv')"
      ]
    },
    {
      "cell_type": "code",
      "execution_count": null,
      "metadata": {
        "colab": {
          "base_uri": "https://localhost:8080/",
          "height": 669
        },
        "id": "MP8boLwSurop",
        "outputId": "1256c96d-aa2c-40f0-8afc-382a1104e22f"
      },
      "outputs": [
        {
          "data": {
            "text/html": [
              "\n",
              "  <div id=\"df-b33ca040-f80f-4ddd-85db-883d0532ff77\" class=\"colab-df-container\">\n",
              "    <div>\n",
              "<style scoped>\n",
              "    .dataframe tbody tr th:only-of-type {\n",
              "        vertical-align: middle;\n",
              "    }\n",
              "\n",
              "    .dataframe tbody tr th {\n",
              "        vertical-align: top;\n",
              "    }\n",
              "\n",
              "    .dataframe thead th {\n",
              "        text-align: right;\n",
              "    }\n",
              "</style>\n",
              "<table border=\"1\" class=\"dataframe\">\n",
              "  <thead>\n",
              "    <tr style=\"text-align: right;\">\n",
              "      <th></th>\n",
              "      <th>satisfaction</th>\n",
              "      <th>Customer Type</th>\n",
              "      <th>Age</th>\n",
              "      <th>Type of Travel</th>\n",
              "      <th>Class</th>\n",
              "      <th>Flight Distance</th>\n",
              "      <th>Seat comfort</th>\n",
              "      <th>Departure/Arrival time convenient</th>\n",
              "      <th>Food and drink</th>\n",
              "      <th>Gate location</th>\n",
              "      <th>...</th>\n",
              "      <th>Online support</th>\n",
              "      <th>Ease of Online booking</th>\n",
              "      <th>On-board service</th>\n",
              "      <th>Leg room service</th>\n",
              "      <th>Baggage handling</th>\n",
              "      <th>Checkin service</th>\n",
              "      <th>Cleanliness</th>\n",
              "      <th>Online boarding</th>\n",
              "      <th>Departure Delay in Minutes</th>\n",
              "      <th>Arrival Delay in Minutes</th>\n",
              "    </tr>\n",
              "  </thead>\n",
              "  <tbody>\n",
              "    <tr>\n",
              "      <th>0</th>\n",
              "      <td>satisfied</td>\n",
              "      <td>Loyal Customer</td>\n",
              "      <td>65</td>\n",
              "      <td>Personal Travel</td>\n",
              "      <td>Eco</td>\n",
              "      <td>265</td>\n",
              "      <td>0</td>\n",
              "      <td>0</td>\n",
              "      <td>0</td>\n",
              "      <td>2</td>\n",
              "      <td>...</td>\n",
              "      <td>2</td>\n",
              "      <td>3</td>\n",
              "      <td>3</td>\n",
              "      <td>0</td>\n",
              "      <td>3</td>\n",
              "      <td>5</td>\n",
              "      <td>3</td>\n",
              "      <td>2</td>\n",
              "      <td>0</td>\n",
              "      <td>0.0</td>\n",
              "    </tr>\n",
              "    <tr>\n",
              "      <th>1</th>\n",
              "      <td>satisfied</td>\n",
              "      <td>Loyal Customer</td>\n",
              "      <td>47</td>\n",
              "      <td>Personal Travel</td>\n",
              "      <td>Business</td>\n",
              "      <td>2464</td>\n",
              "      <td>0</td>\n",
              "      <td>0</td>\n",
              "      <td>0</td>\n",
              "      <td>3</td>\n",
              "      <td>...</td>\n",
              "      <td>2</td>\n",
              "      <td>3</td>\n",
              "      <td>4</td>\n",
              "      <td>4</td>\n",
              "      <td>4</td>\n",
              "      <td>2</td>\n",
              "      <td>3</td>\n",
              "      <td>2</td>\n",
              "      <td>310</td>\n",
              "      <td>305.0</td>\n",
              "    </tr>\n",
              "    <tr>\n",
              "      <th>2</th>\n",
              "      <td>satisfied</td>\n",
              "      <td>Loyal Customer</td>\n",
              "      <td>15</td>\n",
              "      <td>Personal Travel</td>\n",
              "      <td>Eco</td>\n",
              "      <td>2138</td>\n",
              "      <td>0</td>\n",
              "      <td>0</td>\n",
              "      <td>0</td>\n",
              "      <td>3</td>\n",
              "      <td>...</td>\n",
              "      <td>2</td>\n",
              "      <td>2</td>\n",
              "      <td>3</td>\n",
              "      <td>3</td>\n",
              "      <td>4</td>\n",
              "      <td>4</td>\n",
              "      <td>4</td>\n",
              "      <td>2</td>\n",
              "      <td>0</td>\n",
              "      <td>0.0</td>\n",
              "    </tr>\n",
              "    <tr>\n",
              "      <th>3</th>\n",
              "      <td>satisfied</td>\n",
              "      <td>Loyal Customer</td>\n",
              "      <td>60</td>\n",
              "      <td>Personal Travel</td>\n",
              "      <td>Eco</td>\n",
              "      <td>623</td>\n",
              "      <td>0</td>\n",
              "      <td>0</td>\n",
              "      <td>0</td>\n",
              "      <td>3</td>\n",
              "      <td>...</td>\n",
              "      <td>3</td>\n",
              "      <td>1</td>\n",
              "      <td>1</td>\n",
              "      <td>0</td>\n",
              "      <td>1</td>\n",
              "      <td>4</td>\n",
              "      <td>1</td>\n",
              "      <td>3</td>\n",
              "      <td>0</td>\n",
              "      <td>0.0</td>\n",
              "    </tr>\n",
              "    <tr>\n",
              "      <th>4</th>\n",
              "      <td>satisfied</td>\n",
              "      <td>Loyal Customer</td>\n",
              "      <td>70</td>\n",
              "      <td>Personal Travel</td>\n",
              "      <td>Eco</td>\n",
              "      <td>354</td>\n",
              "      <td>0</td>\n",
              "      <td>0</td>\n",
              "      <td>0</td>\n",
              "      <td>3</td>\n",
              "      <td>...</td>\n",
              "      <td>4</td>\n",
              "      <td>2</td>\n",
              "      <td>2</td>\n",
              "      <td>0</td>\n",
              "      <td>2</td>\n",
              "      <td>4</td>\n",
              "      <td>2</td>\n",
              "      <td>5</td>\n",
              "      <td>0</td>\n",
              "      <td>0.0</td>\n",
              "    </tr>\n",
              "    <tr>\n",
              "      <th>...</th>\n",
              "      <td>...</td>\n",
              "      <td>...</td>\n",
              "      <td>...</td>\n",
              "      <td>...</td>\n",
              "      <td>...</td>\n",
              "      <td>...</td>\n",
              "      <td>...</td>\n",
              "      <td>...</td>\n",
              "      <td>...</td>\n",
              "      <td>...</td>\n",
              "      <td>...</td>\n",
              "      <td>...</td>\n",
              "      <td>...</td>\n",
              "      <td>...</td>\n",
              "      <td>...</td>\n",
              "      <td>...</td>\n",
              "      <td>...</td>\n",
              "      <td>...</td>\n",
              "      <td>...</td>\n",
              "      <td>...</td>\n",
              "      <td>...</td>\n",
              "    </tr>\n",
              "    <tr>\n",
              "      <th>129875</th>\n",
              "      <td>satisfied</td>\n",
              "      <td>disloyal Customer</td>\n",
              "      <td>29</td>\n",
              "      <td>Personal Travel</td>\n",
              "      <td>Eco</td>\n",
              "      <td>1731</td>\n",
              "      <td>5</td>\n",
              "      <td>5</td>\n",
              "      <td>5</td>\n",
              "      <td>3</td>\n",
              "      <td>...</td>\n",
              "      <td>2</td>\n",
              "      <td>2</td>\n",
              "      <td>3</td>\n",
              "      <td>3</td>\n",
              "      <td>4</td>\n",
              "      <td>4</td>\n",
              "      <td>4</td>\n",
              "      <td>2</td>\n",
              "      <td>0</td>\n",
              "      <td>0.0</td>\n",
              "    </tr>\n",
              "    <tr>\n",
              "      <th>129876</th>\n",
              "      <td>dissatisfied</td>\n",
              "      <td>disloyal Customer</td>\n",
              "      <td>63</td>\n",
              "      <td>Personal Travel</td>\n",
              "      <td>Business</td>\n",
              "      <td>2087</td>\n",
              "      <td>2</td>\n",
              "      <td>3</td>\n",
              "      <td>2</td>\n",
              "      <td>4</td>\n",
              "      <td>...</td>\n",
              "      <td>1</td>\n",
              "      <td>3</td>\n",
              "      <td>2</td>\n",
              "      <td>3</td>\n",
              "      <td>3</td>\n",
              "      <td>1</td>\n",
              "      <td>2</td>\n",
              "      <td>1</td>\n",
              "      <td>174</td>\n",
              "      <td>172.0</td>\n",
              "    </tr>\n",
              "    <tr>\n",
              "      <th>129877</th>\n",
              "      <td>dissatisfied</td>\n",
              "      <td>disloyal Customer</td>\n",
              "      <td>69</td>\n",
              "      <td>Personal Travel</td>\n",
              "      <td>Eco</td>\n",
              "      <td>2320</td>\n",
              "      <td>3</td>\n",
              "      <td>0</td>\n",
              "      <td>3</td>\n",
              "      <td>3</td>\n",
              "      <td>...</td>\n",
              "      <td>2</td>\n",
              "      <td>4</td>\n",
              "      <td>4</td>\n",
              "      <td>3</td>\n",
              "      <td>4</td>\n",
              "      <td>2</td>\n",
              "      <td>3</td>\n",
              "      <td>2</td>\n",
              "      <td>155</td>\n",
              "      <td>163.0</td>\n",
              "    </tr>\n",
              "    <tr>\n",
              "      <th>129878</th>\n",
              "      <td>dissatisfied</td>\n",
              "      <td>disloyal Customer</td>\n",
              "      <td>66</td>\n",
              "      <td>Personal Travel</td>\n",
              "      <td>Eco</td>\n",
              "      <td>2450</td>\n",
              "      <td>3</td>\n",
              "      <td>2</td>\n",
              "      <td>3</td>\n",
              "      <td>2</td>\n",
              "      <td>...</td>\n",
              "      <td>2</td>\n",
              "      <td>3</td>\n",
              "      <td>3</td>\n",
              "      <td>2</td>\n",
              "      <td>3</td>\n",
              "      <td>2</td>\n",
              "      <td>1</td>\n",
              "      <td>2</td>\n",
              "      <td>193</td>\n",
              "      <td>205.0</td>\n",
              "    </tr>\n",
              "    <tr>\n",
              "      <th>129879</th>\n",
              "      <td>dissatisfied</td>\n",
              "      <td>disloyal Customer</td>\n",
              "      <td>38</td>\n",
              "      <td>Personal Travel</td>\n",
              "      <td>Eco</td>\n",
              "      <td>4307</td>\n",
              "      <td>3</td>\n",
              "      <td>4</td>\n",
              "      <td>3</td>\n",
              "      <td>3</td>\n",
              "      <td>...</td>\n",
              "      <td>3</td>\n",
              "      <td>4</td>\n",
              "      <td>5</td>\n",
              "      <td>5</td>\n",
              "      <td>5</td>\n",
              "      <td>3</td>\n",
              "      <td>3</td>\n",
              "      <td>3</td>\n",
              "      <td>185</td>\n",
              "      <td>186.0</td>\n",
              "    </tr>\n",
              "  </tbody>\n",
              "</table>\n",
              "<p>129880 rows × 22 columns</p>\n",
              "</div>\n",
              "    <div class=\"colab-df-buttons\">\n",
              "\n",
              "  <div class=\"colab-df-container\">\n",
              "    <button class=\"colab-df-convert\" onclick=\"convertToInteractive('df-b33ca040-f80f-4ddd-85db-883d0532ff77')\"\n",
              "            title=\"Convert this dataframe to an interactive table.\"\n",
              "            style=\"display:none;\">\n",
              "\n",
              "  <svg xmlns=\"http://www.w3.org/2000/svg\" height=\"24px\" viewBox=\"0 -960 960 960\">\n",
              "    <path d=\"M120-120v-720h720v720H120Zm60-500h600v-160H180v160Zm220 220h160v-160H400v160Zm0 220h160v-160H400v160ZM180-400h160v-160H180v160Zm440 0h160v-160H620v160ZM180-180h160v-160H180v160Zm440 0h160v-160H620v160Z\"/>\n",
              "  </svg>\n",
              "    </button>\n",
              "\n",
              "  <style>\n",
              "    .colab-df-container {\n",
              "      display:flex;\n",
              "      gap: 12px;\n",
              "    }\n",
              "\n",
              "    .colab-df-convert {\n",
              "      background-color: #E8F0FE;\n",
              "      border: none;\n",
              "      border-radius: 50%;\n",
              "      cursor: pointer;\n",
              "      display: none;\n",
              "      fill: #1967D2;\n",
              "      height: 32px;\n",
              "      padding: 0 0 0 0;\n",
              "      width: 32px;\n",
              "    }\n",
              "\n",
              "    .colab-df-convert:hover {\n",
              "      background-color: #E2EBFA;\n",
              "      box-shadow: 0px 1px 2px rgba(60, 64, 67, 0.3), 0px 1px 3px 1px rgba(60, 64, 67, 0.15);\n",
              "      fill: #174EA6;\n",
              "    }\n",
              "\n",
              "    .colab-df-buttons div {\n",
              "      margin-bottom: 4px;\n",
              "    }\n",
              "\n",
              "    [theme=dark] .colab-df-convert {\n",
              "      background-color: #3B4455;\n",
              "      fill: #D2E3FC;\n",
              "    }\n",
              "\n",
              "    [theme=dark] .colab-df-convert:hover {\n",
              "      background-color: #434B5C;\n",
              "      box-shadow: 0px 1px 3px 1px rgba(0, 0, 0, 0.15);\n",
              "      filter: drop-shadow(0px 1px 2px rgba(0, 0, 0, 0.3));\n",
              "      fill: #FFFFFF;\n",
              "    }\n",
              "  </style>\n",
              "\n",
              "    <script>\n",
              "      const buttonEl =\n",
              "        document.querySelector('#df-b33ca040-f80f-4ddd-85db-883d0532ff77 button.colab-df-convert');\n",
              "      buttonEl.style.display =\n",
              "        google.colab.kernel.accessAllowed ? 'block' : 'none';\n",
              "\n",
              "      async function convertToInteractive(key) {\n",
              "        const element = document.querySelector('#df-b33ca040-f80f-4ddd-85db-883d0532ff77');\n",
              "        const dataTable =\n",
              "          await google.colab.kernel.invokeFunction('convertToInteractive',\n",
              "                                                    [key], {});\n",
              "        if (!dataTable) return;\n",
              "\n",
              "        const docLinkHtml = 'Like what you see? Visit the ' +\n",
              "          '<a target=\"_blank\" href=https://colab.research.google.com/notebooks/data_table.ipynb>data table notebook</a>'\n",
              "          + ' to learn more about interactive tables.';\n",
              "        element.innerHTML = '';\n",
              "        dataTable['output_type'] = 'display_data';\n",
              "        await google.colab.output.renderOutput(dataTable, element);\n",
              "        const docLink = document.createElement('div');\n",
              "        docLink.innerHTML = docLinkHtml;\n",
              "        element.appendChild(docLink);\n",
              "      }\n",
              "    </script>\n",
              "  </div>\n",
              "\n",
              "\n",
              "<div id=\"df-6809011f-6352-4f43-9bcf-4b749f15c76d\">\n",
              "  <button class=\"colab-df-quickchart\" onclick=\"quickchart('df-6809011f-6352-4f43-9bcf-4b749f15c76d')\"\n",
              "            title=\"Suggest charts.\"\n",
              "            style=\"display:none;\">\n",
              "\n",
              "<svg xmlns=\"http://www.w3.org/2000/svg\" height=\"24px\"viewBox=\"0 0 24 24\"\n",
              "     width=\"24px\">\n",
              "    <g>\n",
              "        <path d=\"M19 3H5c-1.1 0-2 .9-2 2v14c0 1.1.9 2 2 2h14c1.1 0 2-.9 2-2V5c0-1.1-.9-2-2-2zM9 17H7v-7h2v7zm4 0h-2V7h2v10zm4 0h-2v-4h2v4z\"/>\n",
              "    </g>\n",
              "</svg>\n",
              "  </button>\n",
              "\n",
              "<style>\n",
              "  .colab-df-quickchart {\n",
              "      --bg-color: #E8F0FE;\n",
              "      --fill-color: #1967D2;\n",
              "      --hover-bg-color: #E2EBFA;\n",
              "      --hover-fill-color: #174EA6;\n",
              "      --disabled-fill-color: #AAA;\n",
              "      --disabled-bg-color: #DDD;\n",
              "  }\n",
              "\n",
              "  [theme=dark] .colab-df-quickchart {\n",
              "      --bg-color: #3B4455;\n",
              "      --fill-color: #D2E3FC;\n",
              "      --hover-bg-color: #434B5C;\n",
              "      --hover-fill-color: #FFFFFF;\n",
              "      --disabled-bg-color: #3B4455;\n",
              "      --disabled-fill-color: #666;\n",
              "  }\n",
              "\n",
              "  .colab-df-quickchart {\n",
              "    background-color: var(--bg-color);\n",
              "    border: none;\n",
              "    border-radius: 50%;\n",
              "    cursor: pointer;\n",
              "    display: none;\n",
              "    fill: var(--fill-color);\n",
              "    height: 32px;\n",
              "    padding: 0;\n",
              "    width: 32px;\n",
              "  }\n",
              "\n",
              "  .colab-df-quickchart:hover {\n",
              "    background-color: var(--hover-bg-color);\n",
              "    box-shadow: 0 1px 2px rgba(60, 64, 67, 0.3), 0 1px 3px 1px rgba(60, 64, 67, 0.15);\n",
              "    fill: var(--button-hover-fill-color);\n",
              "  }\n",
              "\n",
              "  .colab-df-quickchart-complete:disabled,\n",
              "  .colab-df-quickchart-complete:disabled:hover {\n",
              "    background-color: var(--disabled-bg-color);\n",
              "    fill: var(--disabled-fill-color);\n",
              "    box-shadow: none;\n",
              "  }\n",
              "\n",
              "  .colab-df-spinner {\n",
              "    border: 2px solid var(--fill-color);\n",
              "    border-color: transparent;\n",
              "    border-bottom-color: var(--fill-color);\n",
              "    animation:\n",
              "      spin 1s steps(1) infinite;\n",
              "  }\n",
              "\n",
              "  @keyframes spin {\n",
              "    0% {\n",
              "      border-color: transparent;\n",
              "      border-bottom-color: var(--fill-color);\n",
              "      border-left-color: var(--fill-color);\n",
              "    }\n",
              "    20% {\n",
              "      border-color: transparent;\n",
              "      border-left-color: var(--fill-color);\n",
              "      border-top-color: var(--fill-color);\n",
              "    }\n",
              "    30% {\n",
              "      border-color: transparent;\n",
              "      border-left-color: var(--fill-color);\n",
              "      border-top-color: var(--fill-color);\n",
              "      border-right-color: var(--fill-color);\n",
              "    }\n",
              "    40% {\n",
              "      border-color: transparent;\n",
              "      border-right-color: var(--fill-color);\n",
              "      border-top-color: var(--fill-color);\n",
              "    }\n",
              "    60% {\n",
              "      border-color: transparent;\n",
              "      border-right-color: var(--fill-color);\n",
              "    }\n",
              "    80% {\n",
              "      border-color: transparent;\n",
              "      border-right-color: var(--fill-color);\n",
              "      border-bottom-color: var(--fill-color);\n",
              "    }\n",
              "    90% {\n",
              "      border-color: transparent;\n",
              "      border-bottom-color: var(--fill-color);\n",
              "    }\n",
              "  }\n",
              "</style>\n",
              "\n",
              "  <script>\n",
              "    async function quickchart(key) {\n",
              "      const quickchartButtonEl =\n",
              "        document.querySelector('#' + key + ' button');\n",
              "      quickchartButtonEl.disabled = true;  // To prevent multiple clicks.\n",
              "      quickchartButtonEl.classList.add('colab-df-spinner');\n",
              "      try {\n",
              "        const charts = await google.colab.kernel.invokeFunction(\n",
              "            'suggestCharts', [key], {});\n",
              "      } catch (error) {\n",
              "        console.error('Error during call to suggestCharts:', error);\n",
              "      }\n",
              "      quickchartButtonEl.classList.remove('colab-df-spinner');\n",
              "      quickchartButtonEl.classList.add('colab-df-quickchart-complete');\n",
              "    }\n",
              "    (() => {\n",
              "      let quickchartButtonEl =\n",
              "        document.querySelector('#df-6809011f-6352-4f43-9bcf-4b749f15c76d button');\n",
              "      quickchartButtonEl.style.display =\n",
              "        google.colab.kernel.accessAllowed ? 'block' : 'none';\n",
              "    })();\n",
              "  </script>\n",
              "</div>\n",
              "    </div>\n",
              "  </div>\n"
            ],
            "text/plain": [
              "        satisfaction      Customer Type  Age   Type of Travel     Class  \\\n",
              "0          satisfied     Loyal Customer   65  Personal Travel       Eco   \n",
              "1          satisfied     Loyal Customer   47  Personal Travel  Business   \n",
              "2          satisfied     Loyal Customer   15  Personal Travel       Eco   \n",
              "3          satisfied     Loyal Customer   60  Personal Travel       Eco   \n",
              "4          satisfied     Loyal Customer   70  Personal Travel       Eco   \n",
              "...              ...                ...  ...              ...       ...   \n",
              "129875     satisfied  disloyal Customer   29  Personal Travel       Eco   \n",
              "129876  dissatisfied  disloyal Customer   63  Personal Travel  Business   \n",
              "129877  dissatisfied  disloyal Customer   69  Personal Travel       Eco   \n",
              "129878  dissatisfied  disloyal Customer   66  Personal Travel       Eco   \n",
              "129879  dissatisfied  disloyal Customer   38  Personal Travel       Eco   \n",
              "\n",
              "        Flight Distance  Seat comfort  Departure/Arrival time convenient  \\\n",
              "0                   265             0                                  0   \n",
              "1                  2464             0                                  0   \n",
              "2                  2138             0                                  0   \n",
              "3                   623             0                                  0   \n",
              "4                   354             0                                  0   \n",
              "...                 ...           ...                                ...   \n",
              "129875             1731             5                                  5   \n",
              "129876             2087             2                                  3   \n",
              "129877             2320             3                                  0   \n",
              "129878             2450             3                                  2   \n",
              "129879             4307             3                                  4   \n",
              "\n",
              "        Food and drink  Gate location  ...  Online support  \\\n",
              "0                    0              2  ...               2   \n",
              "1                    0              3  ...               2   \n",
              "2                    0              3  ...               2   \n",
              "3                    0              3  ...               3   \n",
              "4                    0              3  ...               4   \n",
              "...                ...            ...  ...             ...   \n",
              "129875               5              3  ...               2   \n",
              "129876               2              4  ...               1   \n",
              "129877               3              3  ...               2   \n",
              "129878               3              2  ...               2   \n",
              "129879               3              3  ...               3   \n",
              "\n",
              "        Ease of Online booking  On-board service  Leg room service  \\\n",
              "0                            3                 3                 0   \n",
              "1                            3                 4                 4   \n",
              "2                            2                 3                 3   \n",
              "3                            1                 1                 0   \n",
              "4                            2                 2                 0   \n",
              "...                        ...               ...               ...   \n",
              "129875                       2                 3                 3   \n",
              "129876                       3                 2                 3   \n",
              "129877                       4                 4                 3   \n",
              "129878                       3                 3                 2   \n",
              "129879                       4                 5                 5   \n",
              "\n",
              "        Baggage handling  Checkin service  Cleanliness  Online boarding  \\\n",
              "0                      3                5            3                2   \n",
              "1                      4                2            3                2   \n",
              "2                      4                4            4                2   \n",
              "3                      1                4            1                3   \n",
              "4                      2                4            2                5   \n",
              "...                  ...              ...          ...              ...   \n",
              "129875                 4                4            4                2   \n",
              "129876                 3                1            2                1   \n",
              "129877                 4                2            3                2   \n",
              "129878                 3                2            1                2   \n",
              "129879                 5                3            3                3   \n",
              "\n",
              "        Departure Delay in Minutes  Arrival Delay in Minutes  \n",
              "0                                0                       0.0  \n",
              "1                              310                     305.0  \n",
              "2                                0                       0.0  \n",
              "3                                0                       0.0  \n",
              "4                                0                       0.0  \n",
              "...                            ...                       ...  \n",
              "129875                           0                       0.0  \n",
              "129876                         174                     172.0  \n",
              "129877                         155                     163.0  \n",
              "129878                         193                     205.0  \n",
              "129879                         185                     186.0  \n",
              "\n",
              "[129880 rows x 22 columns]"
            ]
          },
          "execution_count": 6,
          "metadata": {},
          "output_type": "execute_result"
        }
      ],
      "source": [
        "#viewing the data\n",
        "pandas_df"
      ]
    },
    {
      "cell_type": "code",
      "execution_count": null,
      "metadata": {
        "colab": {
          "base_uri": "https://localhost:8080/"
        },
        "id": "BkSRw_dEus67",
        "outputId": "c782e185-46a5-46e4-9f43-5ae3a248eb33"
      },
      "outputs": [
        {
          "name": "stdout",
          "output_type": "stream",
          "text": [
            "<class 'pandas.core.frame.DataFrame'>\n",
            "RangeIndex: 129880 entries, 0 to 129879\n",
            "Data columns (total 22 columns):\n",
            " #   Column                             Non-Null Count   Dtype  \n",
            "---  ------                             --------------   -----  \n",
            " 0   satisfaction                       129880 non-null  object \n",
            " 1   Customer Type                      129880 non-null  object \n",
            " 2   Age                                129880 non-null  int64  \n",
            " 3   Type of Travel                     129880 non-null  object \n",
            " 4   Class                              129880 non-null  object \n",
            " 5   Flight Distance                    129880 non-null  int64  \n",
            " 6   Seat comfort                       129880 non-null  int64  \n",
            " 7   Departure/Arrival time convenient  129880 non-null  int64  \n",
            " 8   Food and drink                     129880 non-null  int64  \n",
            " 9   Gate location                      129880 non-null  int64  \n",
            " 10  Inflight wifi service              129880 non-null  int64  \n",
            " 11  Inflight entertainment             129880 non-null  int64  \n",
            " 12  Online support                     129880 non-null  int64  \n",
            " 13  Ease of Online booking             129880 non-null  int64  \n",
            " 14  On-board service                   129880 non-null  int64  \n",
            " 15  Leg room service                   129880 non-null  int64  \n",
            " 16  Baggage handling                   129880 non-null  int64  \n",
            " 17  Checkin service                    129880 non-null  int64  \n",
            " 18  Cleanliness                        129880 non-null  int64  \n",
            " 19  Online boarding                    129880 non-null  int64  \n",
            " 20  Departure Delay in Minutes         129880 non-null  int64  \n",
            " 21  Arrival Delay in Minutes           129487 non-null  float64\n",
            "dtypes: float64(1), int64(17), object(4)\n",
            "memory usage: 21.8+ MB\n"
          ]
        }
      ],
      "source": [
        "pandas_df.info()"
      ]
    },
    {
      "cell_type": "code",
      "execution_count": null,
      "metadata": {
        "colab": {
          "base_uri": "https://localhost:8080/",
          "height": 355
        },
        "id": "ifMUvfmXIWUL",
        "outputId": "766d1eb3-a071-4eda-a21a-427142ca311b"
      },
      "outputs": [
        {
          "data": {
            "text/html": [
              "\n",
              "  <div id=\"df-f59011ce-85ea-4f7d-b742-c750a29778f9\" class=\"colab-df-container\">\n",
              "    <div>\n",
              "<style scoped>\n",
              "    .dataframe tbody tr th:only-of-type {\n",
              "        vertical-align: middle;\n",
              "    }\n",
              "\n",
              "    .dataframe tbody tr th {\n",
              "        vertical-align: top;\n",
              "    }\n",
              "\n",
              "    .dataframe thead th {\n",
              "        text-align: right;\n",
              "    }\n",
              "</style>\n",
              "<table border=\"1\" class=\"dataframe\">\n",
              "  <thead>\n",
              "    <tr style=\"text-align: right;\">\n",
              "      <th></th>\n",
              "      <th>Age</th>\n",
              "      <th>Flight Distance</th>\n",
              "      <th>Seat comfort</th>\n",
              "      <th>Departure/Arrival time convenient</th>\n",
              "      <th>Food and drink</th>\n",
              "      <th>Gate location</th>\n",
              "      <th>Inflight wifi service</th>\n",
              "      <th>Inflight entertainment</th>\n",
              "      <th>Online support</th>\n",
              "      <th>Ease of Online booking</th>\n",
              "      <th>On-board service</th>\n",
              "      <th>Leg room service</th>\n",
              "      <th>Baggage handling</th>\n",
              "      <th>Checkin service</th>\n",
              "      <th>Cleanliness</th>\n",
              "      <th>Online boarding</th>\n",
              "      <th>Departure Delay in Minutes</th>\n",
              "      <th>Arrival Delay in Minutes</th>\n",
              "    </tr>\n",
              "  </thead>\n",
              "  <tbody>\n",
              "    <tr>\n",
              "      <th>count</th>\n",
              "      <td>129880.000000</td>\n",
              "      <td>129880.000000</td>\n",
              "      <td>129880.000000</td>\n",
              "      <td>129880.000000</td>\n",
              "      <td>129880.000000</td>\n",
              "      <td>129880.000000</td>\n",
              "      <td>129880.000000</td>\n",
              "      <td>129880.000000</td>\n",
              "      <td>129880.000000</td>\n",
              "      <td>129880.000000</td>\n",
              "      <td>129880.000000</td>\n",
              "      <td>129880.000000</td>\n",
              "      <td>129880.000000</td>\n",
              "      <td>129880.000000</td>\n",
              "      <td>129880.000000</td>\n",
              "      <td>129880.000000</td>\n",
              "      <td>129880.000000</td>\n",
              "      <td>129487.000000</td>\n",
              "    </tr>\n",
              "    <tr>\n",
              "      <th>mean</th>\n",
              "      <td>39.427957</td>\n",
              "      <td>1981.409055</td>\n",
              "      <td>2.838597</td>\n",
              "      <td>2.990645</td>\n",
              "      <td>2.851994</td>\n",
              "      <td>2.990422</td>\n",
              "      <td>3.249130</td>\n",
              "      <td>3.383477</td>\n",
              "      <td>3.519703</td>\n",
              "      <td>3.472105</td>\n",
              "      <td>3.465075</td>\n",
              "      <td>3.485902</td>\n",
              "      <td>3.695673</td>\n",
              "      <td>3.340807</td>\n",
              "      <td>3.705759</td>\n",
              "      <td>3.352587</td>\n",
              "      <td>14.713713</td>\n",
              "      <td>15.091129</td>\n",
              "    </tr>\n",
              "    <tr>\n",
              "      <th>std</th>\n",
              "      <td>15.119360</td>\n",
              "      <td>1027.115606</td>\n",
              "      <td>1.392983</td>\n",
              "      <td>1.527224</td>\n",
              "      <td>1.443729</td>\n",
              "      <td>1.305970</td>\n",
              "      <td>1.318818</td>\n",
              "      <td>1.346059</td>\n",
              "      <td>1.306511</td>\n",
              "      <td>1.305560</td>\n",
              "      <td>1.270836</td>\n",
              "      <td>1.292226</td>\n",
              "      <td>1.156483</td>\n",
              "      <td>1.260582</td>\n",
              "      <td>1.151774</td>\n",
              "      <td>1.298715</td>\n",
              "      <td>38.071126</td>\n",
              "      <td>38.465650</td>\n",
              "    </tr>\n",
              "    <tr>\n",
              "      <th>min</th>\n",
              "      <td>7.000000</td>\n",
              "      <td>50.000000</td>\n",
              "      <td>0.000000</td>\n",
              "      <td>0.000000</td>\n",
              "      <td>0.000000</td>\n",
              "      <td>0.000000</td>\n",
              "      <td>0.000000</td>\n",
              "      <td>0.000000</td>\n",
              "      <td>0.000000</td>\n",
              "      <td>0.000000</td>\n",
              "      <td>0.000000</td>\n",
              "      <td>0.000000</td>\n",
              "      <td>1.000000</td>\n",
              "      <td>0.000000</td>\n",
              "      <td>0.000000</td>\n",
              "      <td>0.000000</td>\n",
              "      <td>0.000000</td>\n",
              "      <td>0.000000</td>\n",
              "    </tr>\n",
              "    <tr>\n",
              "      <th>25%</th>\n",
              "      <td>27.000000</td>\n",
              "      <td>1359.000000</td>\n",
              "      <td>2.000000</td>\n",
              "      <td>2.000000</td>\n",
              "      <td>2.000000</td>\n",
              "      <td>2.000000</td>\n",
              "      <td>2.000000</td>\n",
              "      <td>2.000000</td>\n",
              "      <td>3.000000</td>\n",
              "      <td>2.000000</td>\n",
              "      <td>3.000000</td>\n",
              "      <td>2.000000</td>\n",
              "      <td>3.000000</td>\n",
              "      <td>3.000000</td>\n",
              "      <td>3.000000</td>\n",
              "      <td>2.000000</td>\n",
              "      <td>0.000000</td>\n",
              "      <td>0.000000</td>\n",
              "    </tr>\n",
              "    <tr>\n",
              "      <th>50%</th>\n",
              "      <td>40.000000</td>\n",
              "      <td>1925.000000</td>\n",
              "      <td>3.000000</td>\n",
              "      <td>3.000000</td>\n",
              "      <td>3.000000</td>\n",
              "      <td>3.000000</td>\n",
              "      <td>3.000000</td>\n",
              "      <td>4.000000</td>\n",
              "      <td>4.000000</td>\n",
              "      <td>4.000000</td>\n",
              "      <td>4.000000</td>\n",
              "      <td>4.000000</td>\n",
              "      <td>4.000000</td>\n",
              "      <td>3.000000</td>\n",
              "      <td>4.000000</td>\n",
              "      <td>4.000000</td>\n",
              "      <td>0.000000</td>\n",
              "      <td>0.000000</td>\n",
              "    </tr>\n",
              "    <tr>\n",
              "      <th>75%</th>\n",
              "      <td>51.000000</td>\n",
              "      <td>2544.000000</td>\n",
              "      <td>4.000000</td>\n",
              "      <td>4.000000</td>\n",
              "      <td>4.000000</td>\n",
              "      <td>4.000000</td>\n",
              "      <td>4.000000</td>\n",
              "      <td>4.000000</td>\n",
              "      <td>5.000000</td>\n",
              "      <td>5.000000</td>\n",
              "      <td>4.000000</td>\n",
              "      <td>5.000000</td>\n",
              "      <td>5.000000</td>\n",
              "      <td>4.000000</td>\n",
              "      <td>5.000000</td>\n",
              "      <td>4.000000</td>\n",
              "      <td>12.000000</td>\n",
              "      <td>13.000000</td>\n",
              "    </tr>\n",
              "    <tr>\n",
              "      <th>max</th>\n",
              "      <td>85.000000</td>\n",
              "      <td>6951.000000</td>\n",
              "      <td>5.000000</td>\n",
              "      <td>5.000000</td>\n",
              "      <td>5.000000</td>\n",
              "      <td>5.000000</td>\n",
              "      <td>5.000000</td>\n",
              "      <td>5.000000</td>\n",
              "      <td>5.000000</td>\n",
              "      <td>5.000000</td>\n",
              "      <td>5.000000</td>\n",
              "      <td>5.000000</td>\n",
              "      <td>5.000000</td>\n",
              "      <td>5.000000</td>\n",
              "      <td>5.000000</td>\n",
              "      <td>5.000000</td>\n",
              "      <td>1592.000000</td>\n",
              "      <td>1584.000000</td>\n",
              "    </tr>\n",
              "  </tbody>\n",
              "</table>\n",
              "</div>\n",
              "    <div class=\"colab-df-buttons\">\n",
              "\n",
              "  <div class=\"colab-df-container\">\n",
              "    <button class=\"colab-df-convert\" onclick=\"convertToInteractive('df-f59011ce-85ea-4f7d-b742-c750a29778f9')\"\n",
              "            title=\"Convert this dataframe to an interactive table.\"\n",
              "            style=\"display:none;\">\n",
              "\n",
              "  <svg xmlns=\"http://www.w3.org/2000/svg\" height=\"24px\" viewBox=\"0 -960 960 960\">\n",
              "    <path d=\"M120-120v-720h720v720H120Zm60-500h600v-160H180v160Zm220 220h160v-160H400v160Zm0 220h160v-160H400v160ZM180-400h160v-160H180v160Zm440 0h160v-160H620v160ZM180-180h160v-160H180v160Zm440 0h160v-160H620v160Z\"/>\n",
              "  </svg>\n",
              "    </button>\n",
              "\n",
              "  <style>\n",
              "    .colab-df-container {\n",
              "      display:flex;\n",
              "      gap: 12px;\n",
              "    }\n",
              "\n",
              "    .colab-df-convert {\n",
              "      background-color: #E8F0FE;\n",
              "      border: none;\n",
              "      border-radius: 50%;\n",
              "      cursor: pointer;\n",
              "      display: none;\n",
              "      fill: #1967D2;\n",
              "      height: 32px;\n",
              "      padding: 0 0 0 0;\n",
              "      width: 32px;\n",
              "    }\n",
              "\n",
              "    .colab-df-convert:hover {\n",
              "      background-color: #E2EBFA;\n",
              "      box-shadow: 0px 1px 2px rgba(60, 64, 67, 0.3), 0px 1px 3px 1px rgba(60, 64, 67, 0.15);\n",
              "      fill: #174EA6;\n",
              "    }\n",
              "\n",
              "    .colab-df-buttons div {\n",
              "      margin-bottom: 4px;\n",
              "    }\n",
              "\n",
              "    [theme=dark] .colab-df-convert {\n",
              "      background-color: #3B4455;\n",
              "      fill: #D2E3FC;\n",
              "    }\n",
              "\n",
              "    [theme=dark] .colab-df-convert:hover {\n",
              "      background-color: #434B5C;\n",
              "      box-shadow: 0px 1px 3px 1px rgba(0, 0, 0, 0.15);\n",
              "      filter: drop-shadow(0px 1px 2px rgba(0, 0, 0, 0.3));\n",
              "      fill: #FFFFFF;\n",
              "    }\n",
              "  </style>\n",
              "\n",
              "    <script>\n",
              "      const buttonEl =\n",
              "        document.querySelector('#df-f59011ce-85ea-4f7d-b742-c750a29778f9 button.colab-df-convert');\n",
              "      buttonEl.style.display =\n",
              "        google.colab.kernel.accessAllowed ? 'block' : 'none';\n",
              "\n",
              "      async function convertToInteractive(key) {\n",
              "        const element = document.querySelector('#df-f59011ce-85ea-4f7d-b742-c750a29778f9');\n",
              "        const dataTable =\n",
              "          await google.colab.kernel.invokeFunction('convertToInteractive',\n",
              "                                                    [key], {});\n",
              "        if (!dataTable) return;\n",
              "\n",
              "        const docLinkHtml = 'Like what you see? Visit the ' +\n",
              "          '<a target=\"_blank\" href=https://colab.research.google.com/notebooks/data_table.ipynb>data table notebook</a>'\n",
              "          + ' to learn more about interactive tables.';\n",
              "        element.innerHTML = '';\n",
              "        dataTable['output_type'] = 'display_data';\n",
              "        await google.colab.output.renderOutput(dataTable, element);\n",
              "        const docLink = document.createElement('div');\n",
              "        docLink.innerHTML = docLinkHtml;\n",
              "        element.appendChild(docLink);\n",
              "      }\n",
              "    </script>\n",
              "  </div>\n",
              "\n",
              "\n",
              "<div id=\"df-76e74fd5-342d-4237-8726-f039f487a206\">\n",
              "  <button class=\"colab-df-quickchart\" onclick=\"quickchart('df-76e74fd5-342d-4237-8726-f039f487a206')\"\n",
              "            title=\"Suggest charts.\"\n",
              "            style=\"display:none;\">\n",
              "\n",
              "<svg xmlns=\"http://www.w3.org/2000/svg\" height=\"24px\"viewBox=\"0 0 24 24\"\n",
              "     width=\"24px\">\n",
              "    <g>\n",
              "        <path d=\"M19 3H5c-1.1 0-2 .9-2 2v14c0 1.1.9 2 2 2h14c1.1 0 2-.9 2-2V5c0-1.1-.9-2-2-2zM9 17H7v-7h2v7zm4 0h-2V7h2v10zm4 0h-2v-4h2v4z\"/>\n",
              "    </g>\n",
              "</svg>\n",
              "  </button>\n",
              "\n",
              "<style>\n",
              "  .colab-df-quickchart {\n",
              "      --bg-color: #E8F0FE;\n",
              "      --fill-color: #1967D2;\n",
              "      --hover-bg-color: #E2EBFA;\n",
              "      --hover-fill-color: #174EA6;\n",
              "      --disabled-fill-color: #AAA;\n",
              "      --disabled-bg-color: #DDD;\n",
              "  }\n",
              "\n",
              "  [theme=dark] .colab-df-quickchart {\n",
              "      --bg-color: #3B4455;\n",
              "      --fill-color: #D2E3FC;\n",
              "      --hover-bg-color: #434B5C;\n",
              "      --hover-fill-color: #FFFFFF;\n",
              "      --disabled-bg-color: #3B4455;\n",
              "      --disabled-fill-color: #666;\n",
              "  }\n",
              "\n",
              "  .colab-df-quickchart {\n",
              "    background-color: var(--bg-color);\n",
              "    border: none;\n",
              "    border-radius: 50%;\n",
              "    cursor: pointer;\n",
              "    display: none;\n",
              "    fill: var(--fill-color);\n",
              "    height: 32px;\n",
              "    padding: 0;\n",
              "    width: 32px;\n",
              "  }\n",
              "\n",
              "  .colab-df-quickchart:hover {\n",
              "    background-color: var(--hover-bg-color);\n",
              "    box-shadow: 0 1px 2px rgba(60, 64, 67, 0.3), 0 1px 3px 1px rgba(60, 64, 67, 0.15);\n",
              "    fill: var(--button-hover-fill-color);\n",
              "  }\n",
              "\n",
              "  .colab-df-quickchart-complete:disabled,\n",
              "  .colab-df-quickchart-complete:disabled:hover {\n",
              "    background-color: var(--disabled-bg-color);\n",
              "    fill: var(--disabled-fill-color);\n",
              "    box-shadow: none;\n",
              "  }\n",
              "\n",
              "  .colab-df-spinner {\n",
              "    border: 2px solid var(--fill-color);\n",
              "    border-color: transparent;\n",
              "    border-bottom-color: var(--fill-color);\n",
              "    animation:\n",
              "      spin 1s steps(1) infinite;\n",
              "  }\n",
              "\n",
              "  @keyframes spin {\n",
              "    0% {\n",
              "      border-color: transparent;\n",
              "      border-bottom-color: var(--fill-color);\n",
              "      border-left-color: var(--fill-color);\n",
              "    }\n",
              "    20% {\n",
              "      border-color: transparent;\n",
              "      border-left-color: var(--fill-color);\n",
              "      border-top-color: var(--fill-color);\n",
              "    }\n",
              "    30% {\n",
              "      border-color: transparent;\n",
              "      border-left-color: var(--fill-color);\n",
              "      border-top-color: var(--fill-color);\n",
              "      border-right-color: var(--fill-color);\n",
              "    }\n",
              "    40% {\n",
              "      border-color: transparent;\n",
              "      border-right-color: var(--fill-color);\n",
              "      border-top-color: var(--fill-color);\n",
              "    }\n",
              "    60% {\n",
              "      border-color: transparent;\n",
              "      border-right-color: var(--fill-color);\n",
              "    }\n",
              "    80% {\n",
              "      border-color: transparent;\n",
              "      border-right-color: var(--fill-color);\n",
              "      border-bottom-color: var(--fill-color);\n",
              "    }\n",
              "    90% {\n",
              "      border-color: transparent;\n",
              "      border-bottom-color: var(--fill-color);\n",
              "    }\n",
              "  }\n",
              "</style>\n",
              "\n",
              "  <script>\n",
              "    async function quickchart(key) {\n",
              "      const quickchartButtonEl =\n",
              "        document.querySelector('#' + key + ' button');\n",
              "      quickchartButtonEl.disabled = true;  // To prevent multiple clicks.\n",
              "      quickchartButtonEl.classList.add('colab-df-spinner');\n",
              "      try {\n",
              "        const charts = await google.colab.kernel.invokeFunction(\n",
              "            'suggestCharts', [key], {});\n",
              "      } catch (error) {\n",
              "        console.error('Error during call to suggestCharts:', error);\n",
              "      }\n",
              "      quickchartButtonEl.classList.remove('colab-df-spinner');\n",
              "      quickchartButtonEl.classList.add('colab-df-quickchart-complete');\n",
              "    }\n",
              "    (() => {\n",
              "      let quickchartButtonEl =\n",
              "        document.querySelector('#df-76e74fd5-342d-4237-8726-f039f487a206 button');\n",
              "      quickchartButtonEl.style.display =\n",
              "        google.colab.kernel.accessAllowed ? 'block' : 'none';\n",
              "    })();\n",
              "  </script>\n",
              "</div>\n",
              "    </div>\n",
              "  </div>\n"
            ],
            "text/plain": [
              "                 Age  Flight Distance   Seat comfort  \\\n",
              "count  129880.000000    129880.000000  129880.000000   \n",
              "mean       39.427957      1981.409055       2.838597   \n",
              "std        15.119360      1027.115606       1.392983   \n",
              "min         7.000000        50.000000       0.000000   \n",
              "25%        27.000000      1359.000000       2.000000   \n",
              "50%        40.000000      1925.000000       3.000000   \n",
              "75%        51.000000      2544.000000       4.000000   \n",
              "max        85.000000      6951.000000       5.000000   \n",
              "\n",
              "       Departure/Arrival time convenient  Food and drink  Gate location  \\\n",
              "count                      129880.000000   129880.000000  129880.000000   \n",
              "mean                            2.990645        2.851994       2.990422   \n",
              "std                             1.527224        1.443729       1.305970   \n",
              "min                             0.000000        0.000000       0.000000   \n",
              "25%                             2.000000        2.000000       2.000000   \n",
              "50%                             3.000000        3.000000       3.000000   \n",
              "75%                             4.000000        4.000000       4.000000   \n",
              "max                             5.000000        5.000000       5.000000   \n",
              "\n",
              "       Inflight wifi service  Inflight entertainment  Online support  \\\n",
              "count          129880.000000           129880.000000   129880.000000   \n",
              "mean                3.249130                3.383477        3.519703   \n",
              "std                 1.318818                1.346059        1.306511   \n",
              "min                 0.000000                0.000000        0.000000   \n",
              "25%                 2.000000                2.000000        3.000000   \n",
              "50%                 3.000000                4.000000        4.000000   \n",
              "75%                 4.000000                4.000000        5.000000   \n",
              "max                 5.000000                5.000000        5.000000   \n",
              "\n",
              "       Ease of Online booking  On-board service  Leg room service  \\\n",
              "count           129880.000000     129880.000000     129880.000000   \n",
              "mean                 3.472105          3.465075          3.485902   \n",
              "std                  1.305560          1.270836          1.292226   \n",
              "min                  0.000000          0.000000          0.000000   \n",
              "25%                  2.000000          3.000000          2.000000   \n",
              "50%                  4.000000          4.000000          4.000000   \n",
              "75%                  5.000000          4.000000          5.000000   \n",
              "max                  5.000000          5.000000          5.000000   \n",
              "\n",
              "       Baggage handling  Checkin service    Cleanliness  Online boarding  \\\n",
              "count     129880.000000    129880.000000  129880.000000    129880.000000   \n",
              "mean           3.695673         3.340807       3.705759         3.352587   \n",
              "std            1.156483         1.260582       1.151774         1.298715   \n",
              "min            1.000000         0.000000       0.000000         0.000000   \n",
              "25%            3.000000         3.000000       3.000000         2.000000   \n",
              "50%            4.000000         3.000000       4.000000         4.000000   \n",
              "75%            5.000000         4.000000       5.000000         4.000000   \n",
              "max            5.000000         5.000000       5.000000         5.000000   \n",
              "\n",
              "       Departure Delay in Minutes  Arrival Delay in Minutes  \n",
              "count               129880.000000             129487.000000  \n",
              "mean                    14.713713                 15.091129  \n",
              "std                     38.071126                 38.465650  \n",
              "min                      0.000000                  0.000000  \n",
              "25%                      0.000000                  0.000000  \n",
              "50%                      0.000000                  0.000000  \n",
              "75%                     12.000000                 13.000000  \n",
              "max                   1592.000000               1584.000000  "
            ]
          },
          "execution_count": 8,
          "metadata": {},
          "output_type": "execute_result"
        }
      ],
      "source": [
        "#perfoming basic statistics on the data\n",
        "pandas_df.describe()"
      ]
    },
    {
      "cell_type": "code",
      "execution_count": null,
      "metadata": {
        "colab": {
          "base_uri": "https://localhost:8080/",
          "height": 537
        },
        "id": "E4ou2XmWEZJD",
        "outputId": "3333a5a0-a7bf-478e-f7de-dd0ebaf9b682"
      },
      "outputs": [
        {
          "data": {
            "text/plain": [
              "<Axes: >"
            ]
          },
          "execution_count": 9,
          "metadata": {},
          "output_type": "execute_result"
        },
        {
          "name": "stderr",
          "output_type": "stream",
          "text": [
            "/usr/local/lib/python3.10/dist-packages/IPython/core/events.py:89: UserWarning: Creating legend with loc=\"best\" can be slow with large amounts of data.\n",
            "  func(*args, **kwargs)\n",
            "/usr/local/lib/python3.10/dist-packages/IPython/core/pylabtools.py:151: UserWarning: Creating legend with loc=\"best\" can be slow with large amounts of data.\n",
            "  fig.canvas.print_figure(bytes_io, **kw)\n"
          ]
        },
        {
          "data": {
            "image/png": "[encoded data removed]",
            "text/plain": [
              "<Figure size 640x480 with 1 Axes>"
            ]
          },
          "metadata": {},
          "output_type": "display_data"
        }
      ],
      "source": [
        "sns.scatterplot(data=pandas_df)"
      ]
    },
    {
      "cell_type": "code",
      "execution_count": null,
      "metadata": {
        "id": "OpeGSHXaF9_k"
      },
      "outputs": [],
      "source": [
        "from pyspark.sql import SparkSession"
      ]
    },
    {
      "cell_type": "code",
      "execution_count": null,
      "metadata": {
        "id": "MWXK6bYnGCud"
      },
      "outputs": [],
      "source": [
        "spark  = SparkSession.builder.appName(\"Airline Rating\").getOrCreate()"
      ]
    },
    {
      "cell_type": "code",
      "execution_count": null,
      "metadata": {
        "id": "2eFJEuXAGJU6"
      },
      "outputs": [],
      "source": [
        "spark_df = spark.read.csv('Invistico_Airline.csv', header=True)"
      ]
    },
    {
      "cell_type": "code",
      "execution_count": null,
      "metadata": {
        "colab": {
          "base_uri": "https://localhost:8080/"
        },
        "id": "1HJJ11HVH7WU",
        "outputId": "af414f91-7e70-42b3-e970-ab4d0afbbe99"
      },
      "outputs": [
        {
          "name": "stdout",
          "output_type": "stream",
          "text": [
            "+------------+--------------+---+---------------+--------+---------------+------------+---------------------------------+--------------+-------------+---------------------+----------------------+--------------+----------------------+----------------+----------------+----------------+---------------+-----------+---------------+--------------------------+------------------------+\n",
            "|satisfaction| Customer Type|Age| Type of Travel|   Class|Flight Distance|Seat comfort|Departure/Arrival time convenient|Food and drink|Gate location|Inflight wifi service|Inflight entertainment|Online support|Ease of Online booking|On-board service|Leg room service|Baggage handling|Checkin service|Cleanliness|Online boarding|Departure Delay in Minutes|Arrival Delay in Minutes|\n",
            "+------------+--------------+---+---------------+--------+---------------+------------+---------------------------------+--------------+-------------+---------------------+----------------------+--------------+----------------------+----------------+----------------+----------------+---------------+-----------+---------------+--------------------------+------------------------+\n",
            "|   satisfied|Loyal Customer| 65|Personal Travel|     Eco|            265|           0|                                0|             0|            2|                    2|                     4|             2|                     3|               3|               0|               3|              5|          3|              2|                         0|                     0.0|\n",
            "|   satisfied|Loyal Customer| 47|Personal Travel|Business|           2464|           0|                                0|             0|            3|                    0|                     2|             2|                     3|               4|               4|               4|              2|          3|              2|                       310|                   305.0|\n",
            "|   satisfied|Loyal Customer| 15|Personal Travel|     Eco|           2138|           0|                                0|             0|            3|                    2|                     0|             2|                     2|               3|               3|               4|              4|          4|              2|                         0|                     0.0|\n",
            "|   satisfied|Loyal Customer| 60|Personal Travel|     Eco|            623|           0|                                0|             0|            3|                    3|                     4|             3|                     1|               1|               0|               1|              4|          1|              3|                         0|                     0.0|\n",
            "|   satisfied|Loyal Customer| 70|Personal Travel|     Eco|            354|           0|                                0|             0|            3|                    4|                     3|             4|                     2|               2|               0|               2|              4|          2|              5|                         0|                     0.0|\n",
            "|   satisfied|Loyal Customer| 30|Personal Travel|     Eco|           1894|           0|                                0|             0|            3|                    2|                     0|             2|                     2|               5|               4|               5|              5|          4|              2|                         0|                     0.0|\n",
            "|   satisfied|Loyal Customer| 66|Personal Travel|     Eco|            227|           0|                                0|             0|            3|                    2|                     5|             5|                     5|               5|               0|               5|              5|          5|              3|                        17|                    15.0|\n",
            "|   satisfied|Loyal Customer| 10|Personal Travel|     Eco|           1812|           0|                                0|             0|            3|                    2|                     0|             2|                     2|               3|               3|               4|              5|          4|              2|                         0|                     0.0|\n",
            "|   satisfied|Loyal Customer| 56|Personal Travel|Business|             73|           0|                                0|             0|            3|                    5|                     3|             5|                     4|               4|               0|               1|              5|          4|              4|                         0|                     0.0|\n",
            "|   satisfied|Loyal Customer| 22|Personal Travel|     Eco|           1556|           0|                                0|             0|            3|                    2|                     0|             2|                     2|               2|               4|               5|              3|          4|              2|                        30|                    26.0|\n",
            "|   satisfied|Loyal Customer| 58|Personal Travel|     Eco|            104|           0|                                0|             0|            3|                    3|                     3|             3|                     3|               3|               0|               1|              2|          3|              5|                        47|                    48.0|\n",
            "|   satisfied|Loyal Customer| 34|Personal Travel|     Eco|           3633|           0|                                0|             0|            4|                    2|                     0|             2|                     2|               3|               2|               5|              2|          5|              2|                         0|                     0.0|\n",
            "|   satisfied|Loyal Customer| 62|Personal Travel|     Eco|           1695|           0|                                0|             0|            4|                    5|                     0|             5|                     5|               1|               3|               2|              2|          4|              5|                         0|                     0.0|\n",
            "|   satisfied|Loyal Customer| 35|Personal Travel|     Eco|           1766|           0|                                1|             0|            1|                    4|                     0|             4|                     4|               3|               5|               2|              3|          2|              4|                         0|                     0.0|\n",
            "|   satisfied|Loyal Customer| 47|Personal Travel|     Eco|             84|           0|                                1|             0|            1|                    5|                     2|             1|                     5|               5|               0|               5|              2|          5|              2|                        40|                    48.0|\n",
            "|   satisfied|Loyal Customer| 60|Personal Travel|     Eco|           1373|           0|                                1|             0|            1|                    1|                     0|             1|                     1|               3|               4|               1|              4|          2|              1|                         0|                     0.0|\n",
            "|   satisfied|Loyal Customer| 13|Personal Travel|     Eco|           3693|           0|                                1|             0|            2|                    4|                     0|             4|                     4|               4|               4|               1|              3|          1|              4|                         5|                     0.0|\n",
            "|   satisfied|Loyal Customer| 52|Personal Travel|Business|           2610|           0|                                1|             0|            2|                    1|                     2|             2|                     1|               1|               0|               1|              2|          1|              3|                         0|                     0.0|\n",
            "|   satisfied|Loyal Customer| 55|Personal Travel|     Eco|           2554|           0|                                1|             0|            2|                    0|                     1|             1|                     2|               1|               1|               2|              1|          3|              1|                         0|                     0.0|\n",
            "|   satisfied|Loyal Customer| 28|Personal Travel|     Eco|           3095|           0|                                1|             0|            2|                    3|                     0|             3|                     3|               2|               5|               2|              3|          2|              3|                         0|                     0.0|\n",
            "+------------+--------------+---+---------------+--------+---------------+------------+---------------------------------+--------------+-------------+---------------------+----------------------+--------------+----------------------+----------------+----------------+----------------+---------------+-----------+---------------+--------------------------+------------------------+\n",
            "only showing top 20 rows\n",
            "\n"
          ]
        }
      ],
      "source": [
        "spark_df.show()"
      ]
    },
    {
      "cell_type": "code",
      "execution_count": null,
      "metadata": {
        "colab": {
          "base_uri": "https://localhost:8080/"
        },
        "id": "Ki-RNTd6IKwL",
        "outputId": "f2bdf706-62f9-4aa6-862f-b1708a58c8d6"
      },
      "outputs": [
        {
          "name": "stdout",
          "output_type": "stream",
          "text": [
            "+-------+------------+-----------------+------------------+---------------+--------+-----------------+------------------+---------------------------------+-----------------+------------------+---------------------+----------------------+------------------+----------------------+------------------+------------------+------------------+------------------+------------------+------------------+--------------------------+------------------------+\n",
            "|summary|satisfaction|    Customer Type|               Age| Type of Travel|   Class|  Flight Distance|      Seat comfort|Departure/Arrival time convenient|   Food and drink|     Gate location|Inflight wifi service|Inflight entertainment|    Online support|Ease of Online booking|  On-board service|  Leg room service|  Baggage handling|   Checkin service|       Cleanliness|   Online boarding|Departure Delay in Minutes|Arrival Delay in Minutes|\n",
            "+-------+------------+-----------------+------------------+---------------+--------+-----------------+------------------+---------------------------------+-----------------+------------------+---------------------+----------------------+------------------+----------------------+------------------+------------------+------------------+------------------+------------------+------------------+--------------------------+------------------------+\n",
            "|  count|      129880|           129880|            129880|         129880|  129880|           129880|            129880|                           129880|           129880|            129880|               129880|                129880|            129880|                129880|            129880|            129880|            129880|            129880|            129880|            129880|                    129880|                  129487|\n",
            "|   mean|        NULL|             NULL| 39.42795657530028|           NULL|    NULL|1981.409054511857| 2.838597166615337|                2.990645210963967|2.851994148444718| 2.990421927933477|   3.2491299661225748|    3.3834770557437635| 3.519702802587003|    3.4721050200184784| 3.465075454265476| 3.485902371419772| 3.695672928857407|3.3408068986757007|3.7057591623036648|3.3525870033877427|        14.713712657838004|       15.09112883918849|\n",
            "| stddev|        NULL|             NULL|15.119359950371626|           NULL|    NULL|1027.115605613393|1.3929832432699076|               1.5272243703451143|1.443729386573042|1.3059698939850515|   1.3188175196680625|    1.3460591444981007|1.3065106903517483|     1.305559648028593|1.2708355823355197|1.2922259830022622|1.1564833967396995|1.2605822849545856|1.1517739117987016|1.2987145021407405|         38.07112621503666|       38.46565024011918|\n",
            "|    min|dissatisfied|   Loyal Customer|                10|Business travel|Business|              100|                 0|                                0|                0|                 0|                    0|                     0|                 0|                     0|                 0|                 0|                 1|                 0|                 0|                 0|                         0|                     0.0|\n",
            "|    max|   satisfied|disloyal Customer|                 9|Personal Travel|Eco Plus|              999|                 5|                                5|                5|                 5|                    5|                     5|                 5|                     5|                 5|                 5|                 5|                 5|                 5|                 5|                        99|                    99.0|\n",
            "+-------+------------+-----------------+------------------+---------------+--------+-----------------+------------------+---------------------------------+-----------------+------------------+---------------------+----------------------+------------------+----------------------+------------------+------------------+------------------+------------------+------------------+------------------+--------------------------+------------------------+\n",
            "\n"
          ]
        }
      ],
      "source": [
        "spark_df.describe().show()"
      ]
    },
    {
      "cell_type": "markdown",
      "metadata": {
        "id": "LEcKsWyrv87o"
      },
      "source": [
        "### 2.PREPARING FEATURE VARIABLES FOR THE LOGISTIC REGRESSION MODEL"
      ]
    },
    {
      "cell_type": "code",
      "execution_count": 1,
      "metadata": {
        "colab": {
          "base_uri": "https://localhost:8080/",
          "height": 262
        },
        "id": "ouj7Xsz6wxpO",
        "outputId": "8c3687a3-4c26-45fd-e6da-627ce892f036"
      },
      "outputs": [
        {
          "name": "stdout",
          "output_type": "stream",
          "text": [
            "Customer Type variations\n"
          ]
        },
        {
          "ename": "NameError",
          "evalue": "ignored",
          "output_type": "error",
          "traceback": [
            "\u001b[0;31m---------------------------------------------------------------------------\u001b[0m",
            "\u001b[0;31mNameError\u001b[0m                                 Traceback (most recent call last)",
            "\u001b[0;32m<ipython-input-1-70f5629a105f>\u001b[0m in \u001b[0;36m<cell line: 3>\u001b[0;34m()\u001b[0m\n\u001b[1;32m      1\u001b[0m \u001b[0;31m#viewing the categorical features in the dataset and the variations or number of options in each column\u001b[0m\u001b[0;34m\u001b[0m\u001b[0;34m\u001b[0m\u001b[0m\n\u001b[1;32m      2\u001b[0m \u001b[0mprint\u001b[0m\u001b[0;34m(\u001b[0m\u001b[0;34m\"Customer Type variations\"\u001b[0m\u001b[0;34m)\u001b[0m\u001b[0;34m\u001b[0m\u001b[0;34m\u001b[0m\u001b[0m\n\u001b[0;32m----> 3\u001b[0;31m \u001b[0mspark_df\u001b[0m\u001b[0;34m.\u001b[0m\u001b[0mselect\u001b[0m\u001b[0;34m(\u001b[0m\u001b[0;34m'Customer Type'\u001b[0m\u001b[0;34m)\u001b[0m\u001b[0;34m.\u001b[0m\u001b[0mdistinct\u001b[0m\u001b[0;34m(\u001b[0m\u001b[0;34m)\u001b[0m\u001b[0;34m.\u001b[0m\u001b[0mshow\u001b[0m\u001b[0;34m(\u001b[0m\u001b[0;34m)\u001b[0m\u001b[0;34m\u001b[0m\u001b[0;34m\u001b[0m\u001b[0m\n\u001b[0m\u001b[1;32m      4\u001b[0m \u001b[0mprint\u001b[0m\u001b[0;34m(\u001b[0m\u001b[0;34m\"Type of Travel variations\"\u001b[0m\u001b[0;34m)\u001b[0m\u001b[0;34m\u001b[0m\u001b[0;34m\u001b[0m\u001b[0m\n\u001b[1;32m      5\u001b[0m \u001b[0mspark_df\u001b[0m\u001b[0;34m.\u001b[0m\u001b[0mselect\u001b[0m\u001b[0;34m(\u001b[0m\u001b[0;34m'Type of Travel'\u001b[0m\u001b[0;34m)\u001b[0m\u001b[0;34m.\u001b[0m\u001b[0mdistinct\u001b[0m\u001b[0;34m(\u001b[0m\u001b[0;34m)\u001b[0m\u001b[0;34m.\u001b[0m\u001b[0mshow\u001b[0m\u001b[0;34m(\u001b[0m\u001b[0;34m)\u001b[0m\u001b[0;34m\u001b[0m\u001b[0;34m\u001b[0m\u001b[0m\n",
            "\u001b[0;31mNameError\u001b[0m: name 'spark_df' is not defined"
          ]
        }
      ],
      "source": [
        "#viewing the categorical features in the dataset and the variations or number of options in each column\n",
        "print(\"Customer Type variations\")\n",
        "spark_df.select('Customer Type').distinct().show()\n",
        "print(\"Type of Travel variations\")\n",
        "spark_df.select('Type of Travel').distinct().show()\n",
        "print(\"Difference Flight Classes\")\n",
        "spark_df.select('Class').distinct().show()"
      ]
    },
    {
      "cell_type": "code",
      "execution_count": null,
      "metadata": {
        "id": "pNqQ0DsIIodJ"
      },
      "outputs": [],
      "source": [
        "from pyspark.sql.functions import col,isnan, when, count\n"
      ]
    },
    {
      "cell_type": "code",
      "execution_count": null,
      "metadata": {
        "colab": {
          "base_uri": "https://localhost:8080/"
        },
        "id": "pinViSkzIvw0",
        "outputId": "4cbe568d-5636-4e99-fcf6-3bc132cf0948"
      },
      "outputs": [
        {
          "name": "stdout",
          "output_type": "stream",
          "text": [
            "+------------+-------------+---+--------------+-----+---------------+------------+---------------------------------+--------------+-------------+---------------------+----------------------+--------------+----------------------+----------------+----------------+----------------+---------------+-----------+---------------+--------------------------+------------------------+\n",
            "|satisfaction|Customer Type|Age|Type of Travel|Class|Flight Distance|Seat comfort|Departure/Arrival time convenient|Food and drink|Gate location|Inflight wifi service|Inflight entertainment|Online support|Ease of Online booking|On-board service|Leg room service|Baggage handling|Checkin service|Cleanliness|Online boarding|Departure Delay in Minutes|Arrival Delay in Minutes|\n",
            "+------------+-------------+---+--------------+-----+---------------+------------+---------------------------------+--------------+-------------+---------------------+----------------------+--------------+----------------------+----------------+----------------+----------------+---------------+-----------+---------------+--------------------------+------------------------+\n",
            "|           0|            0|  0|             0|    0|              0|           0|                                0|             0|            0|                    0|                     0|             0|                     0|               0|               0|               0|              0|          0|              0|                         0|                     393|\n",
            "+------------+-------------+---+--------------+-----+---------------+------------+---------------------------------+--------------+-------------+---------------------+----------------------+--------------+----------------------+----------------+----------------+----------------+---------------+-----------+---------------+--------------------------+------------------------+\n",
            "\n"
          ]
        }
      ],
      "source": [
        "#checking for null values, as seen below only the Arrival delay column has null values\n",
        "spark_df.select([count(when(isnan(c) | col(c).isNull(), c)).alias(c) for c in spark_df.columns]\n",
        "   ).show()"
      ]
    },
    {
      "cell_type": "code",
      "execution_count": null,
      "metadata": {
        "colab": {
          "base_uri": "https://localhost:8080/"
        },
        "id": "F4YhYc_eVQ_P",
        "outputId": "333a9614-8cca-489c-91de-9dadbe5721eb"
      },
      "outputs": [
        {
          "data": {
            "text/plain": [
              "393"
            ]
          },
          "execution_count": 18,
          "metadata": {},
          "output_type": "execute_result"
        }
      ],
      "source": [
        "#counting the columns will null values\n",
        "spark_df.count()-spark_df.dropna().count()\n"
      ]
    },
    {
      "cell_type": "code",
      "execution_count": null,
      "metadata": {
        "colab": {
          "base_uri": "https://localhost:8080/"
        },
        "id": "ffEH50exWw29",
        "outputId": "230bbd7b-ec86-4b67-984d-7bcdbf984244"
      },
      "outputs": [
        {
          "data": {
            "text/plain": [
              "129487"
            ]
          },
          "execution_count": 19,
          "metadata": {},
          "output_type": "execute_result"
        }
      ],
      "source": [
        "#counting the columns without the null values\n",
        "spark_df.dropna().count()"
      ]
    },
    {
      "cell_type": "code",
      "execution_count": null,
      "metadata": {
        "id": "g3WQps3nW9HF"
      },
      "outputs": [],
      "source": [
        "#dropping the null values\n",
        "clean_df=spark_df.dropna()\n"
      ]
    },
    {
      "cell_type": "code",
      "execution_count": null,
      "metadata": {
        "colab": {
          "base_uri": "https://localhost:8080/"
        },
        "id": "VE3HNpVzVFZk",
        "outputId": "b70f27a8-6e5e-4826-b541-5f7e512ff315"
      },
      "outputs": [
        {
          "name": "stdout",
          "output_type": "stream",
          "text": [
            "(129487, 22)\n"
          ]
        }
      ],
      "source": [
        "print((clean_df.count(), len(clean_df.columns)))"
      ]
    },
    {
      "cell_type": "code",
      "execution_count": null,
      "metadata": {
        "colab": {
          "base_uri": "https://localhost:8080/"
        },
        "id": "LHyR_FEyXcfl",
        "outputId": "6cae1fba-d06c-4863-d6ef-0f2993ea4c00"
      },
      "outputs": [
        {
          "name": "stdout",
          "output_type": "stream",
          "text": [
            "+------------+-------------+---+--------------+-----+---------------+------------+---------------------------------+--------------+-------------+---------------------+----------------------+--------------+----------------------+----------------+----------------+----------------+---------------+-----------+---------------+--------------------------+------------------------+\n",
            "|satisfaction|Customer Type|Age|Type of Travel|Class|Flight Distance|Seat comfort|Departure/Arrival time convenient|Food and drink|Gate location|Inflight wifi service|Inflight entertainment|Online support|Ease of Online booking|On-board service|Leg room service|Baggage handling|Checkin service|Cleanliness|Online boarding|Departure Delay in Minutes|Arrival Delay in Minutes|\n",
            "+------------+-------------+---+--------------+-----+---------------+------------+---------------------------------+--------------+-------------+---------------------+----------------------+--------------+----------------------+----------------+----------------+----------------+---------------+-----------+---------------+--------------------------+------------------------+\n",
            "|           0|            0|  0|             0|    0|              0|           0|                                0|             0|            0|                    0|                     0|             0|                     0|               0|               0|               0|              0|          0|              0|                         0|                       0|\n",
            "+------------+-------------+---+--------------+-----+---------------+------------+---------------------------------+--------------+-------------+---------------------+----------------------+--------------+----------------------+----------------+----------------+----------------+---------------+-----------+---------------+--------------------------+------------------------+\n",
            "\n"
          ]
        }
      ],
      "source": [
        "#Viewing columns after removing the null values, as seen below none of the columns now have null values\n",
        "clean_df.select([count(when(isnan(c) | col(c).isNull(), c)).alias(c) for c in clean_df.columns]\n",
        "   ).show()"
      ]
    },
    {
      "cell_type": "markdown",
      "metadata": {
        "id": "smJOITxPfd3V"
      },
      "source": []
    },
    {
      "cell_type": "markdown",
      "metadata": {
        "id": "1lRPAuZ-fr32"
      },
      "source": [
        "###3. FEATURE-SELECTION (IDENTIFYING X AND Y VARIABLES)\n",
        "**3.1.Identifying the Target column(y variable)<br>**\n",
        "For the purpose of this model, the 'Satisfaction' column will be used as the target(y) column.As mentioned above, the aim on building this model is to use the data from the Airline passagers to be able to predict if the passanger will be satisfied or not satisfied with the Airline's services."
      ]
    },
    {
      "cell_type": "code",
      "execution_count": null,
      "metadata": {
        "colab": {
          "base_uri": "https://localhost:8080/"
        },
        "id": "lwJKw762fvXi",
        "outputId": "72668deb-ed4c-4191-87c6-072da25ee4e8"
      },
      "outputs": [
        {
          "name": "stdout",
          "output_type": "stream",
          "text": [
            "+------------+\n",
            "|satisfaction|\n",
            "+------------+\n",
            "|dissatisfied|\n",
            "|   satisfied|\n",
            "+------------+\n",
            "\n"
          ]
        }
      ],
      "source": [
        "#viewing the options in the satisfaction column, as seen below, there are only 2 options,hence this is a binary classification problem\n",
        "clean_df.select('satisfaction').distinct().show()\n"
      ]
    },
    {
      "cell_type": "code",
      "execution_count": null,
      "metadata": {
        "colab": {
          "base_uri": "https://localhost:8080/"
        },
        "id": "fNoCm4AugqZx",
        "outputId": "20a41114-88c0-44ed-cd74-b7b2d8ee45f3"
      },
      "outputs": [
        {
          "name": "stdout",
          "output_type": "stream",
          "text": [
            "+------------+-----+\n",
            "|satisfaction|count|\n",
            "+------------+-----+\n",
            "|dissatisfied|58605|\n",
            "|   satisfied|70882|\n",
            "+------------+-----+\n",
            "\n"
          ]
        }
      ],
      "source": [
        "#counting how many records for each output in the target column\n",
        "clean_df.groupBy('satisfaction').count().show()\n"
      ]
    },
    {
      "cell_type": "code",
      "execution_count": null,
      "metadata": {
        "id": "Kl_TMy9ap5mb"
      },
      "outputs": [],
      "source": [
        "#creating a visual for the records for each category(output) in the target column\n",
        "visualise_df = clean_df.toPandas()"
      ]
    },
    {
      "cell_type": "code",
      "execution_count": null,
      "metadata": {
        "id": "FqCcz7TSv9tC"
      },
      "outputs": [],
      "source": [
        "value_counts=visualise_df['satisfaction'].value_counts()"
      ]
    },
    {
      "cell_type": "code",
      "execution_count": null,
      "metadata": {
        "colab": {
          "base_uri": "https://localhost:8080/",
          "height": 632
        },
        "id": "E0rnE2rxuqfD",
        "outputId": "0da614ba-e4dc-4e31-dbba-6c219000afc6"
      },
      "outputs": [
        {
          "data": {
            "text/plain": [
              "(array([0, 1]), [Text(0, 0, 'satisfied'), Text(1, 0, 'dissatisfied')])"
            ]
          },
          "execution_count": 27,
          "metadata": {},
          "output_type": "execute_result"
        },
        {
          "data": {
            "image/png": "[encoded data removed]",
            "text/plain": [
              "<Figure size 800x600 with 1 Axes>"
            ]
          },
          "metadata": {},
          "output_type": "display_data"
        }
      ],
      "source": [
        "plt.figure(figsize=(8, 6))\n",
        "sns.barplot(x=value_counts.index, y=value_counts.values)\n",
        "plt.title(f\"Airline Service Satisfaction count \")\n",
        "plt.xlabel('satisfaction')\n",
        "plt.ylabel(\"Count\")\n",
        "plt.xticks(rotation=45)"
      ]
    },
    {
      "cell_type": "code",
      "execution_count": null,
      "metadata": {
        "id": "vs9F76Uug_Ow"
      },
      "outputs": [],
      "source": [
        "#Encoding the target column to binary(0 and 1)\n",
        "cleaned_df = clean_df.withColumn(\"satisfaction\",when(col(\"satisfaction\")==\"dissatisfied\",0)\n",
        ".when(col(\"satisfaction\")==\"satisfied\",1))"
      ]
    },
    {
      "cell_type": "code",
      "execution_count": null,
      "metadata": {
        "colab": {
          "base_uri": "https://localhost:8080/"
        },
        "id": "jFl85c9BsMhD",
        "outputId": "3670b5bd-cec2-412d-b312-e1fb9770dbb2"
      },
      "outputs": [
        {
          "name": "stdout",
          "output_type": "stream",
          "text": [
            "+------------+--------------+---+---------------+--------+---------------+------------+---------------------------------+--------------+-------------+---------------------+----------------------+--------------+----------------------+----------------+----------------+----------------+---------------+-----------+---------------+--------------------------+------------------------+\n",
            "|satisfaction| Customer Type|Age| Type of Travel|   Class|Flight Distance|Seat comfort|Departure/Arrival time convenient|Food and drink|Gate location|Inflight wifi service|Inflight entertainment|Online support|Ease of Online booking|On-board service|Leg room service|Baggage handling|Checkin service|Cleanliness|Online boarding|Departure Delay in Minutes|Arrival Delay in Minutes|\n",
            "+------------+--------------+---+---------------+--------+---------------+------------+---------------------------------+--------------+-------------+---------------------+----------------------+--------------+----------------------+----------------+----------------+----------------+---------------+-----------+---------------+--------------------------+------------------------+\n",
            "|           1|Loyal Customer| 65|Personal Travel|     Eco|            265|           0|                                0|             0|            2|                    2|                     4|             2|                     3|               3|               0|               3|              5|          3|              2|                         0|                     0.0|\n",
            "|           1|Loyal Customer| 47|Personal Travel|Business|           2464|           0|                                0|             0|            3|                    0|                     2|             2|                     3|               4|               4|               4|              2|          3|              2|                       310|                   305.0|\n",
            "|           1|Loyal Customer| 15|Personal Travel|     Eco|           2138|           0|                                0|             0|            3|                    2|                     0|             2|                     2|               3|               3|               4|              4|          4|              2|                         0|                     0.0|\n",
            "|           1|Loyal Customer| 60|Personal Travel|     Eco|            623|           0|                                0|             0|            3|                    3|                     4|             3|                     1|               1|               0|               1|              4|          1|              3|                         0|                     0.0|\n",
            "|           1|Loyal Customer| 70|Personal Travel|     Eco|            354|           0|                                0|             0|            3|                    4|                     3|             4|                     2|               2|               0|               2|              4|          2|              5|                         0|                     0.0|\n",
            "|           1|Loyal Customer| 30|Personal Travel|     Eco|           1894|           0|                                0|             0|            3|                    2|                     0|             2|                     2|               5|               4|               5|              5|          4|              2|                         0|                     0.0|\n",
            "|           1|Loyal Customer| 66|Personal Travel|     Eco|            227|           0|                                0|             0|            3|                    2|                     5|             5|                     5|               5|               0|               5|              5|          5|              3|                        17|                    15.0|\n",
            "|           1|Loyal Customer| 10|Personal Travel|     Eco|           1812|           0|                                0|             0|            3|                    2|                     0|             2|                     2|               3|               3|               4|              5|          4|              2|                         0|                     0.0|\n",
            "|           1|Loyal Customer| 56|Personal Travel|Business|             73|           0|                                0|             0|            3|                    5|                     3|             5|                     4|               4|               0|               1|              5|          4|              4|                         0|                     0.0|\n",
            "|           1|Loyal Customer| 22|Personal Travel|     Eco|           1556|           0|                                0|             0|            3|                    2|                     0|             2|                     2|               2|               4|               5|              3|          4|              2|                        30|                    26.0|\n",
            "|           1|Loyal Customer| 58|Personal Travel|     Eco|            104|           0|                                0|             0|            3|                    3|                     3|             3|                     3|               3|               0|               1|              2|          3|              5|                        47|                    48.0|\n",
            "|           1|Loyal Customer| 34|Personal Travel|     Eco|           3633|           0|                                0|             0|            4|                    2|                     0|             2|                     2|               3|               2|               5|              2|          5|              2|                         0|                     0.0|\n",
            "|           1|Loyal Customer| 62|Personal Travel|     Eco|           1695|           0|                                0|             0|            4|                    5|                     0|             5|                     5|               1|               3|               2|              2|          4|              5|                         0|                     0.0|\n",
            "|           1|Loyal Customer| 35|Personal Travel|     Eco|           1766|           0|                                1|             0|            1|                    4|                     0|             4|                     4|               3|               5|               2|              3|          2|              4|                         0|                     0.0|\n",
            "|           1|Loyal Customer| 47|Personal Travel|     Eco|             84|           0|                                1|             0|            1|                    5|                     2|             1|                     5|               5|               0|               5|              2|          5|              2|                        40|                    48.0|\n",
            "|           1|Loyal Customer| 60|Personal Travel|     Eco|           1373|           0|                                1|             0|            1|                    1|                     0|             1|                     1|               3|               4|               1|              4|          2|              1|                         0|                     0.0|\n",
            "|           1|Loyal Customer| 13|Personal Travel|     Eco|           3693|           0|                                1|             0|            2|                    4|                     0|             4|                     4|               4|               4|               1|              3|          1|              4|                         5|                     0.0|\n",
            "|           1|Loyal Customer| 52|Personal Travel|Business|           2610|           0|                                1|             0|            2|                    1|                     2|             2|                     1|               1|               0|               1|              2|          1|              3|                         0|                     0.0|\n",
            "|           1|Loyal Customer| 55|Personal Travel|     Eco|           2554|           0|                                1|             0|            2|                    0|                     1|             1|                     2|               1|               1|               2|              1|          3|              1|                         0|                     0.0|\n",
            "|           1|Loyal Customer| 28|Personal Travel|     Eco|           3095|           0|                                1|             0|            2|                    3|                     0|             3|                     3|               2|               5|               2|              3|          2|              3|                         0|                     0.0|\n",
            "|           1|Loyal Customer|  9|Personal Travel|     Eco|           3305|           0|                                1|             0|            2|                    3|                     0|             5|                     3|               1|               1|               1|              3|          3|              3|                         0|                     0.0|\n",
            "|           1|Loyal Customer| 10|Personal Travel|     Eco|           2090|           0|                                1|             0|            2|                    1|                     0|             1|                     1|               3|               5|               1|              4|          2|              1|                         0|                     0.0|\n",
            "|           1|Loyal Customer| 25|Personal Travel|     Eco|           2122|           0|                                1|             0|            2|                    2|                     0|             4|                     2|               4|               1|               3|              1|          3|              2|                         0|                     0.0|\n",
            "|           1|Loyal Customer| 53|Personal Travel|Business|           1099|           0|                                1|             0|            2|                    1|                     3|             3|                     1|               1|               0|               1|              3|          1|              1|                         0|                     0.0|\n",
            "|           1|Loyal Customer| 16|Personal Travel|Eco Plus|           1747|           0|                                1|             0|            2|                    2|                     0|             2|                     2|               3|               3|               2|              4|          3|              2|                         0|                     0.0|\n",
            "|           1|Loyal Customer| 30|Personal Travel|     Eco|           1817|           0|                                1|             0|            2|                    4|                     0|             4|                     4|               2|               1|               3|              3|          2|              4|                         0|                     0.0|\n",
            "|           1|Loyal Customer| 64|Personal Travel|     Eco|           1707|           0|                                1|             0|            2|                    5|                     0|             3|                     5|               4|               4|               2|              3|          2|              5|                         0|                     0.0|\n",
            "|           1|Loyal Customer| 42|Personal Travel|     Eco|            470|           0|                                1|             0|            2|                    3|                     2|             2|                     3|               3|               0|               3|              1|          3|              4|                         2|                    23.0|\n",
            "|           1|Loyal Customer|  9|Personal Travel|     Eco|            972|           0|                                1|             0|            2|                    4|                     0|             4|                     4|               4|               3|               3|              1|          3|              4|                         0|                     0.0|\n",
            "|           1|Loyal Customer| 35|Personal Travel|     Eco|           3695|           0|                                1|             0|            3|                    0|                     4|             4|                     2|               2|               3|               4|              4|          3|              4|                         0|                     0.0|\n",
            "|           1|Loyal Customer| 62|Personal Travel|Eco Plus|           2948|           0|                                1|             0|            3|                    5|                     0|             5|                     5|               4|               1|               2|              2|          2|              5|                        34|                    19.0|\n",
            "|           1|Loyal Customer| 21|Personal Travel|     Eco|           2823|           0|                                1|             0|            3|                    2|                     0|             2|                     2|               2|               2|               2|              2|          3|              2|                         4|                     0.0|\n",
            "|           1|Loyal Customer| 20|Personal Travel|     Eco|           2485|           0|                                1|             0|            3|                    2|                     0|             2|                     2|               2|               3|               3|              4|          3|              2|                         0|                     0.0|\n",
            "|           1|Loyal Customer| 26|Personal Travel|     Eco|           2408|           0|                                1|             0|            3|                    4|                     0|             4|                     4|               1|               4|               4|              2|          3|              4|                         0|                     0.0|\n",
            "|           1|Loyal Customer| 20|Personal Travel|     Eco|           3009|           0|                                1|             0|            3|                    4|                     0|             3|                     4|               1|               2|               3|              1|          4|              4|                         0|                     0.0|\n",
            "|           1|Loyal Customer| 48|Personal Travel|     Eco|           1449|           0|                                1|             0|            3|                    3|                     3|             2|                     2|               2|               1|               2|              4|          2|              2|                         0|                     2.0|\n",
            "|           1|Loyal Customer| 10|Personal Travel|     Eco|           3209|           0|                                1|             0|            3|                    4|                     0|             4|                     4|               4|               3|               3|              1|          4|              4|                         0|                     0.0|\n",
            "|           1|Loyal Customer| 57|Personal Travel|     Eco|           2840|           0|                                1|             0|            3|                    4|                     0|             4|                     4|               2|               4|               2|              4|          3|              4|                         0|                     0.0|\n",
            "|           1|Loyal Customer| 25|Personal Travel|     Eco|           2534|           0|                                1|             0|            3|                    2|                     0|             2|                     2|               3|               5|               2|              1|          4|              2|                         0|                     0.0|\n",
            "|           1|Loyal Customer| 31|Personal Travel|     Eco|           2162|           0|                                1|             0|            3|                    2|                     0|             3|                     2|               1|               4|               2|              1|          2|              2|                        13|                     0.0|\n",
            "|           1|Loyal Customer| 22|Personal Travel|     Eco|           2352|           0|                                1|             0|            3|                    3|                     0|             3|                     3|               2|               1|               2|              2|          3|              3|                         0|                     0.0|\n",
            "|           1|Loyal Customer| 17|Personal Travel|     Eco|           2748|           0|                                1|             0|            3|                    1|                     4|             4|                     3|               1|               3|               4|              4|          1|              4|                       427|                   440.0|\n",
            "|           1|Loyal Customer| 33|Personal Travel|     Eco|           2045|           0|                                1|             0|            3|                    1|                     0|             4|                     1|               4|               5|               4|              3|          3|              1|                        15|                     0.0|\n",
            "|           1|Loyal Customer| 32|Personal Travel|     Eco|           2343|           0|                                1|             0|            3|                    1|                     0|             1|                     1|               2|               2|               1|              1|          3|              1|                         0|                     0.0|\n",
            "|           1|Loyal Customer| 60|Personal Travel|     Eco|            912|           0|                                1|             0|            3|                    4|                     3|             4|                     2|               2|               0|               2|              4|          2|              1|                        10|                     2.0|\n",
            "|           1|Loyal Customer| 38|Personal Travel|Eco Plus|           2139|           0|                                1|             0|            3|                    5|                     0|             5|                     5|               3|               5|               3|              3|          2|              5|                         0|                     0.0|\n",
            "|           1|Loyal Customer| 29|Personal Travel|     Eco|           1918|           0|                                1|             0|            3|                    5|                     0|             5|                     5|               1|               3|               3|              3|          4|              5|                        16|                     5.0|\n",
            "|           1|Loyal Customer| 42|Personal Travel|     Eco|           2311|           0|                                1|             0|            3|                    1|                     0|             1|                     1|               1|               4|               3|              2|          3|              1|                         0|                     0.0|\n",
            "|           1|Loyal Customer| 31|Personal Travel|Business|           1599|           0|                                1|             0|            3|                    2|                     0|             2|                     2|               4|               2|               3|              3|          3|              2|                        10|                     0.0|\n",
            "|           1|Loyal Customer| 34|Personal Travel|     Eco|           1816|           0|                                1|             0|            3|                    4|                     0|             4|                     4|               1|               1|               2|              3|          2|              4|                         0|                     0.0|\n",
            "+------------+--------------+---+---------------+--------+---------------+------------+---------------------------------+--------------+-------------+---------------------+----------------------+--------------+----------------------+----------------+----------------+----------------+---------------+-----------+---------------+--------------------------+------------------------+\n",
            "only showing top 50 rows\n",
            "\n"
          ]
        }
      ],
      "source": [
        "#showing the encoded column in the dataset\n",
        "cleaned_df.show(50)"
      ]
    },
    {
      "cell_type": "markdown",
      "metadata": {
        "id": "uIPWIcpVtECp"
      },
      "source": [
        "As seen above, the satisfaction column is showing only satisfied rows,this might be because the dataset was sort so that the 2 categories are appearing after each other, below, i reshuffle the dataset so that the rows are mixed on both satisfied and dissatisfied"
      ]
    },
    {
      "cell_type": "code",
      "execution_count": null,
      "metadata": {
        "id": "IbQ2RC-rszeB"
      },
      "outputs": [],
      "source": [
        "from pyspark.sql.functions import rand"
      ]
    },
    {
      "cell_type": "code",
      "execution_count": null,
      "metadata": {
        "id": "aSrwTh6Wsqw6"
      },
      "outputs": [],
      "source": [
        "#randomising the roows in my dataset so that it is fairly proportioned for train/test split\n",
        "shuffled_df = cleaned_df.orderBy(rand())"
      ]
    },
    {
      "cell_type": "code",
      "execution_count": null,
      "metadata": {
        "colab": {
          "base_uri": "https://localhost:8080/"
        },
        "id": "OnfrBZ0Qs4H4",
        "outputId": "5ae6c5be-4108-4419-8c67-d15b08c63658"
      },
      "outputs": [
        {
          "name": "stdout",
          "output_type": "stream",
          "text": [
            "+------------+-----------------+---+---------------+--------+---------------+------------+---------------------------------+--------------+-------------+---------------------+----------------------+--------------+----------------------+----------------+----------------+----------------+---------------+-----------+---------------+--------------------------+------------------------+\n",
            "|satisfaction|    Customer Type|Age| Type of Travel|   Class|Flight Distance|Seat comfort|Departure/Arrival time convenient|Food and drink|Gate location|Inflight wifi service|Inflight entertainment|Online support|Ease of Online booking|On-board service|Leg room service|Baggage handling|Checkin service|Cleanliness|Online boarding|Departure Delay in Minutes|Arrival Delay in Minutes|\n",
            "+------------+-----------------+---+---------------+--------+---------------+------------+---------------------------------+--------------+-------------+---------------------+----------------------+--------------+----------------------+----------------+----------------+----------------+---------------+-----------+---------------+--------------------------+------------------------+\n",
            "|           1|   Loyal Customer| 57|Business travel|Business|           1881|           0|                                0|             0|            3|                    5|                     4|             4|                     2|               2|               2|               5|              4|          2|              3|                         0|                    12.0|\n",
            "|           0|disloyal Customer| 22|Business travel|     Eco|           2338|           1|                                1|             1|            2|                    4|                     1|             4|                     4|               5|               4|               5|              5|          4|              4|                        47|                    52.0|\n",
            "|           0|   Loyal Customer| 21|Personal Travel|     Eco|           1559|           2|                                1|             2|            4|                    5|                     2|             5|                     5|               2|               5|               4|              4|          4|              5|                        21|                    16.0|\n",
            "|           1|   Loyal Customer| 31|Business travel|Business|           3514|           4|                                4|             2|            4|                    4|                     4|             4|                     4|               3|               4|               3|              2|          5|              4|                         0|                     0.0|\n",
            "|           0|   Loyal Customer| 18|Business travel|Business|           1466|           2|                                1|             1|            1|                    2|                     2|             2|                     2|               2|               5|               4|              3|          4|              2|                         0|                     0.0|\n",
            "|           1|disloyal Customer| 21|Business travel|     Eco|           1733|           0|                                3|             0|            1|                    2|                     0|             2|                     2|               4|               5|               3|              3|          3|              2|                        96|                    79.0|\n",
            "|           0|   Loyal Customer| 58|Personal Travel|Business|            255|           3|                                2|             3|            3|                    4|                     3|             3|                     5|               5|               3|               5|              1|          5|              3|                        20|                    19.0|\n",
            "|           1|   Loyal Customer| 11|Personal Travel|     Eco|           2038|           1|                                1|             5|            1|                    3|                     4|             4|                     4|               4|               4|               4|              4|          4|              3|                         0|                     0.0|\n",
            "|           1|   Loyal Customer| 51|Personal Travel|Eco Plus|            528|           4|                                2|             2|            2|                    4|                     4|             4|                     4|               2|               2|               5|              5|          5|              4|                         0|                     1.0|\n",
            "|           0|   Loyal Customer| 70|Personal Travel|     Eco|           3530|           1|                                5|             1|            3|                    4|                     1|             4|                     4|               4|               5|               4|              5|          4|              4|                        30|                    55.0|\n",
            "|           1|   Loyal Customer| 65|Personal Travel|     Eco|           1933|           5|                                4|             5|            3|                    5|                     5|             5|                     5|               5|               4|               4|              3|          5|              5|                         6|                    13.0|\n",
            "|           0|disloyal Customer| 28|Business travel|Business|           1964|           2|                                2|             2|            1|                    3|                     2|             3|                     3|               4|               3|               4|              3|          5|              3|                        22|                    14.0|\n",
            "|           0|   Loyal Customer| 47|Business travel|     Eco|            602|           1|                                2|             2|            2|                    5|                     2|             3|                     1|               1|               1|               1|              3|          1|              4|                        29|                    14.0|\n",
            "|           1|   Loyal Customer| 43|Business travel|Business|           2178|           1|                                1|             1|            1|                    4|                     3|             5|                     4|               4|               4|               4|              4|          4|              5|                         0|                     0.0|\n",
            "|           1|   Loyal Customer| 19|Personal Travel|     Eco|           1906|           5|                                5|             5|            1|                    2|                     5|             4|                     1|               1|               5|               1|              5|          1|              4|                        31|                    23.0|\n",
            "|           0|   Loyal Customer| 66|Personal Travel|     Eco|           1848|           3|                                3|             3|            3|                    2|                     3|             5|                     2|               2|               1|               4|              4|          3|              2|                        10|                    19.0|\n",
            "|           1|   Loyal Customer| 21|Personal Travel|Business|           2995|           5|                                2|             5|            3|                    2|                     5|             2|                     2|               3|               5|               4|              2|          4|              2|                        28|                     9.0|\n",
            "|           0|   Loyal Customer| 35|Personal Travel|     Eco|           1374|           3|                                5|             3|            4|                    4|                     3|             1|                     4|               4|               3|               5|              3|          5|              4|                         0|                     7.0|\n",
            "|           0|disloyal Customer| 20|Business travel|Eco Plus|           1978|           3|                                1|             3|            3|                    4|                     3|             2|                     4|               2|               1|               4|              3|          3|              4|                         0|                     0.0|\n",
            "|           1|   Loyal Customer| 57|Personal Travel|     Eco|           1096|           0|                                0|             0|            2|                    5|                     5|             5|                     4|               4|               3|               3|              3|          4|              5|                        11|                     0.0|\n",
            "|           1|   Loyal Customer| 65|Personal Travel|     Eco|            831|           4|                                4|             4|            4|                    2|                     3|             5|                     5|               5|               5|               5|              4|          5|              3|                         0|                     0.0|\n",
            "|           1|   Loyal Customer| 65|Personal Travel|     Eco|            394|           2|                                2|             2|            2|                    4|                     4|             4|                     5|               5|               4|               5|              3|          5|              3|                         0|                     0.0|\n",
            "|           0|   Loyal Customer| 42|Personal Travel|Eco Plus|           1683|           3|                                4|             3|            4|                    5|                     3|             5|                     5|               5|               4|               4|              5|          4|              5|                         0|                     0.0|\n",
            "|           0|   Loyal Customer| 54|Business travel|Business|            738|           4|                                4|             4|            4|                    4|                     2|             2|                     4|               4|               4|               4|              1|          4|              1|                         0|                     0.0|\n",
            "|           1|   Loyal Customer| 53|Business travel|Business|           3748|           3|                                3|             3|            3|                    3|                     5|             4|                     5|               5|               5|               5|              3|          5|              3|                        15|                     6.0|\n",
            "|           0|   Loyal Customer| 25|Personal Travel|     Eco|           1853|           3|                                4|             3|            3|                    5|                     3|             5|                     5|               1|               3|               3|              4|          4|              5|                        99|                    90.0|\n",
            "|           0|disloyal Customer| 33|Business travel|     Eco|           1893|           1|                                0|             1|            4|                    5|                     1|             2|                     5|               2|               3|               1|              1|          4|              5|                         0|                     0.0|\n",
            "|           1|   Loyal Customer| 40|Business travel|Business|            292|           2|                                2|             2|            2|                    5|                     4|             4|                     4|               4|               4|               4|              5|          4|              3|                        62|                    60.0|\n",
            "|           0|   Loyal Customer| 50|Business travel|Business|           1073|           3|                                1|             1|            1|                    4|                     3|             2|                     3|               3|               3|               3|              4|          3|              4|                         0|                     0.0|\n",
            "|           0|   Loyal Customer| 51|Personal Travel|     Eco|           2888|           3|                                2|             3|            3|                    5|                     3|             5|                     5|               4|               2|               4|              2|          4|              5|                        17|                     3.0|\n",
            "|           1|   Loyal Customer| 26|Business travel|Business|           4429|           1|                                1|             1|            1|                    3|                     3|             3|                     3|               4|               3|               4|              3|          4|              3|                        35|                    47.0|\n",
            "|           1|   Loyal Customer| 23|Personal Travel|     Eco|           1638|           5|                                5|             5|            3|                    2|                     5|             2|                     2|               5|               2|               4|              3|          4|              2|                        23|                    11.0|\n",
            "|           0|disloyal Customer| 13|Business travel|     Eco|           2874|           4|                                4|             4|            4|                    3|                     4|             3|                     3|               1|               4|               2|              3|          4|              3|                         9|                     0.0|\n",
            "|           1|   Loyal Customer| 41|Personal Travel|     Eco|           2312|           5|                                5|             5|            5|                    4|                     4|             5|                     3|               3|               4|               3|              3|          3|              3|                         5|                     1.0|\n",
            "|           0|   Loyal Customer| 19|Personal Travel|     Eco|           2026|           2|                                5|             2|            4|                    4|                     2|             2|                     4|               3|               2|               5|              5|          4|              4|                         0|                     0.0|\n",
            "|           0|   Loyal Customer| 40|Personal Travel|     Eco|           1309|           2|                                5|             2|            3|                    2|                     2|             2|                     2|               4|               3|               5|              4|          4|              2|                         0|                     0.0|\n",
            "|           1|disloyal Customer| 38|Business travel|     Eco|           1374|           5|                                0|             5|            3|                    5|                     5|             5|                     5|               1|               1|               4|              1|          5|              5|                         0|                     0.0|\n",
            "|           1|   Loyal Customer| 65|Personal Travel|     Eco|           1665|           5|                                5|             5|            5|                    4|                     1|             4|                     5|               5|               4|               3|              2|          5|              4|                        10|                     6.0|\n",
            "|           1|   Loyal Customer| 24|Business travel|Business|           2162|           4|                                4|             4|            4|                    5|                     5|             5|                     5|               3|               3|               5|              5|          5|              5|                         0|                     0.0|\n",
            "|           0|   Loyal Customer| 55|Personal Travel|     Eco|           2499|           3|                                3|             3|            1|                    1|                     3|             1|                     1|               3|               5|               5|              3|          4|              1|                        17|                     8.0|\n",
            "|           1|   Loyal Customer| 41|Business travel|Business|           2199|           1|                                1|             1|            1|                    5|                     5|             5|                     3|               3|               4|               3|              4|          3|              4|                         0|                     1.0|\n",
            "|           0|   Loyal Customer| 43|Business travel|Business|            618|           3|                                4|             4|            4|                    1|                     3|             2|                     3|               3|               3|               3|              4|          3|              3|                         0|                     2.0|\n",
            "|           1|   Loyal Customer| 34|Business travel|Business|           3691|           3|                                3|             3|            3|                    5|                     4|             4|                     5|               5|               5|               5|              5|          5|              3|                         1|                     0.0|\n",
            "|           1|disloyal Customer| 18|Business travel|     Eco|           2070|           5|                                5|             5|            2|                    4|                     5|             4|                     4|               5|               2|               5|              1|          4|              4|                        39|                    52.0|\n",
            "|           1|   Loyal Customer| 32|Business travel|Business|           5605|           5|                                5|             5|            5|                    5|                     5|             5|                     5|               4|               3|               4|              5|          5|              5|                        10|                    15.0|\n",
            "|           0|disloyal Customer| 19|Business travel|Eco Plus|           1869|           3|                                2|             3|            3|                    4|                     3|             4|                     4|               3|               4|               3|              3|          4|              4|                        22|                    14.0|\n",
            "|           1|   Loyal Customer| 50|Business travel|Business|           3177|           2|                                2|             2|            2|                    5|                     4|             4|                     4|               4|               4|               4|              5|          4|              3|                         0|                     0.0|\n",
            "|           1|   Loyal Customer| 60|Business travel|     Eco|            277|           4|                                2|             2|            2|                    5|                     3|             5|                     4|               4|               4|               4|              1|          4|              1|                        16|                     0.0|\n",
            "|           1|   Loyal Customer| 35|Business travel|Business|           2384|           1|                                1|             1|            1|                    2|                     4|             5|                     4|               4|               4|               4|              4|          4|              5|                         0|                     0.0|\n",
            "|           0|disloyal Customer| 15|Business travel|     Eco|           3550|           3|                                2|             2|            3|                    3|                     3|             3|                     3|               1|               3|               3|              2|          3|              3|                         8|                    16.0|\n",
            "+------------+-----------------+---+---------------+--------+---------------+------------+---------------------------------+--------------+-------------+---------------------+----------------------+--------------+----------------------+----------------+----------------+----------------+---------------+-----------+---------------+--------------------------+------------------------+\n",
            "only showing top 50 rows\n",
            "\n"
          ]
        }
      ],
      "source": [
        "shuffled_df.show(50)"
      ]
    },
    {
      "cell_type": "code",
      "execution_count": null,
      "metadata": {
        "colab": {
          "base_uri": "https://localhost:8080/"
        },
        "id": "bV7CheSEhuqf",
        "outputId": "7f24c19e-2e79-45e3-a1e1-351b3cd42a05"
      },
      "outputs": [
        {
          "name": "stdout",
          "output_type": "stream",
          "text": [
            "+------------+-----+\n",
            "|satisfaction|count|\n",
            "+------------+-----+\n",
            "|           1|70882|\n",
            "|           0|58605|\n",
            "+------------+-----+\n",
            "\n"
          ]
        }
      ],
      "source": [
        "shuffled_df.groupBy('satisfaction').count().show()\n"
      ]
    },
    {
      "cell_type": "code",
      "execution_count": null,
      "metadata": {
        "colab": {
          "base_uri": "https://localhost:8080/"
        },
        "id": "JQkxv0s0h2Bw",
        "outputId": "9418bfd5-eb4e-49be-e03a-c97182556081"
      },
      "outputs": [
        {
          "name": "stdout",
          "output_type": "stream",
          "text": [
            "root\n",
            " |-- satisfaction: integer (nullable = true)\n",
            " |-- Customer Type: string (nullable = true)\n",
            " |-- Age: string (nullable = true)\n",
            " |-- Type of Travel: string (nullable = true)\n",
            " |-- Class: string (nullable = true)\n",
            " |-- Flight Distance: string (nullable = true)\n",
            " |-- Seat comfort: string (nullable = true)\n",
            " |-- Departure/Arrival time convenient: string (nullable = true)\n",
            " |-- Food and drink: string (nullable = true)\n",
            " |-- Gate location: string (nullable = true)\n",
            " |-- Inflight wifi service: string (nullable = true)\n",
            " |-- Inflight entertainment: string (nullable = true)\n",
            " |-- Online support: string (nullable = true)\n",
            " |-- Ease of Online booking: string (nullable = true)\n",
            " |-- On-board service: string (nullable = true)\n",
            " |-- Leg room service: string (nullable = true)\n",
            " |-- Baggage handling: string (nullable = true)\n",
            " |-- Checkin service: string (nullable = true)\n",
            " |-- Cleanliness: string (nullable = true)\n",
            " |-- Online boarding: string (nullable = true)\n",
            " |-- Departure Delay in Minutes: string (nullable = true)\n",
            " |-- Arrival Delay in Minutes: string (nullable = true)\n",
            "\n"
          ]
        }
      ],
      "source": [
        "shuffled_df.printSchema()"
      ]
    },
    {
      "cell_type": "markdown",
      "metadata": {
        "id": "ZkGyqS3o0EAK"
      },
      "source": [
        "**3.2 Identifying the Feature columns(x variable)**<br>\n",
        "For this exercise, the rest of the columns will be used be combined as used as the X variable.\n",
        "This process will include:<br>\n",
        "3.2.1 Encoding all the categorical columns<br>\n",
        "3.2.2 Scaling or standarding all the numerical values into a similar scale<br>\n"
      ]
    },
    {
      "cell_type": "code",
      "execution_count": null,
      "metadata": {
        "colab": {
          "base_uri": "https://localhost:8080/"
        },
        "id": "abTU73Dh05uL",
        "outputId": "9481ed3d-1044-4798-ce24-c8b8a77fe6bd"
      },
      "outputs": [
        {
          "name": "stdout",
          "output_type": "stream",
          "text": [
            "+------------+-----------------+---+---------------+--------+---------------+------------+---------------------------------+--------------+-------------+---------------------+----------------------+--------------+----------------------+----------------+----------------+----------------+---------------+-----------+---------------+--------------------------+------------------------+\n",
            "|satisfaction|    Customer Type|Age| Type of Travel|   Class|Flight Distance|Seat comfort|Departure/Arrival time convenient|Food and drink|Gate location|Inflight wifi service|Inflight entertainment|Online support|Ease of Online booking|On-board service|Leg room service|Baggage handling|Checkin service|Cleanliness|Online boarding|Departure Delay in Minutes|Arrival Delay in Minutes|\n",
            "+------------+-----------------+---+---------------+--------+---------------+------------+---------------------------------+--------------+-------------+---------------------+----------------------+--------------+----------------------+----------------+----------------+----------------+---------------+-----------+---------------+--------------------------+------------------------+\n",
            "|           1|   Loyal Customer| 57|Business travel|Business|           1881|           0|                                0|             0|            3|                    5|                     4|             4|                     2|               2|               2|               5|              4|          2|              3|                         0|                    12.0|\n",
            "|           0|disloyal Customer| 22|Business travel|     Eco|           2338|           1|                                1|             1|            2|                    4|                     1|             4|                     4|               5|               4|               5|              5|          4|              4|                        47|                    52.0|\n",
            "|           0|   Loyal Customer| 21|Personal Travel|     Eco|           1559|           2|                                1|             2|            4|                    5|                     2|             5|                     5|               2|               5|               4|              4|          4|              5|                        21|                    16.0|\n",
            "|           1|   Loyal Customer| 31|Business travel|Business|           3514|           4|                                4|             2|            4|                    4|                     4|             4|                     4|               3|               4|               3|              2|          5|              4|                         0|                     0.0|\n",
            "|           0|   Loyal Customer| 18|Business travel|Business|           1466|           2|                                1|             1|            1|                    2|                     2|             2|                     2|               2|               5|               4|              3|          4|              2|                         0|                     0.0|\n",
            "+------------+-----------------+---+---------------+--------+---------------+------------+---------------------------------+--------------+-------------+---------------------+----------------------+--------------+----------------------+----------------+----------------+----------------+---------------+-----------+---------------+--------------------------+------------------------+\n",
            "only showing top 5 rows\n",
            "\n"
          ]
        }
      ],
      "source": [
        "shuffled_df.show(5)"
      ]
    },
    {
      "cell_type": "code",
      "execution_count": null,
      "metadata": {
        "id": "pLeKGNTG9tbF"
      },
      "outputs": [],
      "source": [
        "saved_df=shuffled_df"
      ]
    },
    {
      "cell_type": "markdown",
      "metadata": {
        "id": "L6MVTfQ34SP9"
      },
      "source": [
        "**As seen above, 3 columns(Customer type,Business Travel,and Business) are categorical values, therefore an indexor is used to assign numerical values to each categorical variable for the features.**\n"
      ]
    },
    {
      "cell_type": "code",
      "execution_count": null,
      "metadata": {
        "id": "ryZEadRO5c5s"
      },
      "outputs": [],
      "source": [
        " import pyspark.ml.feature"
      ]
    },
    {
      "cell_type": "code",
      "execution_count": null,
      "metadata": {
        "id": "MpZxoLYQ443d"
      },
      "outputs": [],
      "source": [
        "from pyspark.ml.feature import StringIndexer\n"
      ]
    },
    {
      "cell_type": "code",
      "execution_count": null,
      "metadata": {
        "id": "jqGOSZ5f8EdN"
      },
      "outputs": [],
      "source": [
        "#selecting the identified feature columns,to preprocess these I first remove the target column,the columns will be encoded by means of indexing\n",
        "feat_columns=shuffled_df.columns[1:]"
      ]
    },
    {
      "cell_type": "code",
      "execution_count": null,
      "metadata": {
        "colab": {
          "base_uri": "https://localhost:8080/"
        },
        "id": "dKmzU_rN8npS",
        "outputId": "d0a61cf9-64d2-4bcc-9c4f-7a2faabc7c98"
      },
      "outputs": [
        {
          "data": {
            "text/plain": [
              "['Customer Type',\n",
              " 'Age',\n",
              " 'Type of Travel',\n",
              " 'Class',\n",
              " 'Flight Distance',\n",
              " 'Seat comfort',\n",
              " 'Departure/Arrival time convenient',\n",
              " 'Food and drink',\n",
              " 'Gate location',\n",
              " 'Inflight wifi service',\n",
              " 'Inflight entertainment',\n",
              " 'Online support',\n",
              " 'Ease of Online booking',\n",
              " 'On-board service',\n",
              " 'Leg room service',\n",
              " 'Baggage handling',\n",
              " 'Checkin service',\n",
              " 'Cleanliness',\n",
              " 'Online boarding',\n",
              " 'Departure Delay in Minutes',\n",
              " 'Arrival Delay in Minutes']"
            ]
          },
          "execution_count": 40,
          "metadata": {},
          "output_type": "execute_result"
        }
      ],
      "source": [
        "feat_columns"
      ]
    },
    {
      "cell_type": "code",
      "execution_count": null,
      "metadata": {
        "id": "ePf9-n3I-iZO"
      },
      "outputs": [],
      "source": [
        "categoricalColumns = feat_columns\n",
        "indexers = []\n",
        "for categoricalCol in categoricalColumns:\n",
        "  stringindexer = StringIndexer(inputCol=categoricalCol,\n",
        "outputCol=categoricalCol+\"_index\")\n",
        "  indexers += [stringindexer]\n"
      ]
    },
    {
      "cell_type": "code",
      "execution_count": null,
      "metadata": {
        "id": "RPsDEG8P86jV"
      },
      "outputs": [],
      "source": [
        "models=[]\n",
        "for model in indexers:\n",
        "  indexer_model=model.fit(shuffled_df)\n",
        "  models+=[indexer_model]\n",
        "\n",
        "for i in models:\n",
        "  shuffled_df=i.transform(shuffled_df)"
      ]
    },
    {
      "cell_type": "code",
      "execution_count": null,
      "metadata": {
        "colab": {
          "base_uri": "https://localhost:8080/"
        },
        "id": "Mw9CvfXP_iAO",
        "outputId": "9bcbc855-4d1c-44dc-c756-0a48cb1cfbae"
      },
      "outputs": [
        {
          "data": {
            "text/plain": [
              "['satisfaction',\n",
              " 'Customer Type',\n",
              " 'Age',\n",
              " 'Type of Travel',\n",
              " 'Class',\n",
              " 'Flight Distance',\n",
              " 'Seat comfort',\n",
              " 'Departure/Arrival time convenient',\n",
              " 'Food and drink',\n",
              " 'Gate location',\n",
              " 'Inflight wifi service',\n",
              " 'Inflight entertainment',\n",
              " 'Online support',\n",
              " 'Ease of Online booking',\n",
              " 'On-board service',\n",
              " 'Leg room service',\n",
              " 'Baggage handling',\n",
              " 'Checkin service',\n",
              " 'Cleanliness',\n",
              " 'Online boarding',\n",
              " 'Departure Delay in Minutes',\n",
              " 'Arrival Delay in Minutes',\n",
              " 'Customer Type_index',\n",
              " 'Age_index',\n",
              " 'Type of Travel_index',\n",
              " 'Class_index',\n",
              " 'Flight Distance_index',\n",
              " 'Seat comfort_index',\n",
              " 'Departure/Arrival time convenient_index',\n",
              " 'Food and drink_index',\n",
              " 'Gate location_index',\n",
              " 'Inflight wifi service_index',\n",
              " 'Inflight entertainment_index',\n",
              " 'Online support_index',\n",
              " 'Ease of Online booking_index',\n",
              " 'On-board service_index',\n",
              " 'Leg room service_index',\n",
              " 'Baggage handling_index',\n",
              " 'Checkin service_index',\n",
              " 'Cleanliness_index',\n",
              " 'Online boarding_index',\n",
              " 'Departure Delay in Minutes_index',\n",
              " 'Arrival Delay in Minutes_index']"
            ]
          },
          "execution_count": 43,
          "metadata": {},
          "output_type": "execute_result"
        }
      ],
      "source": [
        "#The feature columns have been indexed, the dataset has now been duplicated with unindexed and indexed columns\n",
        "shuffled_df.columns"
      ]
    },
    {
      "cell_type": "code",
      "execution_count": null,
      "metadata": {
        "colab": {
          "base_uri": "https://localhost:8080/"
        },
        "id": "PQYzCWpo_3St",
        "outputId": "0b86d6b5-5e2a-4e0d-cb72-cd525b42d492"
      },
      "outputs": [
        {
          "name": "stdout",
          "output_type": "stream",
          "text": [
            "+-----------------+-------------------+---------------+--------------------+--------+-----------+\n",
            "|    Customer Type|Customer Type_index| Type of Travel|Type of Travel_index|   Class|Class_index|\n",
            "+-----------------+-------------------+---------------+--------------------+--------+-----------+\n",
            "|   Loyal Customer|                0.0|Business travel|                 0.0|Business|        0.0|\n",
            "|disloyal Customer|                1.0|Business travel|                 0.0|     Eco|        1.0|\n",
            "|   Loyal Customer|                0.0|Personal Travel|                 1.0|     Eco|        1.0|\n",
            "|   Loyal Customer|                0.0|Business travel|                 0.0|Business|        0.0|\n",
            "|   Loyal Customer|                0.0|Business travel|                 0.0|Business|        0.0|\n",
            "|disloyal Customer|                1.0|Business travel|                 0.0|     Eco|        1.0|\n",
            "|   Loyal Customer|                0.0|Personal Travel|                 1.0|Business|        0.0|\n",
            "|   Loyal Customer|                0.0|Personal Travel|                 1.0|     Eco|        1.0|\n",
            "|   Loyal Customer|                0.0|Personal Travel|                 1.0|Eco Plus|        2.0|\n",
            "|   Loyal Customer|                0.0|Personal Travel|                 1.0|     Eco|        1.0|\n",
            "|   Loyal Customer|                0.0|Personal Travel|                 1.0|     Eco|        1.0|\n",
            "|disloyal Customer|                1.0|Business travel|                 0.0|Business|        0.0|\n",
            "|   Loyal Customer|                0.0|Business travel|                 0.0|     Eco|        1.0|\n",
            "|   Loyal Customer|                0.0|Business travel|                 0.0|Business|        0.0|\n",
            "|   Loyal Customer|                0.0|Personal Travel|                 1.0|     Eco|        1.0|\n",
            "|   Loyal Customer|                0.0|Personal Travel|                 1.0|     Eco|        1.0|\n",
            "|   Loyal Customer|                0.0|Personal Travel|                 1.0|Business|        0.0|\n",
            "|   Loyal Customer|                0.0|Personal Travel|                 1.0|     Eco|        1.0|\n",
            "|disloyal Customer|                1.0|Business travel|                 0.0|Eco Plus|        2.0|\n",
            "|   Loyal Customer|                0.0|Personal Travel|                 1.0|     Eco|        1.0|\n",
            "+-----------------+-------------------+---------------+--------------------+--------+-----------+\n",
            "only showing top 20 rows\n",
            "\n"
          ]
        }
      ],
      "source": [
        "#viewing what the indexes look like for the categorical columns\n",
        "shuffled_df.select('Customer Type','Customer Type_index','Type of Travel','Type of Travel_index','Class','Class_index').show()"
      ]
    },
    {
      "cell_type": "code",
      "execution_count": null,
      "metadata": {
        "colab": {
          "base_uri": "https://localhost:8080/"
        },
        "id": "_j5ZtJLM_jdX",
        "outputId": "2c8c5d1b-80ee-4acd-bd8d-43ced314767f"
      },
      "outputs": [
        {
          "name": "stdout",
          "output_type": "stream",
          "text": [
            "+------------+-------------------+---------+--------------------+-----------+---------------------+------------------+---------------------------------------+--------------------+-------------------+---------------------------+----------------------------+--------------------+----------------------------+----------------------+----------------------+----------------------+---------------------+-----------------+---------------------+--------------------------------+------------------------------+\n",
            "|satisfaction|Customer Type_index|Age_index|Type of Travel_index|Class_index|Flight Distance_index|Seat comfort_index|Departure/Arrival time convenient_index|Food and drink_index|Gate location_index|Inflight wifi service_index|Inflight entertainment_index|Online support_index|Ease of Online booking_index|On-board service_index|Leg room service_index|Baggage handling_index|Checkin service_index|Cleanliness_index|Online boarding_index|Departure Delay in Minutes_index|Arrival Delay in Minutes_index|\n",
            "+------------+-------------------+---------+--------------------+-----------+---------------------+------------------+---------------------------------------+--------------------+-------------------+---------------------------+----------------------------+--------------------+----------------------------+----------------------+----------------------+----------------------+---------------------+-----------------+---------------------+--------------------------------+------------------------------+\n",
            "|           1|                0.0|     30.0|                 0.0|        0.0|                159.0|               5.0|                                    5.0|                 5.0|                0.0|                        1.0|                         0.0|                 0.0|                         3.0|                   3.0|                   3.0|                   1.0|                  0.0|              3.0|                  1.0|                             0.0|                          12.0|\n",
            "|           0|                1.0|      9.0|                 0.0|        1.0|               1325.0|               3.0|                                    4.0|                 3.0|                2.0|                        0.0|                         4.0|                 0.0|                         0.0|                   1.0|                   0.0|                   1.0|                  2.0|              0.0|                  0.0|                            48.0|                          51.0|\n",
            "|           0|                0.0|     39.0|                 1.0|        1.0|                221.0|               1.0|                                    4.0|                 2.0|                1.0|                        1.0|                         3.0|                 1.0|                         1.0|                   3.0|                   1.0|                   0.0|                  0.0|              0.0|                  2.0|                            21.0|                          17.0|\n",
            "|           1|                0.0|     37.0|                 0.0|        0.0|               3730.0|               2.0|                                    0.0|                 2.0|                1.0|                        0.0|                         0.0|                 0.0|                         0.0|                   2.0|                   0.0|                   2.0|                  3.0|              1.0|                  0.0|                             0.0|                           0.0|\n",
            "|           0|                0.0|     42.0|                 0.0|        0.0|                727.0|               1.0|                                    4.0|                 3.0|                3.0|                        3.0|                         3.0|                 3.0|                         3.0|                   3.0|                   1.0|                   0.0|                  1.0|              0.0|                  3.0|                             0.0|                           0.0|\n",
            "|           1|                1.0|     39.0|                 0.0|        1.0|                509.0|               5.0|                                    2.0|                 5.0|                3.0|                        3.0|                         5.0|                 3.0|                         3.0|                   0.0|                   1.0|                   2.0|                  1.0|              2.0|                  3.0|                            91.0|                          76.0|\n",
            "|           0|                0.0|     32.0|                 1.0|        0.0|               1238.0|               0.0|                                    3.0|                 0.0|                0.0|                        0.0|                         2.0|                 2.0|                         1.0|                   1.0|                   2.0|                   1.0|                  4.0|              1.0|                  1.0|                            20.0|                          19.0|\n",
            "|           1|                0.0|     54.0|                 1.0|        1.0|                336.0|               3.0|                                    4.0|                 4.0|                3.0|                        2.0|                         0.0|                 0.0|                         0.0|                   0.0|                   0.0|                   0.0|                  0.0|              0.0|                  1.0|                             0.0|                           0.0|\n",
            "|           1|                0.0|     20.0|                 1.0|        2.0|               2941.0|               2.0|                                    3.0|                 2.0|                2.0|                        0.0|                         0.0|                 0.0|                         0.0|                   3.0|                   3.0|                   1.0|                  2.0|              1.0|                  0.0|                             0.0|                           1.0|\n",
            "|           0|                0.0|     62.0|                 1.0|        1.0|               2774.0|               3.0|                                    1.0|                 3.0|                0.0|                        0.0|                         4.0|                 0.0|                         0.0|                   0.0|                   1.0|                   0.0|                  2.0|              0.0|                  0.0|                            29.0|                          53.0|\n",
            "|           1|                0.0|     49.0|                 1.0|        1.0|                 54.0|               4.0|                                    0.0|                 4.0|                0.0|                        1.0|                         1.0|                 1.0|                         1.0|                   1.0|                   0.0|                   0.0|                  1.0|              1.0|                  2.0|                             6.0|                          13.0|\n",
            "|           0|                1.0|     36.0|                 0.0|        0.0|                442.0|               1.0|                                    3.0|                 2.0|                3.0|                        2.0|                         3.0|                 2.0|                         2.0|                   0.0|                   2.0|                   0.0|                  1.0|              1.0|                  1.0|                            22.0|                          14.0|\n",
            "|           0|                0.0|     11.0|                 0.0|        1.0|               1746.0|               3.0|                                    3.0|                 2.0|                2.0|                        1.0|                         3.0|                 2.0|                         4.0|                   4.0|                   4.0|                   4.0|                  1.0|              4.0|                  0.0|                            28.0|                          14.0|\n",
            "|           1|                0.0|      6.0|                 0.0|        0.0|                490.0|               3.0|                                    4.0|                 3.0|                3.0|                        0.0|                         2.0|                 1.0|                         0.0|                   0.0|                   0.0|                   0.0|                  0.0|              0.0|                  2.0|                             0.0|                           0.0|\n",
            "|           1|                0.0|     45.0|                 1.0|        1.0|                268.0|               4.0|                                    1.0|                 4.0|                3.0|                        3.0|                         1.0|                 0.0|                         4.0|                   4.0|                   1.0|                   4.0|                  2.0|              4.0|                  0.0|                            30.0|                          24.0|\n",
            "|           0|                0.0|     51.0|                 1.0|        1.0|                593.0|               0.0|                                    2.0|                 0.0|                0.0|                        3.0|                         2.0|                 1.0|                         3.0|                   3.0|                   4.0|                   0.0|                  0.0|              2.0|                  3.0|                            10.0|                          19.0|\n",
            "|           1|                0.0|     39.0|                 1.0|        0.0|               2293.0|               4.0|                                    3.0|                 4.0|                0.0|                        3.0|                         1.0|                 3.0|                         3.0|                   2.0|                   1.0|                   0.0|                  3.0|              0.0|                  3.0|                            31.0|                           9.0|\n",
            "|           0|                0.0|     26.0|                 1.0|        1.0|               1080.0|               0.0|                                    1.0|                 0.0|                1.0|                        0.0|                         2.0|                 4.0|                         0.0|                   0.0|                   2.0|                   1.0|                  1.0|              1.0|                  0.0|                             0.0|                           7.0|\n",
            "|           0|                1.0|     40.0|                 0.0|        2.0|                211.0|               0.0|                                    4.0|                 0.0|                0.0|                        0.0|                         2.0|                 3.0|                         0.0|                   3.0|                   4.0|                   0.0|                  1.0|              2.0|                  0.0|                             0.0|                           0.0|\n",
            "|           1|                0.0|     30.0|                 1.0|        1.0|               2470.0|               5.0|                                    5.0|                 5.0|                2.0|                        1.0|                         1.0|                 1.0|                         0.0|                   0.0|                   2.0|                   2.0|                  1.0|              0.0|                  2.0|                            11.0|                           0.0|\n",
            "+------------+-------------------+---------+--------------------+-----------+---------------------+------------------+---------------------------------------+--------------------+-------------------+---------------------------+----------------------------+--------------------+----------------------------+----------------------+----------------------+----------------------+---------------------+-----------------+---------------------+--------------------------------+------------------------------+\n",
            "only showing top 20 rows\n",
            "\n"
          ]
        }
      ],
      "source": [
        "#now selecting only the indexed columns for my feature variables\n",
        "final_df=shuffled_df.select('satisfaction','Customer Type_index',\n",
        " 'Age_index',\n",
        " 'Type of Travel_index',\n",
        " 'Class_index',\n",
        " 'Flight Distance_index',\n",
        " 'Seat comfort_index',\n",
        " 'Departure/Arrival time convenient_index',\n",
        " 'Food and drink_index',\n",
        " 'Gate location_index',\n",
        " 'Inflight wifi service_index',\n",
        " 'Inflight entertainment_index',\n",
        " 'Online support_index',\n",
        " 'Ease of Online booking_index',\n",
        " 'On-board service_index',\n",
        " 'Leg room service_index',\n",
        " 'Baggage handling_index',\n",
        " 'Checkin service_index',\n",
        " 'Cleanliness_index',\n",
        " 'Online boarding_index',\n",
        " 'Departure Delay in Minutes_index',\n",
        " 'Arrival Delay in Minutes_index')\n",
        "final_df.show()"
      ]
    },
    {
      "cell_type": "code",
      "execution_count": null,
      "metadata": {
        "id": "8IDc1heMDv0O"
      },
      "outputs": [],
      "source": [
        "df1= final_df.toPandas()"
      ]
    },
    {
      "cell_type": "code",
      "execution_count": null,
      "metadata": {
        "colab": {
          "base_uri": "https://localhost:8080/"
        },
        "id": "5KYBYufkDOV8",
        "outputId": "ec33649a-542b-4e04-845e-b4f40bb7f5af"
      },
      "outputs": [
        {
          "name": "stdout",
          "output_type": "stream",
          "text": [
            "<class 'pandas.core.frame.DataFrame'>\n",
            "RangeIndex: 129487 entries, 0 to 129486\n",
            "Data columns (total 22 columns):\n",
            " #   Column                                   Non-Null Count   Dtype  \n",
            "---  ------                                   --------------   -----  \n",
            " 0   satisfaction                             129487 non-null  int32  \n",
            " 1   Customer Type_index                      129487 non-null  float64\n",
            " 2   Age_index                                129487 non-null  float64\n",
            " 3   Type of Travel_index                     129487 non-null  float64\n",
            " 4   Class_index                              129487 non-null  float64\n",
            " 5   Flight Distance_index                    129487 non-null  float64\n",
            " 6   Seat comfort_index                       129487 non-null  float64\n",
            " 7   Departure/Arrival time convenient_index  129487 non-null  float64\n",
            " 8   Food and drink_index                     129487 non-null  float64\n",
            " 9   Gate location_index                      129487 non-null  float64\n",
            " 10  Inflight wifi service_index              129487 non-null  float64\n",
            " 11  Inflight entertainment_index             129487 non-null  float64\n",
            " 12  Online support_index                     129487 non-null  float64\n",
            " 13  Ease of Online booking_index             129487 non-null  float64\n",
            " 14  On-board service_index                   129487 non-null  float64\n",
            " 15  Leg room service_index                   129487 non-null  float64\n",
            " 16  Baggage handling_index                   129487 non-null  float64\n",
            " 17  Checkin service_index                    129487 non-null  float64\n",
            " 18  Cleanliness_index                        129487 non-null  float64\n",
            " 19  Online boarding_index                    129487 non-null  float64\n",
            " 20  Departure Delay in Minutes_index         129487 non-null  float64\n",
            " 21  Arrival Delay in Minutes_index           129487 non-null  float64\n",
            "dtypes: float64(21), int32(1)\n",
            "memory usage: 21.2 MB\n"
          ]
        }
      ],
      "source": [
        "df1.info()"
      ]
    },
    {
      "cell_type": "markdown",
      "metadata": {
        "id": "RIGk4CiKETqH"
      },
      "source": [
        "**3.3. Defining X and Y variables <br>\n",
        "And Scaling the X variables**"
      ]
    },
    {
      "cell_type": "code",
      "execution_count": null,
      "metadata": {
        "id": "uhZrg0kfFW0_"
      },
      "outputs": [],
      "source": [
        "#Defining X and Y variables\n",
        "y1= df1['satisfaction']\n",
        "unscaled_X=df1.drop(['satisfaction'],axis=1)"
      ]
    },
    {
      "cell_type": "code",
      "execution_count": null,
      "metadata": {
        "id": "fR0oPHYKSfaf"
      },
      "outputs": [],
      "source": [
        "y =np.array(y1)"
      ]
    },
    {
      "cell_type": "code",
      "execution_count": null,
      "metadata": {
        "colab": {
          "base_uri": "https://localhost:8080/"
        },
        "id": "bPXuPnOOGGwO",
        "outputId": "3c46ac09-13d7-4000-d9d2-1d4500f8d303"
      },
      "outputs": [
        {
          "data": {
            "text/plain": [
              "(129487,)"
            ]
          },
          "execution_count": 50,
          "metadata": {},
          "output_type": "execute_result"
        }
      ],
      "source": [
        "y.shape"
      ]
    },
    {
      "cell_type": "code",
      "execution_count": null,
      "metadata": {
        "colab": {
          "base_uri": "https://localhost:8080/",
          "height": 478
        },
        "id": "f9IC9IK1GBsW",
        "outputId": "95489aba-b03a-4099-fc87-0c2a5dd07a2e"
      },
      "outputs": [
        {
          "data": {
            "text/html": [
              "\n",
              "  <div id=\"df-1f1b2043-1c9c-4540-adac-a6285c19be20\" class=\"colab-df-container\">\n",
              "    <div>\n",
              "<style scoped>\n",
              "    .dataframe tbody tr th:only-of-type {\n",
              "        vertical-align: middle;\n",
              "    }\n",
              "\n",
              "    .dataframe tbody tr th {\n",
              "        vertical-align: top;\n",
              "    }\n",
              "\n",
              "    .dataframe thead th {\n",
              "        text-align: right;\n",
              "    }\n",
              "</style>\n",
              "<table border=\"1\" class=\"dataframe\">\n",
              "  <thead>\n",
              "    <tr style=\"text-align: right;\">\n",
              "      <th></th>\n",
              "      <th>Customer Type_index</th>\n",
              "      <th>Age_index</th>\n",
              "      <th>Type of Travel_index</th>\n",
              "      <th>Class_index</th>\n",
              "      <th>Flight Distance_index</th>\n",
              "      <th>Seat comfort_index</th>\n",
              "      <th>Departure/Arrival time convenient_index</th>\n",
              "      <th>Food and drink_index</th>\n",
              "      <th>Gate location_index</th>\n",
              "      <th>Inflight wifi service_index</th>\n",
              "      <th>...</th>\n",
              "      <th>Online support_index</th>\n",
              "      <th>Ease of Online booking_index</th>\n",
              "      <th>On-board service_index</th>\n",
              "      <th>Leg room service_index</th>\n",
              "      <th>Baggage handling_index</th>\n",
              "      <th>Checkin service_index</th>\n",
              "      <th>Cleanliness_index</th>\n",
              "      <th>Online boarding_index</th>\n",
              "      <th>Departure Delay in Minutes_index</th>\n",
              "      <th>Arrival Delay in Minutes_index</th>\n",
              "    </tr>\n",
              "  </thead>\n",
              "  <tbody>\n",
              "    <tr>\n",
              "      <th>0</th>\n",
              "      <td>0.0</td>\n",
              "      <td>30.0</td>\n",
              "      <td>0.0</td>\n",
              "      <td>0.0</td>\n",
              "      <td>159.0</td>\n",
              "      <td>5.0</td>\n",
              "      <td>5.0</td>\n",
              "      <td>5.0</td>\n",
              "      <td>0.0</td>\n",
              "      <td>1.0</td>\n",
              "      <td>...</td>\n",
              "      <td>0.0</td>\n",
              "      <td>3.0</td>\n",
              "      <td>3.0</td>\n",
              "      <td>3.0</td>\n",
              "      <td>1.0</td>\n",
              "      <td>0.0</td>\n",
              "      <td>3.0</td>\n",
              "      <td>1.0</td>\n",
              "      <td>0.0</td>\n",
              "      <td>12.0</td>\n",
              "    </tr>\n",
              "    <tr>\n",
              "      <th>1</th>\n",
              "      <td>1.0</td>\n",
              "      <td>9.0</td>\n",
              "      <td>0.0</td>\n",
              "      <td>1.0</td>\n",
              "      <td>1325.0</td>\n",
              "      <td>3.0</td>\n",
              "      <td>4.0</td>\n",
              "      <td>3.0</td>\n",
              "      <td>2.0</td>\n",
              "      <td>0.0</td>\n",
              "      <td>...</td>\n",
              "      <td>0.0</td>\n",
              "      <td>0.0</td>\n",
              "      <td>1.0</td>\n",
              "      <td>0.0</td>\n",
              "      <td>1.0</td>\n",
              "      <td>2.0</td>\n",
              "      <td>0.0</td>\n",
              "      <td>0.0</td>\n",
              "      <td>48.0</td>\n",
              "      <td>51.0</td>\n",
              "    </tr>\n",
              "    <tr>\n",
              "      <th>2</th>\n",
              "      <td>0.0</td>\n",
              "      <td>39.0</td>\n",
              "      <td>1.0</td>\n",
              "      <td>1.0</td>\n",
              "      <td>221.0</td>\n",
              "      <td>1.0</td>\n",
              "      <td>4.0</td>\n",
              "      <td>2.0</td>\n",
              "      <td>1.0</td>\n",
              "      <td>1.0</td>\n",
              "      <td>...</td>\n",
              "      <td>1.0</td>\n",
              "      <td>1.0</td>\n",
              "      <td>3.0</td>\n",
              "      <td>1.0</td>\n",
              "      <td>0.0</td>\n",
              "      <td>0.0</td>\n",
              "      <td>0.0</td>\n",
              "      <td>2.0</td>\n",
              "      <td>21.0</td>\n",
              "      <td>17.0</td>\n",
              "    </tr>\n",
              "    <tr>\n",
              "      <th>3</th>\n",
              "      <td>0.0</td>\n",
              "      <td>37.0</td>\n",
              "      <td>0.0</td>\n",
              "      <td>0.0</td>\n",
              "      <td>3730.0</td>\n",
              "      <td>2.0</td>\n",
              "      <td>0.0</td>\n",
              "      <td>2.0</td>\n",
              "      <td>1.0</td>\n",
              "      <td>0.0</td>\n",
              "      <td>...</td>\n",
              "      <td>0.0</td>\n",
              "      <td>0.0</td>\n",
              "      <td>2.0</td>\n",
              "      <td>0.0</td>\n",
              "      <td>2.0</td>\n",
              "      <td>3.0</td>\n",
              "      <td>1.0</td>\n",
              "      <td>0.0</td>\n",
              "      <td>0.0</td>\n",
              "      <td>0.0</td>\n",
              "    </tr>\n",
              "    <tr>\n",
              "      <th>4</th>\n",
              "      <td>0.0</td>\n",
              "      <td>42.0</td>\n",
              "      <td>0.0</td>\n",
              "      <td>0.0</td>\n",
              "      <td>727.0</td>\n",
              "      <td>1.0</td>\n",
              "      <td>4.0</td>\n",
              "      <td>3.0</td>\n",
              "      <td>3.0</td>\n",
              "      <td>3.0</td>\n",
              "      <td>...</td>\n",
              "      <td>3.0</td>\n",
              "      <td>3.0</td>\n",
              "      <td>3.0</td>\n",
              "      <td>1.0</td>\n",
              "      <td>0.0</td>\n",
              "      <td>1.0</td>\n",
              "      <td>0.0</td>\n",
              "      <td>3.0</td>\n",
              "      <td>0.0</td>\n",
              "      <td>0.0</td>\n",
              "    </tr>\n",
              "    <tr>\n",
              "      <th>...</th>\n",
              "      <td>...</td>\n",
              "      <td>...</td>\n",
              "      <td>...</td>\n",
              "      <td>...</td>\n",
              "      <td>...</td>\n",
              "      <td>...</td>\n",
              "      <td>...</td>\n",
              "      <td>...</td>\n",
              "      <td>...</td>\n",
              "      <td>...</td>\n",
              "      <td>...</td>\n",
              "      <td>...</td>\n",
              "      <td>...</td>\n",
              "      <td>...</td>\n",
              "      <td>...</td>\n",
              "      <td>...</td>\n",
              "      <td>...</td>\n",
              "      <td>...</td>\n",
              "      <td>...</td>\n",
              "      <td>...</td>\n",
              "      <td>...</td>\n",
              "    </tr>\n",
              "    <tr>\n",
              "      <th>129482</th>\n",
              "      <td>0.0</td>\n",
              "      <td>21.0</td>\n",
              "      <td>1.0</td>\n",
              "      <td>1.0</td>\n",
              "      <td>2087.0</td>\n",
              "      <td>4.0</td>\n",
              "      <td>0.0</td>\n",
              "      <td>4.0</td>\n",
              "      <td>2.0</td>\n",
              "      <td>0.0</td>\n",
              "      <td>...</td>\n",
              "      <td>1.0</td>\n",
              "      <td>2.0</td>\n",
              "      <td>2.0</td>\n",
              "      <td>1.0</td>\n",
              "      <td>2.0</td>\n",
              "      <td>0.0</td>\n",
              "      <td>2.0</td>\n",
              "      <td>0.0</td>\n",
              "      <td>0.0</td>\n",
              "      <td>0.0</td>\n",
              "    </tr>\n",
              "    <tr>\n",
              "      <th>129483</th>\n",
              "      <td>0.0</td>\n",
              "      <td>12.0</td>\n",
              "      <td>0.0</td>\n",
              "      <td>1.0</td>\n",
              "      <td>301.0</td>\n",
              "      <td>0.0</td>\n",
              "      <td>1.0</td>\n",
              "      <td>0.0</td>\n",
              "      <td>0.0</td>\n",
              "      <td>2.0</td>\n",
              "      <td>...</td>\n",
              "      <td>2.0</td>\n",
              "      <td>2.0</td>\n",
              "      <td>3.0</td>\n",
              "      <td>0.0</td>\n",
              "      <td>3.0</td>\n",
              "      <td>1.0</td>\n",
              "      <td>2.0</td>\n",
              "      <td>1.0</td>\n",
              "      <td>71.0</td>\n",
              "      <td>66.0</td>\n",
              "    </tr>\n",
              "    <tr>\n",
              "      <th>129484</th>\n",
              "      <td>0.0</td>\n",
              "      <td>20.0</td>\n",
              "      <td>0.0</td>\n",
              "      <td>1.0</td>\n",
              "      <td>1993.0</td>\n",
              "      <td>0.0</td>\n",
              "      <td>2.0</td>\n",
              "      <td>1.0</td>\n",
              "      <td>0.0</td>\n",
              "      <td>4.0</td>\n",
              "      <td>...</td>\n",
              "      <td>0.0</td>\n",
              "      <td>0.0</td>\n",
              "      <td>0.0</td>\n",
              "      <td>2.0</td>\n",
              "      <td>0.0</td>\n",
              "      <td>3.0</td>\n",
              "      <td>0.0</td>\n",
              "      <td>4.0</td>\n",
              "      <td>17.0</td>\n",
              "      <td>29.0</td>\n",
              "    </tr>\n",
              "    <tr>\n",
              "      <th>129485</th>\n",
              "      <td>0.0</td>\n",
              "      <td>58.0</td>\n",
              "      <td>1.0</td>\n",
              "      <td>1.0</td>\n",
              "      <td>361.0</td>\n",
              "      <td>0.0</td>\n",
              "      <td>2.0</td>\n",
              "      <td>5.0</td>\n",
              "      <td>2.0</td>\n",
              "      <td>4.0</td>\n",
              "      <td>...</td>\n",
              "      <td>4.0</td>\n",
              "      <td>4.0</td>\n",
              "      <td>4.0</td>\n",
              "      <td>3.0</td>\n",
              "      <td>2.0</td>\n",
              "      <td>4.0</td>\n",
              "      <td>2.0</td>\n",
              "      <td>4.0</td>\n",
              "      <td>0.0</td>\n",
              "      <td>9.0</td>\n",
              "    </tr>\n",
              "    <tr>\n",
              "      <th>129486</th>\n",
              "      <td>0.0</td>\n",
              "      <td>12.0</td>\n",
              "      <td>0.0</td>\n",
              "      <td>0.0</td>\n",
              "      <td>415.0</td>\n",
              "      <td>1.0</td>\n",
              "      <td>1.0</td>\n",
              "      <td>1.0</td>\n",
              "      <td>4.0</td>\n",
              "      <td>1.0</td>\n",
              "      <td>...</td>\n",
              "      <td>0.0</td>\n",
              "      <td>3.0</td>\n",
              "      <td>3.0</td>\n",
              "      <td>3.0</td>\n",
              "      <td>3.0</td>\n",
              "      <td>1.0</td>\n",
              "      <td>3.0</td>\n",
              "      <td>3.0</td>\n",
              "      <td>0.0</td>\n",
              "      <td>7.0</td>\n",
              "    </tr>\n",
              "  </tbody>\n",
              "</table>\n",
              "<p>129487 rows × 21 columns</p>\n",
              "</div>\n",
              "    <div class=\"colab-df-buttons\">\n",
              "\n",
              "  <div class=\"colab-df-container\">\n",
              "    <button class=\"colab-df-convert\" onclick=\"convertToInteractive('df-1f1b2043-1c9c-4540-adac-a6285c19be20')\"\n",
              "            title=\"Convert this dataframe to an interactive table.\"\n",
              "            style=\"display:none;\">\n",
              "\n",
              "  <svg xmlns=\"http://www.w3.org/2000/svg\" height=\"24px\" viewBox=\"0 -960 960 960\">\n",
              "    <path d=\"M120-120v-720h720v720H120Zm60-500h600v-160H180v160Zm220 220h160v-160H400v160Zm0 220h160v-160H400v160ZM180-400h160v-160H180v160Zm440 0h160v-160H620v160ZM180-180h160v-160H180v160Zm440 0h160v-160H620v160Z\"/>\n",
              "  </svg>\n",
              "    </button>\n",
              "\n",
              "  <style>\n",
              "    .colab-df-container {\n",
              "      display:flex;\n",
              "      gap: 12px;\n",
              "    }\n",
              "\n",
              "    .colab-df-convert {\n",
              "      background-color: #E8F0FE;\n",
              "      border: none;\n",
              "      border-radius: 50%;\n",
              "      cursor: pointer;\n",
              "      display: none;\n",
              "      fill: #1967D2;\n",
              "      height: 32px;\n",
              "      padding: 0 0 0 0;\n",
              "      width: 32px;\n",
              "    }\n",
              "\n",
              "    .colab-df-convert:hover {\n",
              "      background-color: #E2EBFA;\n",
              "      box-shadow: 0px 1px 2px rgba(60, 64, 67, 0.3), 0px 1px 3px 1px rgba(60, 64, 67, 0.15);\n",
              "      fill: #174EA6;\n",
              "    }\n",
              "\n",
              "    .colab-df-buttons div {\n",
              "      margin-bottom: 4px;\n",
              "    }\n",
              "\n",
              "    [theme=dark] .colab-df-convert {\n",
              "      background-color: #3B4455;\n",
              "      fill: #D2E3FC;\n",
              "    }\n",
              "\n",
              "    [theme=dark] .colab-df-convert:hover {\n",
              "      background-color: #434B5C;\n",
              "      box-shadow: 0px 1px 3px 1px rgba(0, 0, 0, 0.15);\n",
              "      filter: drop-shadow(0px 1px 2px rgba(0, 0, 0, 0.3));\n",
              "      fill: #FFFFFF;\n",
              "    }\n",
              "  </style>\n",
              "\n",
              "    <script>\n",
              "      const buttonEl =\n",
              "        document.querySelector('#df-1f1b2043-1c9c-4540-adac-a6285c19be20 button.colab-df-convert');\n",
              "      buttonEl.style.display =\n",
              "        google.colab.kernel.accessAllowed ? 'block' : 'none';\n",
              "\n",
              "      async function convertToInteractive(key) {\n",
              "        const element = document.querySelector('#df-1f1b2043-1c9c-4540-adac-a6285c19be20');\n",
              "        const dataTable =\n",
              "          await google.colab.kernel.invokeFunction('convertToInteractive',\n",
              "                                                    [key], {});\n",
              "        if (!dataTable) return;\n",
              "\n",
              "        const docLinkHtml = 'Like what you see? Visit the ' +\n",
              "          '<a target=\"_blank\" href=https://colab.research.google.com/notebooks/data_table.ipynb>data table notebook</a>'\n",
              "          + ' to learn more about interactive tables.';\n",
              "        element.innerHTML = '';\n",
              "        dataTable['output_type'] = 'display_data';\n",
              "        await google.colab.output.renderOutput(dataTable, element);\n",
              "        const docLink = document.createElement('div');\n",
              "        docLink.innerHTML = docLinkHtml;\n",
              "        element.appendChild(docLink);\n",
              "      }\n",
              "    </script>\n",
              "  </div>\n",
              "\n",
              "\n",
              "<div id=\"df-ede5aea3-3d5f-4949-850d-6bfaf9ea9e08\">\n",
              "  <button class=\"colab-df-quickchart\" onclick=\"quickchart('df-ede5aea3-3d5f-4949-850d-6bfaf9ea9e08')\"\n",
              "            title=\"Suggest charts.\"\n",
              "            style=\"display:none;\">\n",
              "\n",
              "<svg xmlns=\"http://www.w3.org/2000/svg\" height=\"24px\"viewBox=\"0 0 24 24\"\n",
              "     width=\"24px\">\n",
              "    <g>\n",
              "        <path d=\"M19 3H5c-1.1 0-2 .9-2 2v14c0 1.1.9 2 2 2h14c1.1 0 2-.9 2-2V5c0-1.1-.9-2-2-2zM9 17H7v-7h2v7zm4 0h-2V7h2v10zm4 0h-2v-4h2v4z\"/>\n",
              "    </g>\n",
              "</svg>\n",
              "  </button>\n",
              "\n",
              "<style>\n",
              "  .colab-df-quickchart {\n",
              "      --bg-color: #E8F0FE;\n",
              "      --fill-color: #1967D2;\n",
              "      --hover-bg-color: #E2EBFA;\n",
              "      --hover-fill-color: #174EA6;\n",
              "      --disabled-fill-color: #AAA;\n",
              "      --disabled-bg-color: #DDD;\n",
              "  }\n",
              "\n",
              "  [theme=dark] .colab-df-quickchart {\n",
              "      --bg-color: #3B4455;\n",
              "      --fill-color: #D2E3FC;\n",
              "      --hover-bg-color: #434B5C;\n",
              "      --hover-fill-color: #FFFFFF;\n",
              "      --disabled-bg-color: #3B4455;\n",
              "      --disabled-fill-color: #666;\n",
              "  }\n",
              "\n",
              "  .colab-df-quickchart {\n",
              "    background-color: var(--bg-color);\n",
              "    border: none;\n",
              "    border-radius: 50%;\n",
              "    cursor: pointer;\n",
              "    display: none;\n",
              "    fill: var(--fill-color);\n",
              "    height: 32px;\n",
              "    padding: 0;\n",
              "    width: 32px;\n",
              "  }\n",
              "\n",
              "  .colab-df-quickchart:hover {\n",
              "    background-color: var(--hover-bg-color);\n",
              "    box-shadow: 0 1px 2px rgba(60, 64, 67, 0.3), 0 1px 3px 1px rgba(60, 64, 67, 0.15);\n",
              "    fill: var(--button-hover-fill-color);\n",
              "  }\n",
              "\n",
              "  .colab-df-quickchart-complete:disabled,\n",
              "  .colab-df-quickchart-complete:disabled:hover {\n",
              "    background-color: var(--disabled-bg-color);\n",
              "    fill: var(--disabled-fill-color);\n",
              "    box-shadow: none;\n",
              "  }\n",
              "\n",
              "  .colab-df-spinner {\n",
              "    border: 2px solid var(--fill-color);\n",
              "    border-color: transparent;\n",
              "    border-bottom-color: var(--fill-color);\n",
              "    animation:\n",
              "      spin 1s steps(1) infinite;\n",
              "  }\n",
              "\n",
              "  @keyframes spin {\n",
              "    0% {\n",
              "      border-color: transparent;\n",
              "      border-bottom-color: var(--fill-color);\n",
              "      border-left-color: var(--fill-color);\n",
              "    }\n",
              "    20% {\n",
              "      border-color: transparent;\n",
              "      border-left-color: var(--fill-color);\n",
              "      border-top-color: var(--fill-color);\n",
              "    }\n",
              "    30% {\n",
              "      border-color: transparent;\n",
              "      border-left-color: var(--fill-color);\n",
              "      border-top-color: var(--fill-color);\n",
              "      border-right-color: var(--fill-color);\n",
              "    }\n",
              "    40% {\n",
              "      border-color: transparent;\n",
              "      border-right-color: var(--fill-color);\n",
              "      border-top-color: var(--fill-color);\n",
              "    }\n",
              "    60% {\n",
              "      border-color: transparent;\n",
              "      border-right-color: var(--fill-color);\n",
              "    }\n",
              "    80% {\n",
              "      border-color: transparent;\n",
              "      border-right-color: var(--fill-color);\n",
              "      border-bottom-color: var(--fill-color);\n",
              "    }\n",
              "    90% {\n",
              "      border-color: transparent;\n",
              "      border-bottom-color: var(--fill-color);\n",
              "    }\n",
              "  }\n",
              "</style>\n",
              "\n",
              "  <script>\n",
              "    async function quickchart(key) {\n",
              "      const quickchartButtonEl =\n",
              "        document.querySelector('#' + key + ' button');\n",
              "      quickchartButtonEl.disabled = true;  // To prevent multiple clicks.\n",
              "      quickchartButtonEl.classList.add('colab-df-spinner');\n",
              "      try {\n",
              "        const charts = await google.colab.kernel.invokeFunction(\n",
              "            'suggestCharts', [key], {});\n",
              "      } catch (error) {\n",
              "        console.error('Error during call to suggestCharts:', error);\n",
              "      }\n",
              "      quickchartButtonEl.classList.remove('colab-df-spinner');\n",
              "      quickchartButtonEl.classList.add('colab-df-quickchart-complete');\n",
              "    }\n",
              "    (() => {\n",
              "      let quickchartButtonEl =\n",
              "        document.querySelector('#df-ede5aea3-3d5f-4949-850d-6bfaf9ea9e08 button');\n",
              "      quickchartButtonEl.style.display =\n",
              "        google.colab.kernel.accessAllowed ? 'block' : 'none';\n",
              "    })();\n",
              "  </script>\n",
              "</div>\n",
              "    </div>\n",
              "  </div>\n"
            ],
            "text/plain": [
              "        Customer Type_index  Age_index  Type of Travel_index  Class_index  \\\n",
              "0                       0.0       30.0                   0.0          0.0   \n",
              "1                       1.0        9.0                   0.0          1.0   \n",
              "2                       0.0       39.0                   1.0          1.0   \n",
              "3                       0.0       37.0                   0.0          0.0   \n",
              "4                       0.0       42.0                   0.0          0.0   \n",
              "...                     ...        ...                   ...          ...   \n",
              "129482                  0.0       21.0                   1.0          1.0   \n",
              "129483                  0.0       12.0                   0.0          1.0   \n",
              "129484                  0.0       20.0                   0.0          1.0   \n",
              "129485                  0.0       58.0                   1.0          1.0   \n",
              "129486                  0.0       12.0                   0.0          0.0   \n",
              "\n",
              "        Flight Distance_index  Seat comfort_index  \\\n",
              "0                       159.0                 5.0   \n",
              "1                      1325.0                 3.0   \n",
              "2                       221.0                 1.0   \n",
              "3                      3730.0                 2.0   \n",
              "4                       727.0                 1.0   \n",
              "...                       ...                 ...   \n",
              "129482                 2087.0                 4.0   \n",
              "129483                  301.0                 0.0   \n",
              "129484                 1993.0                 0.0   \n",
              "129485                  361.0                 0.0   \n",
              "129486                  415.0                 1.0   \n",
              "\n",
              "        Departure/Arrival time convenient_index  Food and drink_index  \\\n",
              "0                                           5.0                   5.0   \n",
              "1                                           4.0                   3.0   \n",
              "2                                           4.0                   2.0   \n",
              "3                                           0.0                   2.0   \n",
              "4                                           4.0                   3.0   \n",
              "...                                         ...                   ...   \n",
              "129482                                      0.0                   4.0   \n",
              "129483                                      1.0                   0.0   \n",
              "129484                                      2.0                   1.0   \n",
              "129485                                      2.0                   5.0   \n",
              "129486                                      1.0                   1.0   \n",
              "\n",
              "        Gate location_index  Inflight wifi service_index  ...  \\\n",
              "0                       0.0                          1.0  ...   \n",
              "1                       2.0                          0.0  ...   \n",
              "2                       1.0                          1.0  ...   \n",
              "3                       1.0                          0.0  ...   \n",
              "4                       3.0                          3.0  ...   \n",
              "...                     ...                          ...  ...   \n",
              "129482                  2.0                          0.0  ...   \n",
              "129483                  0.0                          2.0  ...   \n",
              "129484                  0.0                          4.0  ...   \n",
              "129485                  2.0                          4.0  ...   \n",
              "129486                  4.0                          1.0  ...   \n",
              "\n",
              "        Online support_index  Ease of Online booking_index  \\\n",
              "0                        0.0                           3.0   \n",
              "1                        0.0                           0.0   \n",
              "2                        1.0                           1.0   \n",
              "3                        0.0                           0.0   \n",
              "4                        3.0                           3.0   \n",
              "...                      ...                           ...   \n",
              "129482                   1.0                           2.0   \n",
              "129483                   2.0                           2.0   \n",
              "129484                   0.0                           0.0   \n",
              "129485                   4.0                           4.0   \n",
              "129486                   0.0                           3.0   \n",
              "\n",
              "        On-board service_index  Leg room service_index  \\\n",
              "0                          3.0                     3.0   \n",
              "1                          1.0                     0.0   \n",
              "2                          3.0                     1.0   \n",
              "3                          2.0                     0.0   \n",
              "4                          3.0                     1.0   \n",
              "...                        ...                     ...   \n",
              "129482                     2.0                     1.0   \n",
              "129483                     3.0                     0.0   \n",
              "129484                     0.0                     2.0   \n",
              "129485                     4.0                     3.0   \n",
              "129486                     3.0                     3.0   \n",
              "\n",
              "        Baggage handling_index  Checkin service_index  Cleanliness_index  \\\n",
              "0                          1.0                    0.0                3.0   \n",
              "1                          1.0                    2.0                0.0   \n",
              "2                          0.0                    0.0                0.0   \n",
              "3                          2.0                    3.0                1.0   \n",
              "4                          0.0                    1.0                0.0   \n",
              "...                        ...                    ...                ...   \n",
              "129482                     2.0                    0.0                2.0   \n",
              "129483                     3.0                    1.0                2.0   \n",
              "129484                     0.0                    3.0                0.0   \n",
              "129485                     2.0                    4.0                2.0   \n",
              "129486                     3.0                    1.0                3.0   \n",
              "\n",
              "        Online boarding_index  Departure Delay in Minutes_index  \\\n",
              "0                         1.0                               0.0   \n",
              "1                         0.0                              48.0   \n",
              "2                         2.0                              21.0   \n",
              "3                         0.0                               0.0   \n",
              "4                         3.0                               0.0   \n",
              "...                       ...                               ...   \n",
              "129482                    0.0                               0.0   \n",
              "129483                    1.0                              71.0   \n",
              "129484                    4.0                              17.0   \n",
              "129485                    4.0                               0.0   \n",
              "129486                    3.0                               0.0   \n",
              "\n",
              "        Arrival Delay in Minutes_index  \n",
              "0                                 12.0  \n",
              "1                                 51.0  \n",
              "2                                 17.0  \n",
              "3                                  0.0  \n",
              "4                                  0.0  \n",
              "...                                ...  \n",
              "129482                             0.0  \n",
              "129483                            66.0  \n",
              "129484                            29.0  \n",
              "129485                             9.0  \n",
              "129486                             7.0  \n",
              "\n",
              "[129487 rows x 21 columns]"
            ]
          },
          "execution_count": 51,
          "metadata": {},
          "output_type": "execute_result"
        }
      ],
      "source": [
        "unscaled_X"
      ]
    },
    {
      "cell_type": "code",
      "execution_count": null,
      "metadata": {
        "id": "-ntvGYKdEEr0"
      },
      "outputs": [],
      "source": [
        "scaler = StandardScaler()"
      ]
    },
    {
      "cell_type": "code",
      "execution_count": null,
      "metadata": {
        "id": "pDj4vgnFGPEW"
      },
      "outputs": [],
      "source": [
        "#Scaling the unscaled X variables to avoiding misrepresentation of numerical values leading to outliers\n",
        "X = scaler.fit_transform(unscaled_X)"
      ]
    },
    {
      "cell_type": "code",
      "execution_count": null,
      "metadata": {
        "colab": {
          "base_uri": "https://localhost:8080/"
        },
        "id": "TwecGbokGWdn",
        "outputId": "12ff2a46-e56d-4501-a901-d43c00e81938"
      },
      "outputs": [
        {
          "data": {
            "text/plain": [
              "array([[-0.47349456,  0.3640363 , -0.66908277, ..., -0.45064572,\n",
              "        -0.40707718, -0.08025542],\n",
              "       [ 2.11195667, -0.88659993, -0.66908277, ..., -1.20052701,\n",
              "         0.9457691 ,  0.99726054],\n",
              "       [-0.47349456,  0.90002325,  1.4945834 , ...,  0.29923557,\n",
              "         0.18479306,  0.05788765],\n",
              "       ...,\n",
              "       [-0.47349456, -0.23150476, -0.66908277, ...,  1.79899814,\n",
              "         0.07205587,  0.38943102],\n",
              "       [-0.47349456,  2.03155127,  1.4945834 , ...,  1.79899814,\n",
              "        -0.40707718, -0.16314126],\n",
              "       [-0.47349456, -0.70793761, -0.66908277, ...,  1.04911686,\n",
              "        -0.40707718, -0.21839849]])"
            ]
          },
          "execution_count": 54,
          "metadata": {},
          "output_type": "execute_result"
        }
      ],
      "source": [
        "X"
      ]
    },
    {
      "cell_type": "code",
      "execution_count": null,
      "metadata": {
        "colab": {
          "base_uri": "https://localhost:8080/"
        },
        "id": "ZlO_XdcTGlvf",
        "outputId": "45f0cc6a-52a9-4075-a6d4-169e7aaf6bb0"
      },
      "outputs": [
        {
          "name": "stdout",
          "output_type": "stream",
          "text": [
            "(129487, 21)\n",
            "(129487,)\n"
          ]
        }
      ],
      "source": [
        "print(X.shape)\n",
        "print(y.shape)\n"
      ]
    },
    {
      "cell_type": "markdown",
      "metadata": {
        "id": "EghI8UC5IC83"
      },
      "source": [
        "**4. SETTING THE PARAMETERS AND BUILDING THE LR MODEL FROM SCRATCH**"
      ]
    },
    {
      "cell_type": "code",
      "execution_count": null,
      "metadata": {
        "id": "sU2VrKQjXPN_"
      },
      "outputs": [],
      "source": [
        "X_train, X_test, y_train, y_test = train_test_split(X, y, test_size=0.25)"
      ]
    },
    {
      "cell_type": "markdown",
      "metadata": {
        "id": "x5QvKuqMTLSw"
      },
      "source": [
        "4.1 Defining the Sigmoid function\n",
        "\n"
      ]
    },
    {
      "cell_type": "code",
      "execution_count": null,
      "metadata": {
        "id": "rWGv00exIIgJ"
      },
      "outputs": [],
      "source": [
        "def sigmoid(x):\n",
        "    return 1/(1 + np.exp(-x))\n"
      ]
    },
    {
      "cell_type": "code",
      "execution_count": null,
      "metadata": {
        "id": "145SZBtFZzID"
      },
      "outputs": [],
      "source": [
        "X_train = X_train.T\n",
        "y_train = y_train.reshape(1, X_train.shape[1])\n",
        "X_test = X_test.T\n",
        "y_test = y_test.reshape(1, X_test.shape[1])"
      ]
    },
    {
      "cell_type": "code",
      "execution_count": null,
      "metadata": {
        "colab": {
          "base_uri": "https://localhost:8080/"
        },
        "id": "7dgMbNweZ_nf",
        "outputId": "68c13fa8-8479-4a4c-8878-d2cb7dd887bf"
      },
      "outputs": [
        {
          "name": "stdout",
          "output_type": "stream",
          "text": [
            "Shape of X_train :  (21, 97115)\n",
            "Shape of y_train :  (1, 97115)\n",
            "Shape of X_test :  (21, 32372)\n",
            "Shape of y_test :  (1, 32372)\n"
          ]
        }
      ],
      "source": [
        "print(\"Shape of X_train : \", X_train.shape)\n",
        "print(\"Shape of y_train : \", y_train.shape)\n",
        "print(\"Shape of X_test : \", X_test.shape)\n",
        "print(\"Shape of y_test : \", y_test.shape)"
      ]
    },
    {
      "cell_type": "markdown",
      "metadata": {
        "id": "n3yv3B8-UZPC"
      },
      "source": [
        "4.2 Defining the Model\n"
      ]
    },
    {
      "cell_type": "code",
      "execution_count": null,
      "metadata": {
        "id": "a2HTcjAETk8Q"
      },
      "outputs": [],
      "source": [
        "def model(X, y, learning_rate, iterations):\n",
        "# X -> Input.\n",
        "# y -> Actual target value.\n",
        "\n",
        "# m -> number of training examples\n",
        "# n -> number of features\n",
        "    m = X_train.shape[1]\n",
        "    n = X_train.shape[0]\n",
        "\n",
        "# Initializing weights and bias to zeros.\n",
        "    w= np.zeros((n,1))\n",
        "    b = 0\n",
        "\n",
        "# Empty list to store losses.\n",
        "    cost_list = []\n",
        "\n",
        "    for i in range(iterations):\n",
        "\n",
        "        Linear_R= np.dot(w.T, X) + b\n",
        "        predictions= sigmoid(Linear_R)\n",
        "\n",
        "# cost function\n",
        "        cost = -(1/m)*np.sum( y*np.log(predictions) + (1-y)*np.log(1-predictions))\n",
        "\n",
        "# Gradient Descent\n",
        "        dw = (1/m)*np.dot(predictions-y, X.T)\n",
        "        db = (1/m)*np.sum(predictions - y)\n",
        "\n",
        "        w= w- learning_rate*dw.T\n",
        "        b= b - learning_rate*db\n",
        "\n",
        "# Keeping track of our cost function value\n",
        "        cost_list.append(cost)\n",
        "\n",
        "        if(i%(iterations/10) == 0):\n",
        "            print(\"cost after \", i, \"iteration is : \", cost)\n",
        "\n",
        "    return w, b, cost_list"
      ]
    },
    {
      "cell_type": "code",
      "execution_count": null,
      "metadata": {
        "colab": {
          "base_uri": "https://localhost:8080/"
        },
        "id": "Juz7bvxfdOJa",
        "outputId": "a788690d-185a-4242-db97-f3572cc3fb5b"
      },
      "outputs": [
        {
          "name": "stdout",
          "output_type": "stream",
          "text": [
            "cost after  0 iteration is :  0.6931471805599453\n",
            "cost after  100 iteration is :  0.5211748975571929\n",
            "cost after  200 iteration is :  0.46447274639046854\n",
            "cost after  300 iteration is :  0.43620565860537414\n",
            "cost after  400 iteration is :  0.418778209338711\n",
            "cost after  500 iteration is :  0.4067624080423394\n",
            "cost after  600 iteration is :  0.3979240708032309\n",
            "cost after  700 iteration is :  0.39115057986047663\n",
            "cost after  800 iteration is :  0.3858112154834616\n",
            "cost after  900 iteration is :  0.3815146750928026\n"
          ]
        }
      ],
      "source": [
        "#setting up the paramets of my model\n",
        "iterations = 1000\n",
        "learning_rate = 0.01\n",
        "w, b, cost_list = model(X_train, y_train, learning_rate = learning_rate, iterations = iterations)"
      ]
    },
    {
      "cell_type": "markdown",
      "metadata": {
        "id": "vsPxy-_rd0sy"
      },
      "source": [
        "###Cost vs Iteration graph\n",
        "As seen above, the cost is decreasing with more iterations,the graph below visualises that"
      ]
    },
    {
      "cell_type": "code",
      "execution_count": null,
      "metadata": {
        "colab": {
          "base_uri": "https://localhost:8080/",
          "height": 472
        },
        "id": "HMJwO8NLdv3Y",
        "outputId": "33adbfd7-bfec-4f75-d1e0-2a498e062505"
      },
      "outputs": [
        {
          "data": {
            "image/png": "[encoded data removed]",
            "text/plain": [
              "<Figure size 640x480 with 1 Axes>"
            ]
          },
          "metadata": {},
          "output_type": "display_data"
        }
      ],
      "source": [
        "plt.plot(np.arange(iterations), cost_list)\n",
        "plt.title('Cost vs Iteration')\n",
        "plt.xlabel('iterations')\n",
        "plt.ylabel(\"cost function/ error rate\")\n",
        "plt.show()"
      ]
    },
    {
      "cell_type": "code",
      "execution_count": null,
      "metadata": {
        "id": "uuAbWpohfhwh"
      },
      "outputs": [],
      "source": [
        "def predict(X):\n",
        "\n",
        "# Calculating predictions/y_pred.\n",
        "    y_pred= sigmoid(np.dot(X, w) + b)\n",
        "\n",
        "# Empty List to store predictions.\n",
        "    lr_pred = []\n",
        "# if y_hat >= 0.5 --> round up to 1\n",
        "# if y_hat < 0.5 --> round up to 1\n",
        "    lr_pred = [1 if i > 0.5 else 0 for i in y_pred]\n",
        "\n",
        "    return np.array(lr_pred)"
      ]
    },
    {
      "cell_type": "code",
      "execution_count": null,
      "metadata": {
        "id": "mCIKrk8f47ef"
      },
      "outputs": [],
      "source": [
        "def accuracy(y, predictions):\n",
        "    accuracy = np.sum(y == predictions) / len(y)\n",
        "    print (\"Accuracy of the model is : \", round(accuracy, 2))"
      ]
    },
    {
      "cell_type": "code",
      "execution_count": null,
      "metadata": {
        "colab": {
          "base_uri": "https://localhost:8080/"
        },
        "id": "-576pCUC6Si9",
        "outputId": "e26d676e-3065-40d6-dcdb-cf75e4818a8a"
      },
      "outputs": [
        {
          "name": "stdout",
          "output_type": "stream",
          "text": [
            "Accuracy of the model is :  0.85\n"
          ]
        }
      ],
      "source": [
        "accuracy(y, predict(X))"
      ]
    },
    {
      "cell_type": "markdown",
      "metadata": {
        "id": "AIxE32ng942O"
      },
      "source": [
        "5.MODEL IMPROVEMENTS AND HYPERTUNING <br>\n",
        "\n",
        "As seen above, the model's prediction accuracy is at 85% and the model can be approved to predict better.<br>\n",
        "Below the model is improved my hypertuning the following parameters:<br>\n",
        "-Weights and bias randomly chosen<br>\n",
        "-Learning rate to 0.05<br>\n",
        "-Number of iterations 15 000<br>"
      ]
    },
    {
      "cell_type": "code",
      "execution_count": null,
      "metadata": {
        "id": "jZSXR9vqFAQN"
      },
      "outputs": [],
      "source": [
        "def model1 (X, y, learning_rate, iterations):\n",
        "    # X -> Input.\n",
        "    # y -> Actual target value.\n",
        "\n",
        "    # m -> number of training examples\n",
        "    # n -> number of features\n",
        "    m = X.shape[1]\n",
        "    n = X.shape[0]\n",
        "\n",
        "    # Initializing weights and bias with random values above 0.\n",
        "    w = np.random.rand(n, 1)\n",
        "    b = np.random.rand()\n",
        "\n",
        "    # Empty list to store losses.\n",
        "    cost_list = []\n",
        "\n",
        "    for i in range(iterations):\n",
        "        LinearR= np.dot(w.T, X) + b\n",
        "        predictions1= sigmoid(LinearR)\n",
        "\n",
        "        # cost function\n",
        "        cost = -(1/m) * np.sum(y * np.log(predictions1) + (1-y) * np.log(1-predictions1))\n",
        "\n",
        "        # Gradient Descent\n",
        "        dw = (1/m) * np.dot(predictions1 - y, X.T)\n",
        "        db = (1/m) * np.sum(predictions1 - y)\n",
        "\n",
        "        w = w - learning_rate * dw.T\n",
        "        b = b - learning_rate * db\n",
        "\n",
        "        # Keeping track of our cost function value\n",
        "        cost_list.append(cost)\n",
        "\n",
        "        if (i % (iterations / 10) == 0):\n",
        "            print(\"cost after\", i, \"iteration is:\", cost)\n",
        "\n",
        "    return w, b, cost_list\n"
      ]
    },
    {
      "cell_type": "code",
      "execution_count": null,
      "metadata": {
        "id": "_T-N2TPGHLEb"
      },
      "outputs": [],
      "source": [
        "def predict1(X):\n",
        "\n",
        "# Calculating predictions/y_pred.\n",
        "    y_pred1= sigmoid(np.dot(X, w) + b)\n",
        "\n",
        "# Empty List to store predictions.\n",
        "    lr_pred1 = []\n",
        "# if y_hat >= 0.5 --> round up to 1\n",
        "# if y_hat < 0.5 --> round up to 1\n",
        "    lr_pred1 = [1 if i > 0.5 else 0 for i in y_pred1]\n",
        "\n",
        "    return np.array(lr_pred1)"
      ]
    },
    {
      "cell_type": "code",
      "execution_count": null,
      "metadata": {
        "id": "7QfoBeZuHALW"
      },
      "outputs": [],
      "source": [
        "def accuracy1(y, predictions1):\n",
        "    accuracy1 = np.sum(y == predictions1) / len(y)\n",
        "    print (\"Accuracy of the model is : \", round(accuracy1, 2))"
      ]
    },
    {
      "cell_type": "code",
      "execution_count": null,
      "metadata": {
        "colab": {
          "base_uri": "https://localhost:8080/"
        },
        "id": "GaE44JgZ-SvS",
        "outputId": "f61b88e4-40a6-4e03-b6ee-b67113c9cd54"
      },
      "outputs": [
        {
          "name": "stdout",
          "output_type": "stream",
          "text": [
            "cost after 0 iteration is: 2.0705110199485763\n",
            "cost after 1500 iteration is: 0.35612903824893477\n",
            "cost after 3000 iteration is: 0.35601497951446226\n",
            "cost after 4500 iteration is: 0.3560137056438071\n",
            "cost after 6000 iteration is: 0.3560135253134974\n",
            "cost after 7500 iteration is: 0.35601344734840756\n",
            "cost after 9000 iteration is: 0.35601341075624937\n",
            "cost after 10500 iteration is: 0.35601339352038525\n",
            "cost after 12000 iteration is: 0.3560133854007554\n",
            "cost after 13500 iteration is: 0.35601338157571893\n"
          ]
        }
      ],
      "source": [
        "iterations = 15000\n",
        "learning_rate = 0.05\n",
        "w, b, cost_list = model1(X_train, y_train, learning_rate = learning_rate, iterations = iterations)"
      ]
    },
    {
      "cell_type": "code",
      "execution_count": null,
      "metadata": {
        "id": "FOtJHMAuLj_S"
      },
      "outputs": [],
      "source": [
        "y_pred=predict(X)"
      ]
    },
    {
      "cell_type": "code",
      "execution_count": null,
      "metadata": {
        "colab": {
          "base_uri": "https://localhost:8080/"
        },
        "id": "rY5b3ljNBmwa",
        "outputId": "3370c3e3-216c-418a-e76c-473415416eee"
      },
      "outputs": [
        {
          "name": "stdout",
          "output_type": "stream",
          "text": [
            "Accuracy of the model is :  0.86\n"
          ]
        }
      ],
      "source": [
        "accuracy1(y,y_pred)"
      ]
    },
    {
      "cell_type": "markdown",
      "metadata": {
        "id": "gtS17-iwIQki"
      },
      "source": [
        "As seen above, after the hypertuning of parameters the cost(loss function) decreased from 0.38 to 0.35 and the prediction accuracy of the model as slightly improved from 86%"
      ]
    },
    {
      "cell_type": "code",
      "execution_count": null,
      "metadata": {
        "id": "qzUGRO4mKIwA"
      },
      "outputs": [],
      "source": [
        "from sklearn.metrics import confusion_matrix"
      ]
    },
    {
      "cell_type": "code",
      "execution_count": null,
      "metadata": {
        "id": "Z0waH5VtKwTM"
      },
      "outputs": [],
      "source": [
        "conf_matrix = confusion_matrix(y,y_pred)"
      ]
    },
    {
      "cell_type": "code",
      "execution_count": null,
      "metadata": {
        "colab": {
          "base_uri": "https://localhost:8080/"
        },
        "id": "XfnVYIPEL2bZ",
        "outputId": "1dc07a04-4f89-413b-c23f-c07fa31a82b7"
      },
      "outputs": [
        {
          "name": "stdout",
          "output_type": "stream",
          "text": [
            "Confusion Matrix:\n",
            "[[48809  9796]\n",
            " [ 8915 61967]]\n"
          ]
        }
      ],
      "source": [
        "print(\"Confusion Matrix:\")\n",
        "print(conf_matrix)"
      ]
    },
    {
      "cell_type": "markdown",
      "metadata": {
        "id": "79RIAN_9MZ_A"
      },
      "source": [
        "conf_matrix[0, 0] is the count of True Negatives (TN).<br>\n",
        "conf_matrix[0, 1] is the count of False Positives (FP).<br>\n",
        "conf_matrix[1, 0] is the count of False Negatives (FN).<br>\n",
        "conf_matrix[1, 1] is the count of True Positives (TP).<br>"
      ]
    },
    {
      "cell_type": "code",
      "execution_count": null,
      "metadata": {
        "colab": {
          "base_uri": "https://localhost:8080/"
        },
        "id": "5XdgCLpnMBf8",
        "outputId": "44f0423b-f7ef-49c9-9d1c-921647e72980"
      },
      "outputs": [
        {
          "name": "stdout",
          "output_type": "stream",
          "text": [
            "Accuracy: 0.8554990076223868\n",
            "Precision: 0.8634951158675084\n"
          ]
        }
      ],
      "source": [
        "from sklearn.metrics import accuracy_score, precision_score\n",
        "\n",
        "accuracy = accuracy_score(y, y_pred)\n",
        "precision = precision_score(y, y_pred)\n",
        "\n",
        "print(\"Accuracy:\", accuracy)\n",
        "print(\"Precision:\", precision)"
      ]
    },
    {
      "cell_type": "markdown",
      "metadata": {
        "id": "ROatYQO2Kjdx"
      },
      "source": [
        "### 6. Intepretation of results\n",
        "**Model results**\n",
        "The model achieved at most 86% prediction accuracy.Although this is a good score, the results could further be improved by doing a feature selection.\n",
        "Out of the 21 features that were used as a x-variables, some of the could be dropped and only the suitable features could be used to build the model.The use of all 21 features could've caused overfitting hence the model did not improve past 86%.\n",
        "\n",
        "**Confusion metrics**\n",
        "The high precision score means that when the model predicted a customer as satisfied, it is highly likely to be correct. It reflects the model's ability to avoid false positive predictions, making few false positive errors.\n",
        "The high recall means that the model is good at capturing most of the actual satisfied customers and has a low rate of false negatives. It reflects the model's ability to avoid missing satisfied customers.\n",
        "\n",
        "\n",
        "\n",
        "\n",
        "\n",
        "\n",
        "\n",
        "\n",
        "\n",
        "\n"
      ]
    },
    {
      "cell_type": "code",
      "execution_count": null,
      "metadata": {
        "id": "PLiFIwXwNKSZ"
      },
      "outputs": [],
      "source": []
    }
  ],
  "metadata": {
    "colab": {
      "provenance": []
    },
    "kernelspec": {
      "display_name": "Python 3",
      "name": "python3"
    },
    "language_info": {
      "name": "python"
    }
  },
  "nbformat": 4,
  "nbformat_minor": 0
}
