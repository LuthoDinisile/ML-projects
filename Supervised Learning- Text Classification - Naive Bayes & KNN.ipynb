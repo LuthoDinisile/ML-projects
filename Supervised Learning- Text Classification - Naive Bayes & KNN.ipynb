{
 "cells": [
  {
   "cell_type": "markdown",
   "id": "ccf79ca2",
   "metadata": {},
   "source": [
    "# PDAN8411w TASK 2: CLASSIFICATION AND MODEL IMPROVEMENT"
   ]
  },
  {
   "cell_type": "markdown",
   "id": "18c53e95",
   "metadata": {},
   "source": [
    "\n",
    "**Dataset Source:**<br>\n",
    "Qureshi,M.2021. Spam Email, Kaggle.[Online]. Available at: <br>\n",
    "https://www.kaggle.com/datasets/mfaisalqureshi/spam-email/code\n",
    "\n",
    "**Naive Bayes:**<br>\n",
    "Naïve Bayes is a Supervised Learning classification algorithm that is mostly used in text classification. The Naïve Bayes algorithm comes from the Bayes theorem of conditional probability and for text analysis, it calculates the probability of common words being spam/ham given that they have appeared in spam messages before. The reason why this algorithm is ‘Naïve’ is because it treats all word orders the same and does not take into account grammar and/or the way words are arranged. \n",
    "\n",
    "**Why this dataset:**<br>\n",
    "The chosen dataset for this assignment is a SPAM detection dataset,and spam detection is a classification problem. I chose this because, as mentioned above, Naïve Bayes thrives in text classification. Naive Bayes has different classifiers but to build a model with this dataset I will use the Multinomial Naïve Bayes. This classifier is mostly suitable for this dataset as it works well with Imbalanced datasets, and works well with discrete data in text classification (Target variable labeled as 0’s and 1’s). This dataset is imbalanced because there is a significantly low amount of SPAM classification in the target column(‘Category’) than there are non-spam records, which are classified as Ham in this dataset.\n",
    "The Analysis of this dataset aims at classifying received messages as either spam or no spam. Emails and messages are flooded with spam, which more often can be malicious and therefore there’s a great need to have good spam detection models to avoid spam messages/emails and this model aims at achieving that goal.\n",
    "\n",
    "**Libraries**<br>\n",
    "Pandas - To be able to convert this text file dataset into a Dataframe<br>\n",
    "Numpy - For Exploratory Data Analysis<br>\n",
    "Matplotlib and Seaborn - These will be used for the visualisation of the data<br>\n",
    "Scikitlearn - For the Machine Learning (Linear regression) model I will be building<br>\n",
    "Naive bayes (Multinomial) - The actual Naive Bayes Algorithm"
   ]
  },
  {
   "cell_type": "code",
   "execution_count": 135,
   "id": "ad064eff",
   "metadata": {},
   "outputs": [],
   "source": [
    "import pandas as pd\n",
    "import numpy as np\n",
    "import matplotlib.pyplot as plt\n",
    "import seaborn as sns\n",
    "import sklearn as sklearn"
   ]
  },
  {
   "cell_type": "markdown",
   "id": "240fbcee",
   "metadata": {},
   "source": [
    "## 1. GETTING AND MEETING THE DATA\n",
    "First,in this section we load the dataset that we will be working with,the change it into a Dataframe and view what the data looks like."
   ]
  },
  {
   "cell_type": "code",
   "execution_count": 136,
   "id": "4af0d209",
   "metadata": {},
   "outputs": [],
   "source": [
    "#Loading the dataset\n",
    "df=pd.read_csv(\"spam.csv\")"
   ]
  },
  {
   "cell_type": "code",
   "execution_count": 137,
   "id": "5c44a65a",
   "metadata": {},
   "outputs": [],
   "source": [
    "#Converting the dataset into a dataframe\n",
    "spam_data=pd.DataFrame(df)"
   ]
  },
  {
   "cell_type": "code",
   "execution_count": 138,
   "id": "295ac90a",
   "metadata": {},
   "outputs": [
    {
     "data": {
      "text/html": [
       "<div>\n",
       "<style scoped>\n",
       "    .dataframe tbody tr th:only-of-type {\n",
       "        vertical-align: middle;\n",
       "    }\n",
       "\n",
       "    .dataframe tbody tr th {\n",
       "        vertical-align: top;\n",
       "    }\n",
       "\n",
       "    .dataframe thead th {\n",
       "        text-align: right;\n",
       "    }\n",
       "</style>\n",
       "<table border=\"1\" class=\"dataframe\">\n",
       "  <thead>\n",
       "    <tr style=\"text-align: right;\">\n",
       "      <th></th>\n",
       "      <th>Category</th>\n",
       "      <th>Message</th>\n",
       "    </tr>\n",
       "  </thead>\n",
       "  <tbody>\n",
       "    <tr>\n",
       "      <th>0</th>\n",
       "      <td>ham</td>\n",
       "      <td>Go until jurong point, crazy.. Available only ...</td>\n",
       "    </tr>\n",
       "    <tr>\n",
       "      <th>1</th>\n",
       "      <td>ham</td>\n",
       "      <td>Ok lar... Joking wif u oni...</td>\n",
       "    </tr>\n",
       "    <tr>\n",
       "      <th>2</th>\n",
       "      <td>spam</td>\n",
       "      <td>Free entry in 2 a wkly comp to win FA Cup fina...</td>\n",
       "    </tr>\n",
       "    <tr>\n",
       "      <th>3</th>\n",
       "      <td>ham</td>\n",
       "      <td>U dun say so early hor... U c already then say...</td>\n",
       "    </tr>\n",
       "    <tr>\n",
       "      <th>4</th>\n",
       "      <td>ham</td>\n",
       "      <td>Nah I don't think he goes to usf, he lives aro...</td>\n",
       "    </tr>\n",
       "    <tr>\n",
       "      <th>...</th>\n",
       "      <td>...</td>\n",
       "      <td>...</td>\n",
       "    </tr>\n",
       "    <tr>\n",
       "      <th>5567</th>\n",
       "      <td>spam</td>\n",
       "      <td>This is the 2nd time we have tried 2 contact u...</td>\n",
       "    </tr>\n",
       "    <tr>\n",
       "      <th>5568</th>\n",
       "      <td>ham</td>\n",
       "      <td>Will ü b going to esplanade fr home?</td>\n",
       "    </tr>\n",
       "    <tr>\n",
       "      <th>5569</th>\n",
       "      <td>ham</td>\n",
       "      <td>Pity, * was in mood for that. So...any other s...</td>\n",
       "    </tr>\n",
       "    <tr>\n",
       "      <th>5570</th>\n",
       "      <td>ham</td>\n",
       "      <td>The guy did some bitching but I acted like i'd...</td>\n",
       "    </tr>\n",
       "    <tr>\n",
       "      <th>5571</th>\n",
       "      <td>ham</td>\n",
       "      <td>Rofl. Its true to its name</td>\n",
       "    </tr>\n",
       "  </tbody>\n",
       "</table>\n",
       "<p>5572 rows × 2 columns</p>\n",
       "</div>"
      ],
      "text/plain": [
       "     Category                                            Message\n",
       "0         ham  Go until jurong point, crazy.. Available only ...\n",
       "1         ham                      Ok lar... Joking wif u oni...\n",
       "2        spam  Free entry in 2 a wkly comp to win FA Cup fina...\n",
       "3         ham  U dun say so early hor... U c already then say...\n",
       "4         ham  Nah I don't think he goes to usf, he lives aro...\n",
       "...       ...                                                ...\n",
       "5567     spam  This is the 2nd time we have tried 2 contact u...\n",
       "5568      ham               Will ü b going to esplanade fr home?\n",
       "5569      ham  Pity, * was in mood for that. So...any other s...\n",
       "5570      ham  The guy did some bitching but I acted like i'd...\n",
       "5571      ham                         Rofl. Its true to its name\n",
       "\n",
       "[5572 rows x 2 columns]"
      ]
     },
     "execution_count": 138,
     "metadata": {},
     "output_type": "execute_result"
    }
   ],
   "source": [
    "#Meeting the data\n",
    "spam_data"
   ]
  },
  {
   "cell_type": "markdown",
   "id": "8a488c98",
   "metadata": {},
   "source": [
    "## 2. EXPLORATORY DATA ANALYSIS(EDA)\n",
    "In this section we explore the data by looking at the data facts like Info, Describing the data, Unique values, Duplicate values,null values etc. These facts help determine how the data should then be manipulated.\n",
    "Next in the section is the data manipulation based on facts from the EDA, this includes removing duplicated values,dropping null values(if any).\n",
    "Lastly, this section also looks at the visualisation of the data in this datasets.This gives us a better view of how the target column is spread between the different(negative/positive) target values."
   ]
  },
  {
   "cell_type": "code",
   "execution_count": 139,
   "id": "f2409eee",
   "metadata": {},
   "outputs": [
    {
     "data": {
      "text/html": [
       "<div>\n",
       "<style scoped>\n",
       "    .dataframe tbody tr th:only-of-type {\n",
       "        vertical-align: middle;\n",
       "    }\n",
       "\n",
       "    .dataframe tbody tr th {\n",
       "        vertical-align: top;\n",
       "    }\n",
       "\n",
       "    .dataframe thead th {\n",
       "        text-align: right;\n",
       "    }\n",
       "</style>\n",
       "<table border=\"1\" class=\"dataframe\">\n",
       "  <thead>\n",
       "    <tr style=\"text-align: right;\">\n",
       "      <th></th>\n",
       "      <th>Category</th>\n",
       "      <th>Message</th>\n",
       "    </tr>\n",
       "  </thead>\n",
       "  <tbody>\n",
       "    <tr>\n",
       "      <th>count</th>\n",
       "      <td>5572</td>\n",
       "      <td>5572</td>\n",
       "    </tr>\n",
       "    <tr>\n",
       "      <th>unique</th>\n",
       "      <td>2</td>\n",
       "      <td>5157</td>\n",
       "    </tr>\n",
       "    <tr>\n",
       "      <th>top</th>\n",
       "      <td>ham</td>\n",
       "      <td>Sorry, I'll call later</td>\n",
       "    </tr>\n",
       "    <tr>\n",
       "      <th>freq</th>\n",
       "      <td>4825</td>\n",
       "      <td>30</td>\n",
       "    </tr>\n",
       "  </tbody>\n",
       "</table>\n",
       "</div>"
      ],
      "text/plain": [
       "       Category                 Message\n",
       "count      5572                    5572\n",
       "unique        2                    5157\n",
       "top         ham  Sorry, I'll call later\n",
       "freq       4825                      30"
      ]
     },
     "execution_count": 139,
     "metadata": {},
     "output_type": "execute_result"
    }
   ],
   "source": [
    "#dataset description gives a view of what the columns are, how many values are in each column,if there are any unique values,and what the most frequented values is for each column\n",
    "spam_data.describe()"
   ]
  },
  {
   "cell_type": "code",
   "execution_count": 140,
   "id": "a23cbf16",
   "metadata": {},
   "outputs": [
    {
     "name": "stdout",
     "output_type": "stream",
     "text": [
      "<class 'pandas.core.frame.DataFrame'>\n",
      "RangeIndex: 5572 entries, 0 to 5571\n",
      "Data columns (total 2 columns):\n",
      " #   Column    Non-Null Count  Dtype \n",
      "---  ------    --------------  ----- \n",
      " 0   Category  5572 non-null   object\n",
      " 1   Message   5572 non-null   object\n",
      "dtypes: object(2)\n",
      "memory usage: 87.2+ KB\n"
     ]
    }
   ],
   "source": [
    "#dataset info gives an overview of how many rows/entries are in the dataset,what the data types are for each column,and whether or not there are null values.\n",
    "spam_data.info()"
   ]
  },
  {
   "cell_type": "code",
   "execution_count": 141,
   "id": "358f1d77",
   "metadata": {},
   "outputs": [
    {
     "data": {
      "text/plain": [
       "ham     4825\n",
       "spam     747\n",
       "Name: Category, dtype: int64"
      ]
     },
     "execution_count": 141,
     "metadata": {},
     "output_type": "execute_result"
    }
   ],
   "source": [
    "#counting the different values in the Category(target column) to see how many times each value appears.\n",
    "spam_data['Category'].value_counts()"
   ]
  },
  {
   "cell_type": "code",
   "execution_count": 142,
   "id": "8553e492",
   "metadata": {},
   "outputs": [
    {
     "data": {
      "text/plain": [
       "Category       2\n",
       "Message     5157\n",
       "dtype: int64"
      ]
     },
     "execution_count": 142,
     "metadata": {},
     "output_type": "execute_result"
    }
   ],
   "source": [
    "#Showing unique values, this also tell us that there are duplicated values if the unique value count is not equal to the total number of datapoints\n",
    "spam_data.nunique(axis=0)"
   ]
  },
  {
   "cell_type": "code",
   "execution_count": 143,
   "id": "e3b28dde",
   "metadata": {},
   "outputs": [
    {
     "data": {
      "text/plain": [
       "True"
      ]
     },
     "execution_count": 143,
     "metadata": {},
     "output_type": "execute_result"
    }
   ],
   "source": [
    "spam_data.duplicated().values.any()"
   ]
  },
  {
   "cell_type": "code",
   "execution_count": 144,
   "id": "b4403bc5",
   "metadata": {},
   "outputs": [
    {
     "data": {
      "text/plain": [
       "415"
      ]
     },
     "execution_count": 144,
     "metadata": {},
     "output_type": "execute_result"
    }
   ],
   "source": [
    "#As seen above, there are 5157 unique values out of 5572 variables on the Message column,that means that 415 Values are duplicates\n",
    "spam_data.duplicated().sum()"
   ]
  },
  {
   "cell_type": "code",
   "execution_count": 145,
   "id": "28652042",
   "metadata": {},
   "outputs": [
    {
     "data": {
      "text/html": [
       "<div>\n",
       "<style scoped>\n",
       "    .dataframe tbody tr th:only-of-type {\n",
       "        vertical-align: middle;\n",
       "    }\n",
       "\n",
       "    .dataframe tbody tr th {\n",
       "        vertical-align: top;\n",
       "    }\n",
       "\n",
       "    .dataframe thead th {\n",
       "        text-align: right;\n",
       "    }\n",
       "</style>\n",
       "<table border=\"1\" class=\"dataframe\">\n",
       "  <thead>\n",
       "    <tr style=\"text-align: right;\">\n",
       "      <th></th>\n",
       "      <th>Category</th>\n",
       "      <th>Message</th>\n",
       "    </tr>\n",
       "  </thead>\n",
       "  <tbody>\n",
       "    <tr>\n",
       "      <th>103</th>\n",
       "      <td>ham</td>\n",
       "      <td>As per your request 'Melle Melle (Oru Minnamin...</td>\n",
       "    </tr>\n",
       "    <tr>\n",
       "      <th>154</th>\n",
       "      <td>ham</td>\n",
       "      <td>As per your request 'Melle Melle (Oru Minnamin...</td>\n",
       "    </tr>\n",
       "    <tr>\n",
       "      <th>207</th>\n",
       "      <td>ham</td>\n",
       "      <td>As I entered my cabin my PA said, '' Happy B'd...</td>\n",
       "    </tr>\n",
       "    <tr>\n",
       "      <th>223</th>\n",
       "      <td>ham</td>\n",
       "      <td>Sorry, I'll call later</td>\n",
       "    </tr>\n",
       "    <tr>\n",
       "      <th>326</th>\n",
       "      <td>ham</td>\n",
       "      <td>No calls..messages..missed calls</td>\n",
       "    </tr>\n",
       "    <tr>\n",
       "      <th>...</th>\n",
       "      <td>...</td>\n",
       "      <td>...</td>\n",
       "    </tr>\n",
       "    <tr>\n",
       "      <th>5524</th>\n",
       "      <td>spam</td>\n",
       "      <td>You are awarded a SiPix Digital Camera! call 0...</td>\n",
       "    </tr>\n",
       "    <tr>\n",
       "      <th>5535</th>\n",
       "      <td>ham</td>\n",
       "      <td>I know you are thinkin malaria. But relax, chi...</td>\n",
       "    </tr>\n",
       "    <tr>\n",
       "      <th>5539</th>\n",
       "      <td>ham</td>\n",
       "      <td>Just sleeping..and surfing</td>\n",
       "    </tr>\n",
       "    <tr>\n",
       "      <th>5553</th>\n",
       "      <td>ham</td>\n",
       "      <td>Hahaha..use your brain dear</td>\n",
       "    </tr>\n",
       "    <tr>\n",
       "      <th>5558</th>\n",
       "      <td>ham</td>\n",
       "      <td>Sorry, I'll call later</td>\n",
       "    </tr>\n",
       "  </tbody>\n",
       "</table>\n",
       "<p>415 rows × 2 columns</p>\n",
       "</div>"
      ],
      "text/plain": [
       "     Category                                            Message\n",
       "103       ham  As per your request 'Melle Melle (Oru Minnamin...\n",
       "154       ham  As per your request 'Melle Melle (Oru Minnamin...\n",
       "207       ham  As I entered my cabin my PA said, '' Happy B'd...\n",
       "223       ham                             Sorry, I'll call later\n",
       "326       ham                   No calls..messages..missed calls\n",
       "...       ...                                                ...\n",
       "5524     spam  You are awarded a SiPix Digital Camera! call 0...\n",
       "5535      ham  I know you are thinkin malaria. But relax, chi...\n",
       "5539      ham                         Just sleeping..and surfing\n",
       "5553      ham                        Hahaha..use your brain dear\n",
       "5558      ham                             Sorry, I'll call later\n",
       "\n",
       "[415 rows x 2 columns]"
      ]
     },
     "execution_count": 145,
     "metadata": {},
     "output_type": "execute_result"
    }
   ],
   "source": [
    "#showing the duplicate rows\n",
    "duplicates = spam_data[spam_data.duplicated(subset=['Message'])]\n",
    "duplicates"
   ]
  },
  {
   "cell_type": "code",
   "execution_count": 146,
   "id": "fea7f8e6",
   "metadata": {},
   "outputs": [],
   "source": [
    "#Removing duplicates\n",
    "spam_data.drop_duplicates(inplace=True)"
   ]
  },
  {
   "cell_type": "code",
   "execution_count": 147,
   "id": "12d1cb08",
   "metadata": {},
   "outputs": [
    {
     "data": {
      "text/plain": [
       "(5157, 2)"
      ]
     },
     "execution_count": 147,
     "metadata": {},
     "output_type": "execute_result"
    }
   ],
   "source": [
    "spam_data.shape"
   ]
  },
  {
   "cell_type": "code",
   "execution_count": 148,
   "id": "3c226030",
   "metadata": {},
   "outputs": [
    {
     "data": {
      "text/plain": [
       "Category    0\n",
       "Message     0\n",
       "dtype: int64"
      ]
     },
     "execution_count": 148,
     "metadata": {},
     "output_type": "execute_result"
    }
   ],
   "source": [
    "#checking for null values\n",
    "spam_data.isnull().sum()"
   ]
  },
  {
   "cell_type": "code",
   "execution_count": 149,
   "id": "3f2225b8",
   "metadata": {},
   "outputs": [
    {
     "data": {
      "text/plain": [
       "<AxesSubplot:title={'center':'Spam or Ham Statistics'}>"
      ]
     },
     "execution_count": 149,
     "metadata": {},
     "output_type": "execute_result"
    },
    {
     "data": {
      "image/png": "[encoded data removed]",
      "text/plain": [
       "<Figure size 640x480 with 1 Axes>"
      ]
     },
     "metadata": {},
     "output_type": "display_data"
    }
   ],
   "source": [
    "#Visualising the data on a bar plot,looking at how much of the data is spam and how much is not spam.From this bar graph we can clearly see we have more ham than spam,the data is imbalanced.\n",
    "spam_data['Category'].value_counts().plot(kind='bar', title=\"Spam or Ham Statistics\")"
   ]
  },
  {
   "cell_type": "code",
   "execution_count": 150,
   "id": "9de035fe",
   "metadata": {},
   "outputs": [
    {
     "data": {
      "text/plain": [
       "([<matplotlib.patches.Wedge at 0x1c62c105640>,\n",
       "  <matplotlib.patches.Wedge at 0x1c62c105d60>],\n",
       " [Text(-1.017194586770333, 0.41870654717251754, 'ham'),\n",
       "  Text(1.0171945769697988, -0.41870657098167496, 'spam')],\n",
       " [Text(-0.5548334109656361, 0.22838538936682773, '87.57%'),\n",
       "  Text(0.5548334056198901, -0.22838540235364085, '12.43%')])"
      ]
     },
     "execution_count": 150,
     "metadata": {},
     "output_type": "execute_result"
    },
    {
     "data": {
      "image/png": "[encoded data removed]",
      "text/plain": [
       "<Figure size 640x480 with 1 Axes>"
      ]
     },
     "metadata": {},
     "output_type": "display_data"
    }
   ],
   "source": [
    "#We can see from the pie plot below that the ham categry is only a slice out of the whole pie.Spam is only 12% of the dataset\n",
    "plt.pie(spam_data[\"Category\"].value_counts(), labels=[\"ham\", \"spam\"],autopct='%.2f%%')"
   ]
  },
  {
   "cell_type": "markdown",
   "id": "b388c155",
   "metadata": {},
   "source": [
    "## 3. DATA PREPROCESSING\n",
    "In this section we prepare or preprocess the data, getting it ready for the model.\n",
    "Before a model is trained, the data is arranged in a manner that the model can accept.And for this model this is done in the following steps:<br>\n",
    "3.1.The target column(y) and independant column(X) are defined<br>\n",
    "3.2.The target column is of categorical nature,and it's converted to numerical using a Label Encoder<br>\n",
    "3.3.Dataset is split into training and testing sets<br>\n",
    "3.4.Feature Engineering is done on the Categorical column(X) by converting the values into numerical representations using a Vectoriser.\n"
   ]
  },
  {
   "cell_type": "code",
   "execution_count": 151,
   "id": "934338d6",
   "metadata": {},
   "outputs": [],
   "source": [
    "#defining the target column\n",
    "X=spam_data['Message']\n",
    "y=spam_data['Category']"
   ]
  },
  {
   "cell_type": "code",
   "execution_count": 152,
   "id": "b143bb84",
   "metadata": {},
   "outputs": [
    {
     "data": {
      "text/plain": [
       "0       Go until jurong point, crazy.. Available only ...\n",
       "1                           Ok lar... Joking wif u oni...\n",
       "2       Free entry in 2 a wkly comp to win FA Cup fina...\n",
       "3       U dun say so early hor... U c already then say...\n",
       "4       Nah I don't think he goes to usf, he lives aro...\n",
       "                              ...                        \n",
       "5567    This is the 2nd time we have tried 2 contact u...\n",
       "5568                 Will ü b going to esplanade fr home?\n",
       "5569    Pity, * was in mood for that. So...any other s...\n",
       "5570    The guy did some bitching but I acted like i'd...\n",
       "5571                           Rofl. Its true to its name\n",
       "Name: Message, Length: 5157, dtype: object"
      ]
     },
     "execution_count": 152,
     "metadata": {},
     "output_type": "execute_result"
    }
   ],
   "source": [
    "X"
   ]
  },
  {
   "cell_type": "code",
   "execution_count": 153,
   "id": "3b9f9c90",
   "metadata": {},
   "outputs": [
    {
     "data": {
      "text/plain": [
       "0        ham\n",
       "1        ham\n",
       "2       spam\n",
       "3        ham\n",
       "4        ham\n",
       "        ... \n",
       "5567    spam\n",
       "5568     ham\n",
       "5569     ham\n",
       "5570     ham\n",
       "5571     ham\n",
       "Name: Category, Length: 5157, dtype: object"
      ]
     },
     "execution_count": 153,
     "metadata": {},
     "output_type": "execute_result"
    }
   ],
   "source": [
    "y"
   ]
  },
  {
   "cell_type": "code",
   "execution_count": 154,
   "id": "39b285b8",
   "metadata": {},
   "outputs": [],
   "source": [
    "from sklearn.preprocessing import LabelEncoder\n",
    "Encoder = LabelEncoder()"
   ]
  },
  {
   "cell_type": "code",
   "execution_count": 155,
   "id": "5a00bdba",
   "metadata": {},
   "outputs": [],
   "source": [
    "y_encoded=Encoder.fit_transform(y)"
   ]
  },
  {
   "cell_type": "code",
   "execution_count": 156,
   "id": "9fcb65b0",
   "metadata": {},
   "outputs": [
    {
     "data": {
      "text/plain": [
       "array([0, 0, 1, ..., 0, 0, 0])"
      ]
     },
     "execution_count": 156,
     "metadata": {},
     "output_type": "execute_result"
    }
   ],
   "source": [
    "y_encoded"
   ]
  },
  {
   "cell_type": "code",
   "execution_count": 157,
   "id": "128f9ab6",
   "metadata": {},
   "outputs": [
    {
     "data": {
      "text/plain": [
       "(5157,)"
      ]
     },
     "execution_count": 157,
     "metadata": {},
     "output_type": "execute_result"
    }
   ],
   "source": [
    "y_encoded.shape"
   ]
  },
  {
   "cell_type": "code",
   "execution_count": 158,
   "id": "0b20f8c3",
   "metadata": {},
   "outputs": [],
   "source": [
    "#Splitting dataset to training and testing data\n",
    "from sklearn.model_selection import train_test_split\n",
    "X_train,X_test,y_train,y_test=train_test_split(X,y_encoded,test_size=0.25)"
   ]
  },
  {
   "cell_type": "code",
   "execution_count": 159,
   "id": "6de674d8",
   "metadata": {},
   "outputs": [],
   "source": [
    "#Importing vectoriser to convert textual columns into numerical values that can fit into the model.\n",
    "from sklearn.feature_extraction.text import CountVectorizer"
   ]
  },
  {
   "cell_type": "code",
   "execution_count": 160,
   "id": "0017a453",
   "metadata": {},
   "outputs": [],
   "source": [
    "vect=CountVectorizer()"
   ]
  },
  {
   "cell_type": "code",
   "execution_count": 161,
   "id": "e92f1641",
   "metadata": {},
   "outputs": [],
   "source": [
    "#Transforming the X column using the vectoriser\n",
    "vct_Xtrain= vect.fit_transform(X_train)"
   ]
  },
  {
   "cell_type": "code",
   "execution_count": 162,
   "id": "08e896bc",
   "metadata": {},
   "outputs": [],
   "source": [
    "vct_Xtest= vect.transform(X_test)"
   ]
  },
  {
   "cell_type": "markdown",
   "id": "fc7a3e45",
   "metadata": {},
   "source": [
    "## 4. TRAINING A MODEL - NAIVE BAYES(Multinomial)\n",
    "In this section we train the model following the steps below:<br>\n",
    "4.1 Our chosen Naive Bayes algorithm(Multinomial) is imported,and the model is trained.<br>\n",
    "4.2 Two examples are also introduced, 1 being a spam message and another being a non-spam(ham) message and using the trained model to predict this new data.<br>\n",
    "4.3 Training and testing scores are also shown in this section<br>\n",
    "4.4 The performance of the model is assessed using a Classification report<br>"
   ]
  },
  {
   "cell_type": "code",
   "execution_count": 163,
   "id": "a3a5176a",
   "metadata": {},
   "outputs": [],
   "source": [
    "#Importing the algorithm\n",
    "from sklearn.naive_bayes import MultinomialNB\n",
    "MNB=MultinomialNB()"
   ]
  },
  {
   "cell_type": "code",
   "execution_count": 164,
   "id": "088a80e3",
   "metadata": {},
   "outputs": [],
   "source": [
    "#Training the model\n",
    "Training=MNB.fit(vct_Xtrain,y_train)"
   ]
  },
  {
   "cell_type": "code",
   "execution_count": 165,
   "id": "1901cf61",
   "metadata": {},
   "outputs": [
    {
     "data": {
      "text/plain": [
       "0.9937936384794415"
      ]
     },
     "execution_count": 165,
     "metadata": {},
     "output_type": "execute_result"
    }
   ],
   "source": [
    "#Getting the training scores\n",
    "Training_score=Training.score(vct_Xtrain,y_train)\n",
    "Training_score"
   ]
  },
  {
   "cell_type": "code",
   "execution_count": 166,
   "id": "a7f57501",
   "metadata": {},
   "outputs": [],
   "source": [
    "#Introducing new data, example 1(spam)\n",
    "Test_message=['Congratulations,you have been selected for a credit increase,click on the link below to action']"
   ]
  },
  {
   "cell_type": "code",
   "execution_count": 167,
   "id": "1aa42d52",
   "metadata": {},
   "outputs": [],
   "source": [
    "vct_TestMessage=vect.transform(Test_message)"
   ]
  },
  {
   "cell_type": "code",
   "execution_count": 168,
   "id": "3688bf59",
   "metadata": {},
   "outputs": [
    {
     "data": {
      "text/plain": [
       "array([1])"
      ]
     },
     "execution_count": 168,
     "metadata": {},
     "output_type": "execute_result"
    }
   ],
   "source": [
    "MNB.predict(vct_TestMessage)"
   ]
  },
  {
   "cell_type": "code",
   "execution_count": 169,
   "id": "537e1c99",
   "metadata": {},
   "outputs": [],
   "source": [
    "#Example2(ham)\n",
    "Test_msg=['I love you so much, I hope you have a lovely day']"
   ]
  },
  {
   "cell_type": "code",
   "execution_count": 170,
   "id": "48587fe4",
   "metadata": {},
   "outputs": [],
   "source": [
    "vct_TestMsg=vect.transform(Test_msg)"
   ]
  },
  {
   "cell_type": "code",
   "execution_count": 171,
   "id": "ee38ae56",
   "metadata": {},
   "outputs": [
    {
     "data": {
      "text/plain": [
       "array([0])"
      ]
     },
     "execution_count": 171,
     "metadata": {},
     "output_type": "execute_result"
    }
   ],
   "source": [
    "MNB.predict(vct_TestMsg)"
   ]
  },
  {
   "cell_type": "code",
   "execution_count": 172,
   "id": "f1dba656",
   "metadata": {},
   "outputs": [],
   "source": [
    "#Using the model to predict on test data\n",
    "y_prediction =MNB.predict(vct_Xtest)"
   ]
  },
  {
   "cell_type": "code",
   "execution_count": 173,
   "id": "390441c1",
   "metadata": {},
   "outputs": [],
   "source": [
    "#Getting the testing scores\n",
    "from sklearn.metrics import accuracy_score"
   ]
  },
  {
   "cell_type": "code",
   "execution_count": 174,
   "id": "89d1662e",
   "metadata": {},
   "outputs": [
    {
     "data": {
      "text/plain": [
       "0.9790697674418605"
      ]
     },
     "execution_count": 174,
     "metadata": {},
     "output_type": "execute_result"
    }
   ],
   "source": [
    "Testing_score=accuracy_score(y_test, y_prediction)\n",
    "Testing_score"
   ]
  },
  {
   "cell_type": "code",
   "execution_count": 175,
   "id": "8ea1e62d",
   "metadata": {},
   "outputs": [],
   "source": [
    "from sklearn.metrics import classification_report"
   ]
  },
  {
   "cell_type": "code",
   "execution_count": 176,
   "id": "70be2932",
   "metadata": {},
   "outputs": [
    {
     "data": {
      "text/plain": [
       "'              precision    recall  f1-score   support\\n\\n           0       0.98      1.00      0.99      1124\\n           1       0.97      0.87      0.91       166\\n\\n    accuracy                           0.98      1290\\n   macro avg       0.97      0.93      0.95      1290\\nweighted avg       0.98      0.98      0.98      1290\\n'"
      ]
     },
     "execution_count": 176,
     "metadata": {},
     "output_type": "execute_result"
    }
   ],
   "source": [
    "classification_report(y_test, y_prediction)"
   ]
  },
  {
   "cell_type": "markdown",
   "id": "3fae723f",
   "metadata": {},
   "source": [
    "### As seen on the model above, the model has high training and testing scores.It also performed well with the new data that was introduced and predicted it correctly as spam and ham.The classification report above also shows that the precision,recall and f1 score are pretty high.Overall this model is perfoming well."
   ]
  },
  {
   "cell_type": "markdown",
   "id": "dd7776c9",
   "metadata": {},
   "source": [
    "## 5. TRAINING A MODEL -KNN\n",
    "In this section we train the model using the K-Neighbours classifier algorithm.The aim is to compare this algorithm's perfomance with the Naive Bayes's algorithm that was used above.And find the most suitable algrithm for this classification dataset."
   ]
  },
  {
   "cell_type": "code",
   "execution_count": 177,
   "id": "b3d46158",
   "metadata": {},
   "outputs": [],
   "source": [
    "from sklearn.neighbors import KNeighborsClassifier"
   ]
  },
  {
   "cell_type": "code",
   "execution_count": 178,
   "id": "459353f4",
   "metadata": {},
   "outputs": [],
   "source": [
    "knn=KNeighborsClassifier(n_neighbors=5)"
   ]
  },
  {
   "cell_type": "code",
   "execution_count": 179,
   "id": "67345e9a",
   "metadata": {},
   "outputs": [
    {
     "data": {
      "text/plain": [
       "(3867,)"
      ]
     },
     "execution_count": 179,
     "metadata": {},
     "output_type": "execute_result"
    }
   ],
   "source": [
    "X_train.shape"
   ]
  },
  {
   "cell_type": "code",
   "execution_count": 180,
   "id": "9f83c0f1",
   "metadata": {},
   "outputs": [
    {
     "data": {
      "text/plain": [
       "(1290,)"
      ]
     },
     "execution_count": 180,
     "metadata": {},
     "output_type": "execute_result"
    }
   ],
   "source": [
    "X_test.shape"
   ]
  },
  {
   "cell_type": "code",
   "execution_count": 181,
   "id": "0c070f01",
   "metadata": {},
   "outputs": [
    {
     "data": {
      "text/plain": [
       "(5157,)"
      ]
     },
     "execution_count": 181,
     "metadata": {},
     "output_type": "execute_result"
    }
   ],
   "source": [
    "y_encoded.shape"
   ]
  },
  {
   "cell_type": "code",
   "execution_count": 182,
   "id": "c65b237d",
   "metadata": {},
   "outputs": [],
   "source": [
    "TrainingKNN=knn.fit(vct_Xtrain,y_train)"
   ]
  },
  {
   "cell_type": "code",
   "execution_count": 183,
   "id": "03600e37",
   "metadata": {},
   "outputs": [
    {
     "name": "stderr",
     "output_type": "stream",
     "text": [
      "C:\\Users\\Ldinisile\\Anaconda3\\lib\\site-packages\\sklearn\\neighbors\\_classification.py:228: FutureWarning: Unlike other reduction functions (e.g. `skew`, `kurtosis`), the default behavior of `mode` typically preserves the axis it acts along. In SciPy 1.11.0, this behavior will change: the default value of `keepdims` will become False, the `axis` over which the statistic is taken will be eliminated, and the value None will no longer be accepted. Set `keepdims` to True or False to avoid this warning.\n",
      "  mode, _ = stats.mode(_y[neigh_ind, k], axis=1)\n"
     ]
    },
    {
     "data": {
      "text/plain": [
       "0.9288854409102664"
      ]
     },
     "execution_count": 183,
     "metadata": {},
     "output_type": "execute_result"
    }
   ],
   "source": [
    "TrainingKNN.score(vct_Xtrain,y_train)"
   ]
  },
  {
   "cell_type": "code",
   "execution_count": 184,
   "id": "30db7284",
   "metadata": {},
   "outputs": [
    {
     "name": "stderr",
     "output_type": "stream",
     "text": [
      "C:\\Users\\Ldinisile\\Anaconda3\\lib\\site-packages\\sklearn\\neighbors\\_classification.py:228: FutureWarning: Unlike other reduction functions (e.g. `skew`, `kurtosis`), the default behavior of `mode` typically preserves the axis it acts along. In SciPy 1.11.0, this behavior will change: the default value of `keepdims` will become False, the `axis` over which the statistic is taken will be eliminated, and the value None will no longer be accepted. Set `keepdims` to True or False to avoid this warning.\n",
      "  mode, _ = stats.mode(_y[neigh_ind, k], axis=1)\n"
     ]
    }
   ],
   "source": [
    "y_pred = knn.predict(vct_Xtest)"
   ]
  },
  {
   "cell_type": "code",
   "execution_count": 185,
   "id": "5ccdc37e",
   "metadata": {},
   "outputs": [
    {
     "data": {
      "text/plain": [
       "array([0, 0, 0, ..., 0, 0, 0])"
      ]
     },
     "execution_count": 185,
     "metadata": {},
     "output_type": "execute_result"
    }
   ],
   "source": [
    "y_pred"
   ]
  },
  {
   "cell_type": "code",
   "execution_count": 186,
   "id": "e91dedeb",
   "metadata": {},
   "outputs": [],
   "source": [
    "TestingKNN_score=accuracy_score(y_test, y_pred)"
   ]
  },
  {
   "cell_type": "code",
   "execution_count": 187,
   "id": "2dda7696",
   "metadata": {},
   "outputs": [
    {
     "data": {
      "text/plain": [
       "0.9100775193798449"
      ]
     },
     "execution_count": 187,
     "metadata": {},
     "output_type": "execute_result"
    }
   ],
   "source": [
    "TestingKNN_score"
   ]
  },
  {
   "cell_type": "markdown",
   "id": "011fb7e2",
   "metadata": {},
   "source": [
    "### As seen above,the KNN model has a 92% accuracy on this dataset, which is lower that the accuracy of the model built using the Multinomial Naive Bayes.<br>Based on these results,i can conclude that Naive Bayes performs better in text classification and is a better algorithm to use for SPAM detection models."
   ]
  }
 ],
 "metadata": {
  "kernelspec": {
   "display_name": "Python 3 (ipykernel)",
   "language": "python",
   "name": "python3"
  },
  "language_info": {
   "codemirror_mode": {
    "name": "ipython",
    "version": 3
   },
   "file_extension": ".py",
   "mimetype": "text/x-python",
   "name": "python",
   "nbconvert_exporter": "python",
   "pygments_lexer": "ipython3",
   "version": "3.10.10"
  }
 },
 "nbformat": 4,
 "nbformat_minor": 5
}
